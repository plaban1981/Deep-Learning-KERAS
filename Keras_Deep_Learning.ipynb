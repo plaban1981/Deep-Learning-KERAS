{
  "nbformat": 4,
  "nbformat_minor": 0,
  "metadata": {
    "colab": {
      "name": "Keras_Deep_Learning.ipynb",
      "version": "0.3.2",
      "provenance": [],
      "toc_visible": true,
      "include_colab_link": true
    },
    "kernelspec": {
      "name": "python3",
      "display_name": "Python 3"
    }
  },
  "cells": [
    {
      "cell_type": "markdown",
      "metadata": {
        "id": "view-in-github",
        "colab_type": "text"
      },
      "source": [
        "<a href=\"https://colab.research.google.com/github/plaban1981/Deep-Learning-KERAS/blob/master/Keras_Deep_Learning.ipynb\" target=\"_parent\"><img src=\"https://colab.research.google.com/assets/colab-badge.svg\" alt=\"Open In Colab\"/></a>"
      ]
    },
    {
      "cell_type": "markdown",
      "metadata": {
        "id": "JIJDEJEbhOJq",
        "colab_type": "text"
      },
      "source": [
        "## KERAS functional API"
      ]
    },
    {
      "cell_type": "markdown",
      "metadata": {
        "id": "rZE5tRqQjZbr",
        "colab_type": "text"
      },
      "source": [
        "https://github.com/PacktPublishing/Keras-Deep-Learning-Cookbook"
      ]
    },
    {
      "cell_type": "markdown",
      "metadata": {
        "id": "n_DmXn2mmzlf",
        "colab_type": "text"
      },
      "source": [
        "## Image Cassification using KERAS functional api"
      ]
    },
    {
      "cell_type": "markdown",
      "metadata": {
        "id": "HMLjSeq1lH8x",
        "colab_type": "text"
      },
      "source": [
        "## Create Model Instance "
      ]
    },
    {
      "cell_type": "code",
      "metadata": {
        "id": "WdmsthIPgqqR",
        "colab_type": "code",
        "colab": {}
      },
      "source": [
        "from keras.models import Model\n",
        "from keras.layers import Input\n",
        "from keras.layers import Dense\n",
        "from keras.layers import Reshape\n",
        "from keras.layers import Flatten\n",
        "from keras.layers.convolutional import Conv2D\n",
        "from keras.layers.pooling import MaxPooling2D\n",
        "import keras\n",
        "from keras.datasets import mnist"
      ],
      "execution_count": 0,
      "outputs": []
    },
    {
      "cell_type": "code",
      "metadata": {
        "id": "22D9f_18xq9T",
        "colab_type": "code",
        "colab": {}
      },
      "source": [
        "num_classes = 10\n",
        "batch_size = 32\n",
        "epochs = 10\n",
        "batch_size = 128\n",
        "num_classes = 10\n",
        "epochs = 12"
      ],
      "execution_count": 0,
      "outputs": []
    },
    {
      "cell_type": "code",
      "metadata": {
        "id": "GtH98ulMyKZg",
        "colab_type": "code",
        "colab": {}
      },
      "source": [
        "# input image dimensions\n",
        "img_rows, img_cols = 28, 28"
      ],
      "execution_count": 0,
      "outputs": []
    },
    {
      "cell_type": "markdown",
      "metadata": {
        "id": "NYu9vcTJwuFF",
        "colab_type": "text"
      },
      "source": [
        "##  Define Input Layer "
      ]
    },
    {
      "cell_type": "code",
      "metadata": {
        "id": "mWGZECT3xklX",
        "colab_type": "code",
        "colab": {
          "base_uri": "https://localhost:8080/",
          "height": 122
        },
        "outputId": "28f2e56c-0abb-4c28-e977-94b485dfdc8f"
      },
      "source": [
        "input_shape =(28,28)\n",
        "inputs = Input(input_shape)"
      ],
      "execution_count": 4,
      "outputs": [
        {
          "output_type": "stream",
          "text": [
            "WARNING: Logging before flag parsing goes to stderr.\n",
            "W0715 08:39:43.805563 139628960102272 deprecation_wrapper.py:119] From /usr/local/lib/python3.6/dist-packages/keras/backend/tensorflow_backend.py:74: The name tf.get_default_graph is deprecated. Please use tf.compat.v1.get_default_graph instead.\n",
            "\n",
            "W0715 08:39:43.879807 139628960102272 deprecation_wrapper.py:119] From /usr/local/lib/python3.6/dist-packages/keras/backend/tensorflow_backend.py:517: The name tf.placeholder is deprecated. Please use tf.compat.v1.placeholder instead.\n",
            "\n"
          ],
          "name": "stderr"
        }
      ]
    },
    {
      "cell_type": "code",
      "metadata": {
        "id": "PiiTvTodye0K",
        "colab_type": "code",
        "colab": {
          "base_uri": "https://localhost:8080/",
          "height": 34
        },
        "outputId": "7599ff21-615b-4597-8cf0-29be74e2a9a0"
      },
      "source": [
        "inputs"
      ],
      "execution_count": 5,
      "outputs": [
        {
          "output_type": "execute_result",
          "data": {
            "text/plain": [
              "<tf.Tensor 'input_1:0' shape=(?, 28, 28) dtype=float32>"
            ]
          },
          "metadata": {
            "tags": []
          },
          "execution_count": 5
        }
      ]
    },
    {
      "cell_type": "markdown",
      "metadata": {
        "id": "jejPCfYXzwJG",
        "colab_type": "text"
      },
      "source": [
        "## Add another dimension to the input for convolution and reshape the input using Reshape Layer"
      ]
    },
    {
      "cell_type": "code",
      "metadata": {
        "id": "3nRmlGHh1dzv",
        "colab_type": "code",
        "colab": {
          "base_uri": "https://localhost:8080/",
          "height": 34
        },
        "outputId": "7d7ae2f5-e75a-44f1-be08-72a6f4178459"
      },
      "source": [
        "x = Reshape(input_shape +(1,),input_shape= input_shape)(inputs)\n",
        "x"
      ],
      "execution_count": 6,
      "outputs": [
        {
          "output_type": "execute_result",
          "data": {
            "text/plain": [
              "<tf.Tensor 'reshape_1/Reshape:0' shape=(?, 28, 28, 1) dtype=float32>"
            ]
          },
          "metadata": {
            "tags": []
          },
          "execution_count": 6
        }
      ]
    },
    {
      "cell_type": "markdown",
      "metadata": {
        "id": "U41juNfy2gut",
        "colab_type": "text"
      },
      "source": [
        "## Define Convolutional Layer 1"
      ]
    },
    {
      "cell_type": "code",
      "metadata": {
        "id": "C6cYCLHs2kVE",
        "colab_type": "code",
        "colab": {
          "base_uri": "https://localhost:8080/",
          "height": 105
        },
        "outputId": "c6f66499-c65a-4bf6-e0da-5c650a5bd68e"
      },
      "source": [
        "conv1 = Conv2D(16,kernel_size=3,activation='relu')(x)\n",
        "pool1 = MaxPooling2D(pool_size=(2,2))(conv1)"
      ],
      "execution_count": 7,
      "outputs": [
        {
          "output_type": "stream",
          "text": [
            "W0715 09:02:45.064939 139628960102272 deprecation_wrapper.py:119] From /usr/local/lib/python3.6/dist-packages/keras/backend/tensorflow_backend.py:4138: The name tf.random_uniform is deprecated. Please use tf.random.uniform instead.\n",
            "\n",
            "W0715 09:02:45.117720 139628960102272 deprecation_wrapper.py:119] From /usr/local/lib/python3.6/dist-packages/keras/backend/tensorflow_backend.py:3976: The name tf.nn.max_pool is deprecated. Please use tf.nn.max_pool2d instead.\n",
            "\n"
          ],
          "name": "stderr"
        }
      ]
    },
    {
      "cell_type": "markdown",
      "metadata": {
        "id": "UIp_X0Iy4zBx",
        "colab_type": "text"
      },
      "source": [
        "## Define Convolutional Layer 2"
      ]
    },
    {
      "cell_type": "code",
      "metadata": {
        "id": "eDYdpHVM48zJ",
        "colab_type": "code",
        "colab": {}
      },
      "source": [
        "conv2 = Conv2D(32,kernel_size=3,activation='relu')(pool1)\n",
        "pool2 = MaxPooling2D(pool_size=(2,2))(conv2)"
      ],
      "execution_count": 0,
      "outputs": []
    },
    {
      "cell_type": "markdown",
      "metadata": {
        "id": "6OtSRaA48Ezp",
        "colab_type": "text"
      },
      "source": [
        "## Define Flatten Layer"
      ]
    },
    {
      "cell_type": "code",
      "metadata": {
        "id": "HfgfO3db8ahv",
        "colab_type": "code",
        "colab": {}
      },
      "source": [
        "flatten = Flatten()(pool2)"
      ],
      "execution_count": 0,
      "outputs": []
    },
    {
      "cell_type": "markdown",
      "metadata": {
        "id": "FtTUqz2Y84z2",
        "colab_type": "text"
      },
      "source": [
        "## Define Output Layer - number of neurons = 10, since training dataset has 10 classes {0 to 9}"
      ]
    },
    {
      "cell_type": "code",
      "metadata": {
        "id": "1y1Hq7lX88PG",
        "colab_type": "code",
        "colab": {}
      },
      "source": [
        "output = Dense(10,activation='softmax')(flatten)"
      ],
      "execution_count": 0,
      "outputs": []
    },
    {
      "cell_type": "markdown",
      "metadata": {
        "id": "oYs1k_lh-KPm",
        "colab_type": "text"
      },
      "source": [
        "##Create Model"
      ]
    },
    {
      "cell_type": "code",
      "metadata": {
        "id": "YS_Fr6v9-Pus",
        "colab_type": "code",
        "colab": {}
      },
      "source": [
        "model = Model(inputs= inputs,outputs=output)"
      ],
      "execution_count": 0,
      "outputs": []
    },
    {
      "cell_type": "markdown",
      "metadata": {
        "id": "0jWQaX3X-zMU",
        "colab_type": "text"
      },
      "source": [
        "## Model Summary"
      ]
    },
    {
      "cell_type": "code",
      "metadata": {
        "id": "4TPmymtI-1Pl",
        "colab_type": "code",
        "colab": {
          "base_uri": "https://localhost:8080/",
          "height": 408
        },
        "outputId": "24e67f68-2f04-4bed-e853-5789bd0ec54d"
      },
      "source": [
        "model.summary()"
      ],
      "execution_count": 12,
      "outputs": [
        {
          "output_type": "stream",
          "text": [
            "_________________________________________________________________\n",
            "Layer (type)                 Output Shape              Param #   \n",
            "=================================================================\n",
            "input_1 (InputLayer)         (None, 28, 28)            0         \n",
            "_________________________________________________________________\n",
            "reshape_1 (Reshape)          (None, 28, 28, 1)         0         \n",
            "_________________________________________________________________\n",
            "conv2d_1 (Conv2D)            (None, 26, 26, 14)        140       \n",
            "_________________________________________________________________\n",
            "max_pooling2d_1 (MaxPooling2 (None, 13, 13, 14)        0         \n",
            "_________________________________________________________________\n",
            "conv2d_2 (Conv2D)            (None, 11, 11, 32)        4064      \n",
            "_________________________________________________________________\n",
            "max_pooling2d_2 (MaxPooling2 (None, 5, 5, 32)          0         \n",
            "_________________________________________________________________\n",
            "flatten_1 (Flatten)          (None, 800)               0         \n",
            "_________________________________________________________________\n",
            "dense_1 (Dense)              (None, 10)                8010      \n",
            "=================================================================\n",
            "Total params: 12,214\n",
            "Trainable params: 12,214\n",
            "Non-trainable params: 0\n",
            "_________________________________________________________________\n"
          ],
          "name": "stdout"
        }
      ]
    },
    {
      "cell_type": "markdown",
      "metadata": {
        "id": "PdxVSaph_Xm0",
        "colab_type": "text"
      },
      "source": [
        "## Plot Model"
      ]
    },
    {
      "cell_type": "code",
      "metadata": {
        "id": "XrZ__hJK_ZaO",
        "colab_type": "code",
        "colab": {}
      },
      "source": [
        "from keras.utils import plot_model\n",
        "import matplotlib.pyplot as plt\n",
        "plot_model(model, to_file='convolutional_neural_network.png')\n",
        "plt.show()"
      ],
      "execution_count": 0,
      "outputs": []
    },
    {
      "cell_type": "markdown",
      "metadata": {
        "id": "uZ489fHFBP5T",
        "colab_type": "text"
      },
      "source": [
        "## Define optimizers"
      ]
    },
    {
      "cell_type": "code",
      "metadata": {
        "id": "eIONu1zLBO1y",
        "colab_type": "code",
        "colab": {}
      },
      "source": [
        "opt = keras.optimizers.rmsprop(lr=0.0001, decay=1e-6)"
      ],
      "execution_count": 0,
      "outputs": []
    },
    {
      "cell_type": "markdown",
      "metadata": {
        "id": "j0quJ9mnCW6t",
        "colab_type": "text"
      },
      "source": [
        "## Train the model using RMSprop"
      ]
    },
    {
      "cell_type": "code",
      "metadata": {
        "id": "xkKY1CFGCY9S",
        "colab_type": "code",
        "colab": {
          "base_uri": "https://localhost:8080/",
          "height": 105
        },
        "outputId": "1445fc96-6ab9-4515-e5ac-e6af98525fd4"
      },
      "source": [
        "model.compile(loss='categorical_crossentropy',optimizer=opt,metrics=['accuracy'])"
      ],
      "execution_count": 22,
      "outputs": [
        {
          "output_type": "stream",
          "text": [
            "W0715 09:50:59.127001 139628960102272 deprecation_wrapper.py:119] From /usr/local/lib/python3.6/dist-packages/keras/optimizers.py:790: The name tf.train.Optimizer is deprecated. Please use tf.compat.v1.train.Optimizer instead.\n",
            "\n",
            "W0715 09:50:59.144604 139628960102272 deprecation_wrapper.py:119] From /usr/local/lib/python3.6/dist-packages/keras/backend/tensorflow_backend.py:3295: The name tf.log is deprecated. Please use tf.math.log instead.\n",
            "\n"
          ],
          "name": "stderr"
        }
      ]
    },
    {
      "cell_type": "markdown",
      "metadata": {
        "id": "2Ci6UjHOD-n1",
        "colab_type": "text"
      },
      "source": [
        "## train test split data"
      ]
    },
    {
      "cell_type": "code",
      "metadata": {
        "id": "8BJpjgs2ECUk",
        "colab_type": "code",
        "colab": {
          "base_uri": "https://localhost:8080/",
          "height": 51
        },
        "outputId": "2e272150-db2a-4a92-ce4d-0afa6a63fe67"
      },
      "source": [
        "(X_train, y_train), (X_test, y_test) = mnist.load_data()"
      ],
      "execution_count": 24,
      "outputs": [
        {
          "output_type": "stream",
          "text": [
            "Downloading data from https://s3.amazonaws.com/img-datasets/mnist.npz\n",
            "11493376/11490434 [==============================] - 1s 0us/step\n"
          ],
          "name": "stdout"
        }
      ]
    },
    {
      "cell_type": "markdown",
      "metadata": {
        "id": "mWlWvAikFeh0",
        "colab_type": "text"
      },
      "source": [
        "## Convert Labels into Categorical Values "
      ]
    },
    {
      "cell_type": "code",
      "metadata": {
        "id": "x-8jH_RHFd0V",
        "colab_type": "code",
        "colab": {}
      },
      "source": [
        "y_train = keras.utils.to_categorical(y_train, num_classes)\n",
        "y_test = keras.utils.to_categorical(y_test, num_classes)"
      ],
      "execution_count": 0,
      "outputs": []
    },
    {
      "cell_type": "markdown",
      "metadata": {
        "id": "ExbJctAHCx5K",
        "colab_type": "text"
      },
      "source": [
        "## Train the model using training dataset"
      ]
    },
    {
      "cell_type": "code",
      "metadata": {
        "id": "EsVjJ3xAC3GP",
        "colab_type": "code",
        "colab": {
          "base_uri": "https://localhost:8080/",
          "height": 462
        },
        "outputId": "0b704af1-a131-486c-b8bd-8e2c0914162d"
      },
      "source": [
        "hist = model.fit(X_train,y_train,epochs=epochs,batch_size=batch_size,validation_data=(X_test,y_test),verbose=1)"
      ],
      "execution_count": 30,
      "outputs": [
        {
          "output_type": "stream",
          "text": [
            "Train on 60000 samples, validate on 10000 samples\n",
            "Epoch 1/12\n",
            "60000/60000 [==============================] - 27s 453us/step - loss: 0.0803 - acc: 0.9805 - val_loss: 0.1074 - val_acc: 0.9753\n",
            "Epoch 2/12\n",
            "60000/60000 [==============================] - 27s 457us/step - loss: 0.0723 - acc: 0.9825 - val_loss: 0.1081 - val_acc: 0.9757\n",
            "Epoch 3/12\n",
            "60000/60000 [==============================] - 27s 455us/step - loss: 0.0651 - acc: 0.9837 - val_loss: 0.1109 - val_acc: 0.9744\n",
            "Epoch 4/12\n",
            "60000/60000 [==============================] - 27s 455us/step - loss: 0.0598 - acc: 0.9848 - val_loss: 0.0977 - val_acc: 0.9769\n",
            "Epoch 5/12\n",
            "60000/60000 [==============================] - 28s 460us/step - loss: 0.0543 - acc: 0.9861 - val_loss: 0.0949 - val_acc: 0.9777\n",
            "Epoch 6/12\n",
            "60000/60000 [==============================] - 28s 461us/step - loss: 0.0500 - acc: 0.9872 - val_loss: 0.0905 - val_acc: 0.9798\n",
            "Epoch 7/12\n",
            "60000/60000 [==============================] - 28s 459us/step - loss: 0.0464 - acc: 0.9884 - val_loss: 0.0845 - val_acc: 0.9791\n",
            "Epoch 8/12\n",
            "60000/60000 [==============================] - 28s 460us/step - loss: 0.0430 - acc: 0.9891 - val_loss: 0.0900 - val_acc: 0.9800\n",
            "Epoch 9/12\n",
            "60000/60000 [==============================] - 28s 458us/step - loss: 0.0397 - acc: 0.9901 - val_loss: 0.0858 - val_acc: 0.9805\n",
            "Epoch 10/12\n",
            "60000/60000 [==============================] - 28s 459us/step - loss: 0.0369 - acc: 0.9906 - val_loss: 0.0844 - val_acc: 0.9814\n",
            "Epoch 11/12\n",
            "60000/60000 [==============================] - 27s 458us/step - loss: 0.0345 - acc: 0.9916 - val_loss: 0.0807 - val_acc: 0.9816\n",
            "Epoch 12/12\n",
            "60000/60000 [==============================] - 28s 460us/step - loss: 0.0321 - acc: 0.9920 - val_loss: 0.0828 - val_acc: 0.9815\n"
          ],
          "name": "stdout"
        }
      ]
    },
    {
      "cell_type": "markdown",
      "metadata": {
        "id": "UY7daCAZH-gj",
        "colab_type": "text"
      },
      "source": [
        "## evaluate the model"
      ]
    },
    {
      "cell_type": "code",
      "metadata": {
        "id": "OOxuOat-IBF9",
        "colab_type": "code",
        "colab": {
          "base_uri": "https://localhost:8080/",
          "height": 34
        },
        "outputId": "04783f5b-1ee5-430d-f3dc-e796b3d021c5"
      },
      "source": [
        "scores = model.evaluate(X_test,y_test,verbose=1)"
      ],
      "execution_count": 31,
      "outputs": [
        {
          "output_type": "stream",
          "text": [
            "10000/10000 [==============================] - 2s 191us/step\n"
          ],
          "name": "stdout"
        }
      ]
    },
    {
      "cell_type": "code",
      "metadata": {
        "id": "XMmZyfNDITpL",
        "colab_type": "code",
        "colab": {
          "base_uri": "https://localhost:8080/",
          "height": 51
        },
        "outputId": "98f4cf26-6623-4438-ada3-6f0228589bdf"
      },
      "source": [
        "print('Test loss:', scores[0])\n",
        "print('Test accuracy:', scores[1]*100.0)"
      ],
      "execution_count": 35,
      "outputs": [
        {
          "output_type": "stream",
          "text": [
            "Test loss: 0.08277594069611387\n",
            "Test accuracy: 98.15\n"
          ],
          "name": "stdout"
        }
      ]
    },
    {
      "cell_type": "markdown",
      "metadata": {
        "id": "13DNYJR0J2ZP",
        "colab_type": "text"
      },
      "source": [
        "## Visualize Training and Validation Loss"
      ]
    },
    {
      "cell_type": "code",
      "metadata": {
        "id": "msJx01J4J8v8",
        "colab_type": "code",
        "colab": {
          "base_uri": "https://localhost:8080/",
          "height": 281
        },
        "outputId": "3a20d27c-4d89-4944-d880-e55e299f2897"
      },
      "source": [
        "plt.plot(hist.history['loss'],label='Training Loss')\n",
        "plt.plot(hist.history['val_loss'],label='Validation Loss')\n",
        "plt.legend()\n",
        "plt.title('Training Loss VS Validation Loss')\n",
        "plt.show()"
      ],
      "execution_count": 33,
      "outputs": [
        {
          "output_type": "display_data",
          "data": {
            "image/png": "[encoded data removed]",
            "text/plain": [
              "<Figure size 432x288 with 1 Axes>"
            ]
          },
          "metadata": {
            "tags": []
          }
        }
      ]
    },
    {
      "cell_type": "markdown",
      "metadata": {
        "id": "_pNav2YLKVq4",
        "colab_type": "text"
      },
      "source": [
        "## Visualizing Training Accuracy and Validation Accuracy"
      ]
    },
    {
      "cell_type": "code",
      "metadata": {
        "id": "dBLBmYLNKi7b",
        "colab_type": "code",
        "colab": {
          "base_uri": "https://localhost:8080/",
          "height": 281
        },
        "outputId": "1eee1f71-94e3-40e1-b835-e878717dbb58"
      },
      "source": [
        "plt.plot(hist.history['acc'],label='Training Accuracy')\n",
        "plt.plot(hist.history['val_acc'],label='Validation Accuracy')\n",
        "plt.legend()\n",
        "plt.title('Training Accuracy VS Validation Accuracy')\n",
        "plt.show()"
      ],
      "execution_count": 34,
      "outputs": [
        {
          "output_type": "display_data",
          "data": {
            "image/png": "[encoded data removed]",
            "text/plain": [
              "<Figure size 432x288 with 1 Axes>"
            ]
          },
          "metadata": {
            "tags": []
          }
        }
      ]
    }
  ]
}