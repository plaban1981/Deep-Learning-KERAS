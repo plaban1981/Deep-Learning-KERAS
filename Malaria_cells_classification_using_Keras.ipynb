{
  "nbformat": 4,
  "nbformat_minor": 0,
  "metadata": {
    "colab": {
      "name": "Malaria cells classification using Keras.ipynb",
      "version": "0.3.2",
      "provenance": [],
      "include_colab_link": true
    },
    "kernelspec": {
      "name": "python3",
      "display_name": "Python 3"
    },
    "accelerator": "GPU"
  },
  "cells": [
    {
      "cell_type": "markdown",
      "metadata": {
        "id": "view-in-github",
        "colab_type": "text"
      },
      "source": [
        "<a href=\"https://colab.research.google.com/github/plaban1981/Deep-Learning-KERAS/blob/master/Malaria_cells_classification_using_Keras.ipynb\" target=\"_parent\"><img src=\"https://colab.research.google.com/assets/colab-badge.svg\" alt=\"Open In Colab\"/></a>"
      ]
    },
    {
      "cell_type": "code",
      "metadata": {
        "id": "WoDbT844V31O",
        "colab_type": "code",
        "colab": {}
      },
      "source": [
        "\"\"\"\n",
        "#steps to download dataset from Kaggle\n",
        "Please follow the steps below to download and use kaggle data within Google Colab:\n",
        "\n",
        "Go to your account, Scroll to API section and Click Expire API Token to remove previous tokens\n",
        "\n",
        "Click on Create New API Token - It will download kaggle.json file on your machine.\n",
        "\n",
        "Go to your Google Colab project file and run the following commands:\n",
        "\n",
        "1) ! pip install -q kaggle\n",
        "\n",
        "2) from google.colab import files\n",
        "\n",
        "files.upload()\n",
        "\n",
        "Choose the kaggle.json file that you downloaded 3) ! mkdir ~/.kaggle\n",
        "\n",
        "! cp kaggle.json ~/.kaggle/\n",
        "\n",
        "Make directory named kaggle and copy kaggle.json file there. \n",
        "\n",
        "4) ! chmod 600 ~/.kaggle/kaggle.json\n",
        "\n",
        "Change the permissions of the file. \n",
        "\n",
        "5) ! kaggle datasets list\n",
        "\n",
        "That's all ! You can check if everything's okay by running this command. Download Data \n",
        "\n",
        "! kaggle competitions download -c 'name-of-competition'\n",
        "!kaggle datasets download -d iarunava/cell-images-for-detecting-malaria\n",
        "\n",
        "Use unzip command to unzip the data:\n",
        "\n",
        "For example,\n",
        "\n",
        "Create a directory named train,\n",
        "\n",
        "! mkdir train\n",
        "\n",
        "unzip train data there,\n",
        "\n",
        "! unzip cell-images-for-detecting-malaria.zip\n",
        "\n",
        "\"\"\""
      ],
      "execution_count": 0,
      "outputs": []
    },
    {
      "cell_type": "code",
      "metadata": {
        "id": "nL4YS9zJWrRH",
        "colab_type": "code",
        "colab": {}
      },
      "source": [
        "import os\n",
        "# Directory with our Parasitized pictures\n",
        "train_para_dir = os.path.join('cell_images/Parasitized')\n",
        "\n",
        "# Directory with our uninfected pictures\n",
        "train_unin_dir = os.path.join('cell_images/Uninfected')"
      ],
      "execution_count": 0,
      "outputs": []
    },
    {
      "cell_type": "markdown",
      "metadata": {
        "id": "_LgNnkoFW2iA",
        "colab_type": "text"
      },
      "source": [
        "**Import libraries**"
      ]
    },
    {
      "cell_type": "code",
      "metadata": {
        "id": "fRzx1y9uWzIu",
        "colab_type": "code",
        "colab": {}
      },
      "source": [
        "import numpy as np\n",
        "np.random.seed(1000)\n",
        "import pandas as pd\n",
        "import matplotlib.pyplot as plt\n",
        "%matplotlib inline\n",
        "\n",
        "from sklearn.model_selection import train_test_split"
      ],
      "execution_count": 0,
      "outputs": []
    },
    {
      "cell_type": "code",
      "metadata": {
        "id": "YOQkT6OhW82G",
        "colab_type": "code",
        "outputId": "21ad5d23-2b97-4303-a001-7e9be2958a37",
        "colab": {
          "base_uri": "https://localhost:8080/",
          "height": 34
        }
      },
      "source": [
        "import keras\n",
        "from keras.models import Sequential\n",
        "from keras.layers import Convolution2D, MaxPooling2D, Flatten, Dense, BatchNormalization, Dropout"
      ],
      "execution_count": 11,
      "outputs": [
        {
          "output_type": "stream",
          "text": [
            "Using TensorFlow backend.\n"
          ],
          "name": "stderr"
        }
      ]
    },
    {
      "cell_type": "code",
      "metadata": {
        "id": "NEFnouZ5XSPR",
        "colab_type": "code",
        "colab": {}
      },
      "source": [
        "import os\n",
        "import cv2\n",
        "from PIL import Image"
      ],
      "execution_count": 0,
      "outputs": []
    },
    {
      "cell_type": "code",
      "metadata": {
        "id": "S_gBhProZTDh",
        "colab_type": "code",
        "colab": {}
      },
      "source": [
        "dataset = []\n",
        "label = []"
      ],
      "execution_count": 0,
      "outputs": []
    },
    {
      "cell_type": "markdown",
      "metadata": {
        "id": "u-h_4aETYldf",
        "colab_type": "text"
      },
      "source": [
        "**Parasitized cell images**\n",
        "I iterate through all images in the Parasitized folder. I check if the file extension of the file being read is png. I then resize the image to 64x64 and then save it to the dataset variable as numpy array. The label for this is set as 0."
      ]
    },
    {
      "cell_type": "code",
      "metadata": {
        "id": "5vguLO6IZod8",
        "colab_type": "code",
        "outputId": "9903907e-4670-457d-b0b3-26995cddb5a2",
        "colab": {
          "base_uri": "https://localhost:8080/",
          "height": 34
        }
      },
      "source": [
        "for i in os.listdir(train_para_dir):\n",
        "  print(i.split(\".\")[1])\n",
        "  break"
      ],
      "execution_count": 14,
      "outputs": [
        {
          "output_type": "stream",
          "text": [
            "png\n"
          ],
          "name": "stdout"
        }
      ]
    },
    {
      "cell_type": "code",
      "metadata": {
        "id": "wgUSDEffa-w3",
        "colab_type": "code",
        "outputId": "054f0982-ad60-4a39-ef37-41722aefebf7",
        "colab": {
          "base_uri": "https://localhost:8080/",
          "height": 34
        }
      },
      "source": [
        "train_para_dir"
      ],
      "execution_count": 15,
      "outputs": [
        {
          "output_type": "execute_result",
          "data": {
            "text/plain": [
              "'cell_images/Parasitized'"
            ]
          },
          "metadata": {
            "tags": []
          },
          "execution_count": 15
        }
      ]
    },
    {
      "cell_type": "code",
      "metadata": {
        "id": "c2yVZE2bYk5E",
        "colab_type": "code",
        "colab": {}
      },
      "source": [
        "parasitized_images = os.listdir(train_para_dir)\n",
        "for i, image_name in enumerate(parasitized_images):\n",
        "    try:\n",
        "        if (image_name.split('.')[1] == 'png'):\n",
        "            image = cv2.imread(train_para_dir+\"/\"+image_name)\n",
        "            image = Image.fromarray(image, 'RGB')\n",
        "            image = image.resize((64, 64))\n",
        "            dataset.append(np.array(image))\n",
        "            label.append(0)\n",
        "    except Exception:\n",
        "        print(\"Could not read image {} with name {}\".format(i, image_name))"
      ],
      "execution_count": 0,
      "outputs": []
    },
    {
      "cell_type": "markdown",
      "metadata": {
        "id": "0FQSgM48cBgN",
        "colab_type": "text"
      },
      "source": [
        "**Uninfected cell images**\n",
        "I iterate through all images in the Uninfected folder. I check if the file extension of the file being read is png. I then resize the image to 64x64 and then save it to the dataset variable as numpy array. The label for this is set as 1"
      ]
    },
    {
      "cell_type": "code",
      "metadata": {
        "id": "zU0PAa8qcaen",
        "colab_type": "code",
        "outputId": "f77f76bf-8567-4fd7-f1b5-f8aca9b5c76c",
        "colab": {
          "base_uri": "https://localhost:8080/",
          "height": 34
        }
      },
      "source": [
        "train_unin_dir"
      ],
      "execution_count": 17,
      "outputs": [
        {
          "output_type": "execute_result",
          "data": {
            "text/plain": [
              "'cell_images/Uninfected'"
            ]
          },
          "metadata": {
            "tags": []
          },
          "execution_count": 17
        }
      ]
    },
    {
      "cell_type": "code",
      "metadata": {
        "id": "-pGHtneFbdhC",
        "colab_type": "code",
        "colab": {}
      },
      "source": [
        "uninfected_images = os.listdir(train_unin_dir)\n",
        "for i, image_name in enumerate(uninfected_images):\n",
        "    try:\n",
        "        if (image_name.split('.')[1] == 'png'):\n",
        "            image = cv2.imread(train_unin_dir + '/' + image_name)\n",
        "            image = Image.fromarray(image, 'RGB')\n",
        "            image = image.resize((64, 64))\n",
        "            dataset.append(np.array(image))\n",
        "            label.append(1)\n",
        "    except Exception:\n",
        "        print(\"Could not read image {} with name {}\".format(i, image_name))"
      ],
      "execution_count": 0,
      "outputs": []
    },
    {
      "cell_type": "markdown",
      "metadata": {
        "id": "P9zJQz8Ncj2w",
        "colab_type": "text"
      },
      "source": [
        "**Visualize data**"
      ]
    },
    {
      "cell_type": "markdown",
      "metadata": {
        "id": "Pih_NqVgclO3",
        "colab_type": "text"
      },
      "source": [
        "**Parasitized images**\n",
        "Randomly select 5 values from the number of parasitized images and then display them in a row."
      ]
    },
    {
      "cell_type": "code",
      "metadata": {
        "id": "iutGKW8OcsFs",
        "colab_type": "code",
        "outputId": "0cc97724-474e-49e1-adfa-671c9741f069",
        "colab": {
          "base_uri": "https://localhost:8080/",
          "height": 264
        }
      },
      "source": [
        "plt.figure(figsize = (20, 12))\n",
        "\n",
        "for i , image_index in enumerate(np.random.randint(len(parasitized_images),size=5)):\n",
        "  plt.subplot(1,5,i  + 1)\n",
        "  plt.imshow(dataset[image_index])"
      ],
      "execution_count": 19,
      "outputs": [
        {
          "output_type": "display_data",
          "data": {
            "image/png": "[encoded data removed]",
            "text/plain": [
              "<Figure size 1440x864 with 5 Axes>"
            ]
          },
          "metadata": {
            "tags": []
          }
        }
      ]
    },
    {
      "cell_type": "markdown",
      "metadata": {
        "id": "QFlPMUMQd3kK",
        "colab_type": "text"
      },
      "source": [
        "**Uninfected images**\n",
        "we randomly select 5 values from the number of uninfected images and then display them in a row. \n",
        "\n",
        "we add the count of images of parasitized images to these index such that I am now showing images with label 1."
      ]
    },
    {
      "cell_type": "code",
      "metadata": {
        "id": "2ivGBUl9d_Bh",
        "colab_type": "code",
        "outputId": "c8fb973e-8511-4fbc-b5e7-17142a4b7a0b",
        "colab": {
          "base_uri": "https://localhost:8080/",
          "height": 264
        }
      },
      "source": [
        "plt.figure(figsize = (20, 12))\n",
        "\n",
        "for i,image_index in enumerate(np.random.randint(len(uninfected_images),size=5)):\n",
        "  plt.subplot(1,5,i+1)\n",
        "  plt.imshow(dataset[len(parasitized_images) + image_index])"
      ],
      "execution_count": 20,
      "outputs": [
        {
          "output_type": "display_data",
          "data": {
            "image/png": "[encoded data removed]",
            "text/plain": [
              "<Figure size 1440x864 with 5 Axes>"
            ]
          },
          "metadata": {
            "tags": []
          }
        }
      ]
    },
    {
      "cell_type": "markdown",
      "metadata": {
        "id": "mgBZxmGCe4ki",
        "colab_type": "text"
      },
      "source": [
        "**Applying CNN**\n",
        "\n",
        "Convolutional Neural Networks with 2 Convolutional Layers followed by 2 Dense layers."
      ]
    },
    {
      "cell_type": "markdown",
      "metadata": {
        "id": "GHWj08-EfLw5",
        "colab_type": "text"
      },
      "source": [
        "**Build the classifier**"
      ]
    },
    {
      "cell_type": "code",
      "metadata": {
        "id": "ip7-H2nhe980",
        "colab_type": "code",
        "colab": {
          "base_uri": "https://localhost:8080/",
          "height": 428
        },
        "outputId": "28d54c47-c82b-43d7-ab6c-be26062109de"
      },
      "source": [
        "classifier = None\n",
        "classifier = Sequential()\n",
        "#Convolutional layer 1\n",
        "classifier.add(Convolution2D(32,(3,3),input_shape=(64,64,3),activation='relu'))\n",
        "classifier.add(MaxPooling2D(pool_size=(2,2)))\n",
        "classifier.add(BatchNormalization(axis=-1))\n",
        "classifier.add(Dropout(0.2))\n",
        "\n",
        "#Convolutional layer 2\n",
        "classifier.add(Convolution2D(32,(3,3),activation='relu'))\n",
        "classifier.add(MaxPooling2D(pool_size=(2,2)))\n",
        "classifier.add(BatchNormalization(axis=-1))\n",
        "classifier.add(Dropout(0.2))\n",
        "\n",
        "\n",
        "classifier.add(Flatten())\n",
        "\n",
        "#Dense Layer 1\n",
        "classifier.add(Dense(activation = 'relu', units=512))\n",
        "classifier.add(BatchNormalization(axis = -1))\n",
        "classifier.add(Dropout(0.2))\n",
        "\n",
        "#Dense Layer 2\n",
        "classifier.add(Dense(activation='relu',units=256))\n",
        "classifier.add(BatchNormalization(axis=-1))\n",
        "classifier.add(Dropout(0.2))\n",
        "\n",
        "#Final Output Layer\n",
        "classifier.add(Dense(activation='sigmoid',units=2))\n",
        "\n",
        "classifier.compile(optimizer='adam',loss='binary_crossentropy',metrics=['accuracy'])"
      ],
      "execution_count": 21,
      "outputs": [
        {
          "output_type": "stream",
          "text": [
            "WARNING: Logging before flag parsing goes to stderr.\n",
            "W0716 06:49:31.311030 140063435859840 deprecation_wrapper.py:119] From /usr/local/lib/python3.6/dist-packages/keras/backend/tensorflow_backend.py:74: The name tf.get_default_graph is deprecated. Please use tf.compat.v1.get_default_graph instead.\n",
            "\n",
            "W0716 06:49:31.363292 140063435859840 deprecation_wrapper.py:119] From /usr/local/lib/python3.6/dist-packages/keras/backend/tensorflow_backend.py:517: The name tf.placeholder is deprecated. Please use tf.compat.v1.placeholder instead.\n",
            "\n",
            "W0716 06:49:31.372585 140063435859840 deprecation_wrapper.py:119] From /usr/local/lib/python3.6/dist-packages/keras/backend/tensorflow_backend.py:4138: The name tf.random_uniform is deprecated. Please use tf.random.uniform instead.\n",
            "\n",
            "W0716 06:49:31.406530 140063435859840 deprecation_wrapper.py:119] From /usr/local/lib/python3.6/dist-packages/keras/backend/tensorflow_backend.py:3976: The name tf.nn.max_pool is deprecated. Please use tf.nn.max_pool2d instead.\n",
            "\n",
            "W0716 06:49:31.425400 140063435859840 deprecation_wrapper.py:119] From /usr/local/lib/python3.6/dist-packages/keras/backend/tensorflow_backend.py:174: The name tf.get_default_session is deprecated. Please use tf.compat.v1.get_default_session instead.\n",
            "\n",
            "W0716 06:49:31.426581 140063435859840 deprecation_wrapper.py:119] From /usr/local/lib/python3.6/dist-packages/keras/backend/tensorflow_backend.py:181: The name tf.ConfigProto is deprecated. Please use tf.compat.v1.ConfigProto instead.\n",
            "\n",
            "W0716 06:49:34.272177 140063435859840 deprecation_wrapper.py:119] From /usr/local/lib/python3.6/dist-packages/keras/backend/tensorflow_backend.py:1834: The name tf.nn.fused_batch_norm is deprecated. Please use tf.compat.v1.nn.fused_batch_norm instead.\n",
            "\n",
            "W0716 06:49:34.362762 140063435859840 deprecation.py:506] From /usr/local/lib/python3.6/dist-packages/keras/backend/tensorflow_backend.py:3445: calling dropout (from tensorflow.python.ops.nn_ops) with keep_prob is deprecated and will be removed in a future version.\n",
            "Instructions for updating:\n",
            "Please use `rate` instead of `keep_prob`. Rate should be set to `rate = 1 - keep_prob`.\n",
            "W0716 06:49:34.889522 140063435859840 deprecation_wrapper.py:119] From /usr/local/lib/python3.6/dist-packages/keras/optimizers.py:790: The name tf.train.Optimizer is deprecated. Please use tf.compat.v1.train.Optimizer instead.\n",
            "\n",
            "W0716 06:49:34.920521 140063435859840 deprecation.py:323] From /usr/local/lib/python3.6/dist-packages/tensorflow/python/ops/nn_impl.py:180: add_dispatch_support.<locals>.wrapper (from tensorflow.python.ops.array_ops) is deprecated and will be removed in a future version.\n",
            "Instructions for updating:\n",
            "Use tf.where in 2.0, which has the same broadcast rule as np.where\n"
          ],
          "name": "stderr"
        }
      ]
    },
    {
      "cell_type": "code",
      "metadata": {
        "id": "zhHpaY4Tkdfr",
        "colab_type": "code",
        "outputId": "f6390cd2-1066-4c38-e00a-59322cf5fc37",
        "colab": {
          "base_uri": "https://localhost:8080/",
          "height": 680
        }
      },
      "source": [
        "classifier.summary()"
      ],
      "execution_count": 22,
      "outputs": [
        {
          "output_type": "stream",
          "text": [
            "_________________________________________________________________\n",
            "Layer (type)                 Output Shape              Param #   \n",
            "=================================================================\n",
            "conv2d_1 (Conv2D)            (None, 62, 62, 32)        896       \n",
            "_________________________________________________________________\n",
            "max_pooling2d_1 (MaxPooling2 (None, 31, 31, 32)        0         \n",
            "_________________________________________________________________\n",
            "batch_normalization_1 (Batch (None, 31, 31, 32)        128       \n",
            "_________________________________________________________________\n",
            "dropout_1 (Dropout)          (None, 31, 31, 32)        0         \n",
            "_________________________________________________________________\n",
            "conv2d_2 (Conv2D)            (None, 29, 29, 32)        9248      \n",
            "_________________________________________________________________\n",
            "max_pooling2d_2 (MaxPooling2 (None, 14, 14, 32)        0         \n",
            "_________________________________________________________________\n",
            "batch_normalization_2 (Batch (None, 14, 14, 32)        128       \n",
            "_________________________________________________________________\n",
            "dropout_2 (Dropout)          (None, 14, 14, 32)        0         \n",
            "_________________________________________________________________\n",
            "flatten_1 (Flatten)          (None, 6272)              0         \n",
            "_________________________________________________________________\n",
            "dense_1 (Dense)              (None, 512)               3211776   \n",
            "_________________________________________________________________\n",
            "batch_normalization_3 (Batch (None, 512)               2048      \n",
            "_________________________________________________________________\n",
            "dropout_3 (Dropout)          (None, 512)               0         \n",
            "_________________________________________________________________\n",
            "dense_2 (Dense)              (None, 256)               131328    \n",
            "_________________________________________________________________\n",
            "batch_normalization_4 (Batch (None, 256)               1024      \n",
            "_________________________________________________________________\n",
            "dropout_4 (Dropout)          (None, 256)               0         \n",
            "_________________________________________________________________\n",
            "dense_3 (Dense)              (None, 2)                 514       \n",
            "=================================================================\n",
            "Total params: 3,357,090\n",
            "Trainable params: 3,355,426\n",
            "Non-trainable params: 1,664\n",
            "_________________________________________________________________\n"
          ],
          "name": "stdout"
        }
      ]
    },
    {
      "cell_type": "markdown",
      "metadata": {
        "id": "I2kmT6dgkm5i",
        "colab_type": "text"
      },
      "source": [
        "**Split the dataset**\n",
        "\n",
        "I split the dataset into training and testing dataset.\n",
        "\n",
        "Training data: 80%\n",
        "Testing data: 20%\n"
      ]
    },
    {
      "cell_type": "code",
      "metadata": {
        "id": "bia_dYgIkhcl",
        "colab_type": "code",
        "colab": {}
      },
      "source": [
        "from keras.utils import to_categorical\n",
        "\n",
        "X_train,X_test,y_train,y_test = train_test_split(dataset,to_categorical(np.array(label)),test_size=0.2,random_state=1)"
      ],
      "execution_count": 0,
      "outputs": []
    },
    {
      "cell_type": "markdown",
      "metadata": {
        "id": "QJMZq113lRUr",
        "colab_type": "text"
      },
      "source": [
        "**Training the model**"
      ]
    },
    {
      "cell_type": "code",
      "metadata": {
        "id": "-z4_pbsNlIyD",
        "colab_type": "code",
        "outputId": "1105d303-6502-4414-ffbe-300463fa3291",
        "colab": {
          "base_uri": "https://localhost:8080/",
          "height": 1000
        }
      },
      "source": [
        "history = classifier.fit(np.array(X_train),y_train,batch_size=64,verbose=2,epochs=50,validation_split=0.1,shuffle=False)"
      ],
      "execution_count": 24,
      "outputs": [
        {
          "output_type": "stream",
          "text": [
            "Train on 19841 samples, validate on 2205 samples\n",
            "Epoch 1/50\n",
            " - 12s - loss: 0.4132 - acc: 0.8140 - val_loss: 2.8813 - val_acc: 0.5989\n",
            "Epoch 2/50\n",
            " - 8s - loss: 0.2168 - acc: 0.9199 - val_loss: 0.5070 - val_acc: 0.8249\n",
            "Epoch 3/50\n",
            " - 8s - loss: 0.1883 - acc: 0.9306 - val_loss: 0.6488 - val_acc: 0.8433\n",
            "Epoch 4/50\n",
            " - 8s - loss: 0.1665 - acc: 0.9400 - val_loss: 0.3192 - val_acc: 0.9061\n",
            "Epoch 5/50\n",
            " - 8s - loss: 0.1478 - acc: 0.9457 - val_loss: 0.3237 - val_acc: 0.9066\n",
            "Epoch 6/50\n",
            " - 8s - loss: 0.1280 - acc: 0.9548 - val_loss: 0.2421 - val_acc: 0.9218\n",
            "Epoch 7/50\n",
            " - 8s - loss: 0.1108 - acc: 0.9606 - val_loss: 0.2419 - val_acc: 0.9220\n",
            "Epoch 8/50\n",
            " - 8s - loss: 0.0945 - acc: 0.9658 - val_loss: 0.2125 - val_acc: 0.9317\n",
            "Epoch 9/50\n",
            " - 8s - loss: 0.0796 - acc: 0.9705 - val_loss: 0.2407 - val_acc: 0.9410\n",
            "Epoch 10/50\n",
            " - 8s - loss: 0.0677 - acc: 0.9759 - val_loss: 0.2883 - val_acc: 0.9342\n",
            "Epoch 11/50\n",
            " - 8s - loss: 0.0563 - acc: 0.9803 - val_loss: 0.2454 - val_acc: 0.9435\n",
            "Epoch 12/50\n",
            " - 8s - loss: 0.0483 - acc: 0.9829 - val_loss: 0.2305 - val_acc: 0.9340\n",
            "Epoch 13/50\n",
            " - 8s - loss: 0.0418 - acc: 0.9851 - val_loss: 0.2538 - val_acc: 0.9293\n",
            "Epoch 14/50\n",
            " - 8s - loss: 0.0392 - acc: 0.9862 - val_loss: 0.2461 - val_acc: 0.9259\n",
            "Epoch 15/50\n",
            " - 8s - loss: 0.0291 - acc: 0.9897 - val_loss: 0.2369 - val_acc: 0.9433\n",
            "Epoch 16/50\n",
            " - 8s - loss: 0.0249 - acc: 0.9908 - val_loss: 0.4373 - val_acc: 0.9188\n",
            "Epoch 17/50\n",
            " - 8s - loss: 0.0240 - acc: 0.9912 - val_loss: 0.3517 - val_acc: 0.9349\n",
            "Epoch 18/50\n",
            " - 8s - loss: 0.0216 - acc: 0.9922 - val_loss: 0.3302 - val_acc: 0.9435\n",
            "Epoch 19/50\n",
            " - 8s - loss: 0.0201 - acc: 0.9929 - val_loss: 0.2838 - val_acc: 0.9367\n",
            "Epoch 20/50\n",
            " - 8s - loss: 0.0206 - acc: 0.9927 - val_loss: 0.2893 - val_acc: 0.9451\n",
            "Epoch 21/50\n",
            " - 8s - loss: 0.0138 - acc: 0.9948 - val_loss: 0.2961 - val_acc: 0.9497\n",
            "Epoch 22/50\n",
            " - 8s - loss: 0.0129 - acc: 0.9955 - val_loss: 0.3418 - val_acc: 0.9413\n",
            "Epoch 23/50\n",
            " - 8s - loss: 0.0170 - acc: 0.9938 - val_loss: 0.2880 - val_acc: 0.9451\n",
            "Epoch 24/50\n",
            " - 8s - loss: 0.0135 - acc: 0.9957 - val_loss: 0.2433 - val_acc: 0.9370\n",
            "Epoch 25/50\n",
            " - 8s - loss: 0.0159 - acc: 0.9947 - val_loss: 0.3057 - val_acc: 0.9390\n",
            "Epoch 26/50\n",
            " - 8s - loss: 0.0117 - acc: 0.9959 - val_loss: 0.3264 - val_acc: 0.9488\n",
            "Epoch 27/50\n",
            " - 8s - loss: 0.0125 - acc: 0.9959 - val_loss: 0.3181 - val_acc: 0.9474\n",
            "Epoch 28/50\n",
            " - 8s - loss: 0.0110 - acc: 0.9962 - val_loss: 0.3232 - val_acc: 0.9331\n",
            "Epoch 29/50\n",
            " - 8s - loss: 0.0142 - acc: 0.9954 - val_loss: 0.3221 - val_acc: 0.9485\n",
            "Epoch 30/50\n",
            " - 8s - loss: 0.0086 - acc: 0.9973 - val_loss: 0.2994 - val_acc: 0.9465\n",
            "Epoch 31/50\n",
            " - 8s - loss: 0.0148 - acc: 0.9946 - val_loss: 0.3761 - val_acc: 0.9229\n",
            "Epoch 32/50\n",
            " - 8s - loss: 0.0119 - acc: 0.9960 - val_loss: 0.3975 - val_acc: 0.9372\n",
            "Epoch 33/50\n",
            " - 8s - loss: 0.0149 - acc: 0.9946 - val_loss: 0.3085 - val_acc: 0.9490\n",
            "Epoch 34/50\n",
            " - 8s - loss: 0.0083 - acc: 0.9973 - val_loss: 0.2950 - val_acc: 0.9522\n",
            "Epoch 35/50\n",
            " - 8s - loss: 0.0061 - acc: 0.9979 - val_loss: 0.3273 - val_acc: 0.9433\n",
            "Epoch 36/50\n",
            " - 8s - loss: 0.0060 - acc: 0.9982 - val_loss: 0.3462 - val_acc: 0.9410\n",
            "Epoch 37/50\n",
            " - 8s - loss: 0.0065 - acc: 0.9982 - val_loss: 0.3569 - val_acc: 0.9463\n",
            "Epoch 38/50\n",
            " - 8s - loss: 0.0112 - acc: 0.9963 - val_loss: 0.3419 - val_acc: 0.9460\n",
            "Epoch 39/50\n",
            " - 8s - loss: 0.0095 - acc: 0.9971 - val_loss: 0.3893 - val_acc: 0.9481\n",
            "Epoch 40/50\n",
            " - 8s - loss: 0.0090 - acc: 0.9974 - val_loss: 0.3371 - val_acc: 0.9501\n",
            "Epoch 41/50\n",
            " - 8s - loss: 0.0088 - acc: 0.9972 - val_loss: 0.3362 - val_acc: 0.9546\n",
            "Epoch 42/50\n",
            " - 8s - loss: 0.0072 - acc: 0.9975 - val_loss: 0.3629 - val_acc: 0.9442\n",
            "Epoch 43/50\n",
            " - 8s - loss: 0.0066 - acc: 0.9976 - val_loss: 0.3309 - val_acc: 0.9476\n",
            "Epoch 44/50\n",
            " - 8s - loss: 0.0088 - acc: 0.9971 - val_loss: 0.3098 - val_acc: 0.9465\n",
            "Epoch 45/50\n",
            " - 8s - loss: 0.0057 - acc: 0.9983 - val_loss: 0.3300 - val_acc: 0.9465\n",
            "Epoch 46/50\n",
            " - 8s - loss: 0.0084 - acc: 0.9975 - val_loss: 0.3490 - val_acc: 0.9481\n",
            "Epoch 47/50\n",
            " - 8s - loss: 0.0054 - acc: 0.9981 - val_loss: 0.3562 - val_acc: 0.9492\n",
            "Epoch 48/50\n",
            " - 8s - loss: 0.0041 - acc: 0.9985 - val_loss: 0.3631 - val_acc: 0.9460\n",
            "Epoch 49/50\n",
            " - 8s - loss: 0.0079 - acc: 0.9975 - val_loss: 0.3084 - val_acc: 0.9483\n",
            "Epoch 50/50\n",
            " - 8s - loss: 0.0089 - acc: 0.9972 - val_loss: 0.3693 - val_acc: 0.9497\n"
          ],
          "name": "stdout"
        }
      ]
    },
    {
      "cell_type": "markdown",
      "metadata": {
        "id": "QWYMjs_RnxqT",
        "colab_type": "text"
      },
      "source": [
        "**Accuracy Calculation**"
      ]
    },
    {
      "cell_type": "code",
      "metadata": {
        "id": "3CRPbbm_nY6z",
        "colab_type": "code",
        "outputId": "e6af94d3-c1a9-49e7-9947-8c6e226ac6fc",
        "colab": {
          "base_uri": "https://localhost:8080/",
          "height": 51
        }
      },
      "source": [
        "classifier.evaluate(np.array(X_test), np.array(y_test))[1] * 100"
      ],
      "execution_count": 25,
      "outputs": [
        {
          "output_type": "stream",
          "text": [
            "5512/5512 [==============================] - 1s 201us/step\n"
          ],
          "name": "stdout"
        },
        {
          "output_type": "execute_result",
          "data": {
            "text/plain": [
              "95.53701015965167"
            ]
          },
          "metadata": {
            "tags": []
          },
          "execution_count": 25
        }
      ]
    },
    {
      "cell_type": "markdown",
      "metadata": {
        "id": "TJp9xGwKn5xK",
        "colab_type": "text"
      },
      "source": [
        "**Improving the accuracy with Augmentation**"
      ]
    },
    {
      "cell_type": "code",
      "metadata": {
        "id": "86fiIdcUn9VM",
        "colab_type": "code",
        "colab": {}
      },
      "source": [
        "from keras.preprocessing.image import ImageDataGenerator\n",
        "train_generator = ImageDataGenerator(rescale=1/255,\n",
        "                                zoom_range = 0.3,\n",
        "                                horizontal_flip = True,\n",
        "                                rotation_range = 30)\n",
        "test_generator = ImageDataGenerator(rescale = 1/255)\n",
        "\n",
        "train_generator = train_generator.flow(np.array(X_train),\n",
        "                                       y_train,\n",
        "                                       batch_size = 64,\n",
        "                                       shuffle = False)\n",
        "test_generator = test_generator.flow(np.array(X_test),\n",
        "                                    y_test,\n",
        "                                    batch_size=64,\n",
        "                                    shuffle=False)"
      ],
      "execution_count": 0,
      "outputs": []
    },
    {
      "cell_type": "markdown",
      "metadata": {
        "id": "lZwY736ro-1w",
        "colab_type": "text"
      },
      "source": [
        "Use **fit_generator** methods to train the model and test on the validation data."
      ]
    },
    {
      "cell_type": "code",
      "metadata": {
        "id": "uat816l9pDBj",
        "colab_type": "code",
        "outputId": "8776be3f-0459-4cea-f6d0-be23449a10ae",
        "colab": {
          "base_uri": "https://localhost:8080/",
          "height": 1000
        }
      },
      "source": [
        "history = classifier.fit_generator(train_generator,\n",
        "                                   steps_per_epoch = len(X_train)/64,\n",
        "                                   epochs = 50,\n",
        "                                   shuffle = False)"
      ],
      "execution_count": 33,
      "outputs": [
        {
          "output_type": "stream",
          "text": [
            "Epoch 1/50\n",
            "345/344 [==============================] - 30s 88ms/step - loss: 0.1205 - acc: 0.9585\n",
            "Epoch 2/50\n",
            "345/344 [==============================] - 31s 89ms/step - loss: 0.1220 - acc: 0.9593\n",
            "Epoch 3/50\n",
            "345/344 [==============================] - 31s 89ms/step - loss: 0.1196 - acc: 0.9580\n",
            "Epoch 4/50\n",
            "345/344 [==============================] - 31s 89ms/step - loss: 0.1170 - acc: 0.9579\n",
            "Epoch 5/50\n",
            "345/344 [==============================] - 31s 89ms/step - loss: 0.1197 - acc: 0.9584\n",
            "Epoch 6/50\n",
            "345/344 [==============================] - 31s 90ms/step - loss: 0.1145 - acc: 0.9600\n",
            "Epoch 7/50\n",
            "345/344 [==============================] - 31s 90ms/step - loss: 0.1148 - acc: 0.9601\n",
            "Epoch 8/50\n",
            "345/344 [==============================] - 31s 90ms/step - loss: 0.1196 - acc: 0.9589\n",
            "Epoch 9/50\n",
            "345/344 [==============================] - 31s 89ms/step - loss: 0.1169 - acc: 0.9595\n",
            "Epoch 10/50\n",
            "345/344 [==============================] - 31s 89ms/step - loss: 0.1157 - acc: 0.9591\n",
            "Epoch 11/50\n",
            "345/344 [==============================] - 31s 90ms/step - loss: 0.1159 - acc: 0.9607\n",
            "Epoch 12/50\n",
            "345/344 [==============================] - 31s 88ms/step - loss: 0.1199 - acc: 0.9579\n",
            "Epoch 13/50\n",
            "345/344 [==============================] - 30s 88ms/step - loss: 0.1175 - acc: 0.9576\n",
            "Epoch 14/50\n",
            "345/344 [==============================] - 31s 90ms/step - loss: 0.1196 - acc: 0.9574\n",
            "Epoch 15/50\n",
            "345/344 [==============================] - 32s 93ms/step - loss: 0.1252 - acc: 0.9563\n",
            "Epoch 16/50\n",
            "345/344 [==============================] - 32s 94ms/step - loss: 0.1185 - acc: 0.9578\n",
            "Epoch 17/50\n",
            "345/344 [==============================] - 31s 91ms/step - loss: 0.1152 - acc: 0.9598\n",
            "Epoch 18/50\n",
            "345/344 [==============================] - 32s 92ms/step - loss: 0.1134 - acc: 0.9602\n",
            "Epoch 19/50\n",
            "345/344 [==============================] - 31s 90ms/step - loss: 0.1195 - acc: 0.9589\n",
            "Epoch 20/50\n",
            "345/344 [==============================] - 31s 91ms/step - loss: 0.1155 - acc: 0.9601\n",
            "Epoch 21/50\n",
            "345/344 [==============================] - 31s 91ms/step - loss: 0.1153 - acc: 0.9597\n",
            "Epoch 22/50\n",
            "345/344 [==============================] - 32s 93ms/step - loss: 0.1169 - acc: 0.9581\n",
            "Epoch 23/50\n",
            "345/344 [==============================] - 32s 92ms/step - loss: 0.1140 - acc: 0.9602\n",
            "Epoch 24/50\n",
            "345/344 [==============================] - 32s 92ms/step - loss: 0.1152 - acc: 0.9599\n",
            "Epoch 25/50\n",
            "345/344 [==============================] - 32s 92ms/step - loss: 0.1128 - acc: 0.9608\n",
            "Epoch 26/50\n",
            "345/344 [==============================] - 32s 92ms/step - loss: 0.1117 - acc: 0.9606\n",
            "Epoch 27/50\n",
            "345/344 [==============================] - 32s 93ms/step - loss: 0.1108 - acc: 0.9615\n",
            "Epoch 28/50\n",
            "345/344 [==============================] - 32s 93ms/step - loss: 0.1122 - acc: 0.9604\n",
            "Epoch 29/50\n",
            "345/344 [==============================] - 32s 93ms/step - loss: 0.1108 - acc: 0.9607\n",
            "Epoch 30/50\n",
            "345/344 [==============================] - 32s 93ms/step - loss: 0.1112 - acc: 0.9611\n",
            "Epoch 31/50\n",
            "345/344 [==============================] - 32s 93ms/step - loss: 0.1065 - acc: 0.9620\n",
            "Epoch 32/50\n",
            "345/344 [==============================] - 32s 92ms/step - loss: 0.1085 - acc: 0.9622\n",
            "Epoch 33/50\n",
            "345/344 [==============================] - 32s 92ms/step - loss: 0.1114 - acc: 0.9616\n",
            "Epoch 34/50\n",
            "345/344 [==============================] - 31s 91ms/step - loss: 0.1084 - acc: 0.9609\n",
            "Epoch 35/50\n",
            "345/344 [==============================] - 32s 92ms/step - loss: 0.1085 - acc: 0.9621\n",
            "Epoch 36/50\n",
            "345/344 [==============================] - 32s 92ms/step - loss: 0.1068 - acc: 0.9622\n",
            "Epoch 37/50\n",
            "345/344 [==============================] - 32s 92ms/step - loss: 0.1066 - acc: 0.9617\n",
            "Epoch 38/50\n",
            "345/344 [==============================] - 32s 92ms/step - loss: 0.1091 - acc: 0.9615\n",
            "Epoch 39/50\n",
            "345/344 [==============================] - 32s 91ms/step - loss: 0.1037 - acc: 0.9631\n",
            "Epoch 40/50\n",
            "345/344 [==============================] - 31s 91ms/step - loss: 0.1089 - acc: 0.9621\n",
            "Epoch 41/50\n",
            "345/344 [==============================] - 32s 92ms/step - loss: 0.1054 - acc: 0.9631\n",
            "Epoch 42/50\n",
            "345/344 [==============================] - 31s 91ms/step - loss: 0.1474 - acc: 0.9511\n",
            "Epoch 43/50\n",
            "345/344 [==============================] - 32s 91ms/step - loss: 0.1083 - acc: 0.9624\n",
            "Epoch 44/50\n",
            "345/344 [==============================] - 31s 91ms/step - loss: 0.1073 - acc: 0.9620\n",
            "Epoch 45/50\n",
            "345/344 [==============================] - 31s 91ms/step - loss: 0.1057 - acc: 0.9624\n",
            "Epoch 46/50\n",
            "345/344 [==============================] - 31s 91ms/step - loss: 0.1035 - acc: 0.9636\n",
            "Epoch 47/50\n",
            "345/344 [==============================] - 31s 91ms/step - loss: 0.1070 - acc: 0.9632\n",
            "Epoch 48/50\n",
            "345/344 [==============================] - 32s 92ms/step - loss: 0.1009 - acc: 0.9639\n",
            "Epoch 49/50\n",
            "345/344 [==============================] - 31s 90ms/step - loss: 0.1054 - acc: 0.9628\n",
            "Epoch 50/50\n",
            "345/344 [==============================] - 31s 91ms/step - loss: 0.1042 - acc: 0.9621\n"
          ],
          "name": "stdout"
        }
      ]
    },
    {
      "cell_type": "code",
      "metadata": {
        "id": "-aLvet5n3S5F",
        "colab_type": "code",
        "outputId": "809da7e2-fa56-468b-9b7b-667d2645c720",
        "colab": {
          "base_uri": "https://localhost:8080/",
          "height": 51
        }
      },
      "source": [
        "classifier.evaluate_generator(test_generator, steps = len(X_test), verbose = 1)[1] * 100"
      ],
      "execution_count": 29,
      "outputs": [
        {
          "output_type": "stream",
          "text": [
            "5512/5512 [==============================] - 45s 8ms/step\n"
          ],
          "name": "stdout"
        },
        {
          "output_type": "execute_result",
          "data": {
            "text/plain": [
              "95.93402817546672"
            ]
          },
          "metadata": {
            "tags": []
          },
          "execution_count": 29
        }
      ]
    },
    {
      "cell_type": "markdown",
      "metadata": {
        "id": "wda8imv238k8",
        "colab_type": "text"
      },
      "source": [
        "With Data Augmentation the accuracy was improved. \n",
        "\n",
        "Such a technique can be highly useful whenever we have limited dataset. This can ensure proper training of the model."
      ]
    },
    {
      "cell_type": "markdown",
      "metadata": {
        "id": "ND22KNgds5-H",
        "colab_type": "text"
      },
      "source": [
        "## Visualize Training Loss and Validation Loss"
      ]
    },
    {
      "cell_type": "code",
      "metadata": {
        "id": "D9E5v8SKuh94",
        "colab_type": "code",
        "colab": {
          "base_uri": "https://localhost:8080/",
          "height": 1000
        },
        "outputId": "029a837d-5728-46b7-d00e-d523542c9f69"
      },
      "source": [
        "history.history"
      ],
      "execution_count": 31,
      "outputs": [
        {
          "output_type": "execute_result",
          "data": {
            "text/plain": [
              "{'acc': [0.9216411139964409,\n",
              "  0.9367232151065236,\n",
              "  0.9409189875768488,\n",
              "  0.9413272248555536,\n",
              "  0.944298285370804,\n",
              "  0.9433457316195566,\n",
              "  0.9453642383781522,\n",
              "  0.9445704435854461,\n",
              "  0.9485167377356077,\n",
              "  0.9465662705306727,\n",
              "  0.9464528712313134,\n",
              "  0.9489930146112315,\n",
              "  0.9486301369538576,\n",
              "  0.9502404064337484,\n",
              "  0.9499909280703265,\n",
              "  0.9504445250460644,\n",
              "  0.9513743989514989,\n",
              "  0.9500816474698,\n",
              "  0.9501950467259008,\n",
              "  0.9529846684259825,\n",
              "  0.9516919168685813,\n",
              "  0.9516011975015517,\n",
              "  0.9521001542338029,\n",
              "  0.9521455139308359,\n",
              "  0.9528939489832506,\n",
              "  0.9508527623734349,\n",
              "  0.952326952697339,\n",
              "  0.953324866156434,\n",
              "  0.953460945263755,\n",
              "  0.9549578154442867,\n",
              "  0.9545495781601746,\n",
              "  0.9545722579681364,\n",
              "  0.9544361788608153,\n",
              "  0.9559784087491946,\n",
              "  0.9563866460657505,\n",
              "  0.9533475460455053,\n",
              "  0.9562959266987209,\n",
              "  0.956545405029699,\n",
              "  0.9560464483407062,\n",
              "  0.9576793976285589,\n",
              "  0.9566361244345797,\n",
              "  0.9573165200090361,\n",
              "  0.9565454050242918,\n",
              "  0.9587680304871273,\n",
              "  0.9569082826438146,\n",
              "  0.956454685619411,\n",
              "  0.9583144334194654,\n",
              "  0.9572031207150841,\n",
              "  0.9567041640260914,\n",
              "  0.95761135803164],\n",
              " 'loss': [0.2553817060195869,\n",
              "  0.18465068738711224,\n",
              "  0.17614396357832635,\n",
              "  0.17088577207264055,\n",
              "  0.16495332804250054,\n",
              "  0.16576388068405934,\n",
              "  0.1610614776281483,\n",
              "  0.16100175058648125,\n",
              "  0.15275183420080482,\n",
              "  0.1531261447379434,\n",
              "  0.1544014165573519,\n",
              "  0.1527223212797045,\n",
              "  0.14906165337406832,\n",
              "  0.1441465401907944,\n",
              "  0.14690558797005873,\n",
              "  0.14557408386454287,\n",
              "  0.14420809728377074,\n",
              "  0.14350732647279293,\n",
              "  0.14320272418820662,\n",
              "  0.13843987748171493,\n",
              "  0.1392624672875045,\n",
              "  0.13989141432714258,\n",
              "  0.13722586096722775,\n",
              "  0.1386682847272265,\n",
              "  0.13637968669090816,\n",
              "  0.13853853571915664,\n",
              "  0.13608701039921142,\n",
              "  0.13531861946650495,\n",
              "  0.13426856771361576,\n",
              "  0.1328747261217239,\n",
              "  0.13148122950732724,\n",
              "  0.1301643940897502,\n",
              "  0.1297260113388292,\n",
              "  0.1301769789672964,\n",
              "  0.12385755404458228,\n",
              "  0.133124981670666,\n",
              "  0.1243866484916049,\n",
              "  0.1258358568653355,\n",
              "  0.12447323428219702,\n",
              "  0.12352922913368045,\n",
              "  0.12363351343342735,\n",
              "  0.12646954644048625,\n",
              "  0.1250992180211979,\n",
              "  0.11852025876625538,\n",
              "  0.12240017738095604,\n",
              "  0.12367928879418152,\n",
              "  0.12082922915159806,\n",
              "  0.1223349047612335,\n",
              "  0.1254015226516297,\n",
              "  0.12139814880323488]}"
            ]
          },
          "metadata": {
            "tags": []
          },
          "execution_count": 31
        }
      ]
    },
    {
      "cell_type": "code",
      "metadata": {
        "id": "MhkwcLu33_gY",
        "colab_type": "code",
        "colab": {
          "base_uri": "https://localhost:8080/",
          "height": 269
        },
        "outputId": "2b718835-9b58-49aa-b154-4fc82497119f"
      },
      "source": [
        "plt.plot(history.history['loss'],label='Taining Loss')\n",
        "plt.plot(history.history['acc'],label=' Training Accuracy')\n",
        "plt.legend()\n",
        "plt.show()"
      ],
      "execution_count": 34,
      "outputs": [
        {
          "output_type": "display_data",
          "data": {
            "image/png": "[encoded data removed]",
            "text/plain": [
              "<Figure size 432x288 with 1 Axes>"
            ]
          },
          "metadata": {
            "tags": []
          }
        }
      ]
    }
  ]
}