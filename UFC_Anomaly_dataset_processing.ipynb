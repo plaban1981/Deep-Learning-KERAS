{
  "cells": [
    {
      "cell_type": "markdown",
      "metadata": {
        "id": "view-in-github",
        "colab_type": "text"
      },
      "source": [
        "<a href=\"https://colab.research.google.com/github/plaban1981/Deep-Learning-KERAS/blob/master/UFC_Anomaly_dataset_processing.ipynb\" target=\"_parent\"><img src=\"https://colab.research.google.com/assets/colab-badge.svg\" alt=\"Open In Colab\"/></a>"
      ]
    },
    {
      "cell_type": "code",
      "source": [
        "from google.colab import drive\n",
        "drive.mount(\"/content/drive\")"
      ],
      "metadata": {
        "colab": {
          "base_uri": "https://localhost:8080/"
        },
        "id": "VWtxeK1AEJCO",
        "outputId": "2c28612d-5b95-4117-9a1b-753376c7a6c2"
      },
      "execution_count": 1,
      "outputs": [
        {
          "output_type": "stream",
          "name": "stdout",
          "text": [
            "Mounted at /content/drive\n"
          ]
        }
      ]
    },
    {
      "cell_type": "code",
      "execution_count": 2,
      "metadata": {
        "id": "0fqdhHo09n4A"
      },
      "outputs": [],
      "source": [
        "import os\n",
        "import numpy as np\n",
        "import glob\n",
        "import cv2\n",
        "import pandas as pd\n",
        "import math"
      ]
    },
    {
      "cell_type": "code",
      "source": [
        "anomaly_df = pd.read_csv(\"/content/drive/MyDrive/UTC_Anamoly_dataset/Anomaly_Train.txt\",delimiter=\"\\t\",header=None)"
      ],
      "metadata": {
        "id": "Fb41qZMcabo-"
      },
      "execution_count": 6,
      "outputs": []
    },
    {
      "cell_type": "code",
      "source": [
        "anomaly_df.head()"
      ],
      "metadata": {
        "colab": {
          "base_uri": "https://localhost:8080/",
          "height": 206
        },
        "id": "15yyfihLatGD",
        "outputId": "17305645-eba7-4eaf-ded7-7eb61cdbf222"
      },
      "execution_count": 7,
      "outputs": [
        {
          "output_type": "execute_result",
          "data": {
            "text/plain": [
              "                         0\n",
              "0  Abuse/Abuse001_x264.mp4\n",
              "1  Abuse/Abuse002_x264.mp4\n",
              "2  Abuse/Abuse003_x264.mp4\n",
              "3  Abuse/Abuse004_x264.mp4\n",
              "4  Abuse/Abuse005_x264.mp4"
            ],
            "text/html": [
              "\n",
              "  <div id=\"df-82f2acfa-c0b0-422e-bff9-4e60a90e3629\">\n",
              "    <div class=\"colab-df-container\">\n",
              "      <div>\n",
              "<style scoped>\n",
              "    .dataframe tbody tr th:only-of-type {\n",
              "        vertical-align: middle;\n",
              "    }\n",
              "\n",
              "    .dataframe tbody tr th {\n",
              "        vertical-align: top;\n",
              "    }\n",
              "\n",
              "    .dataframe thead th {\n",
              "        text-align: right;\n",
              "    }\n",
              "</style>\n",
              "<table border=\"1\" class=\"dataframe\">\n",
              "  <thead>\n",
              "    <tr style=\"text-align: right;\">\n",
              "      <th></th>\n",
              "      <th>0</th>\n",
              "    </tr>\n",
              "  </thead>\n",
              "  <tbody>\n",
              "    <tr>\n",
              "      <th>0</th>\n",
              "      <td>Abuse/Abuse001_x264.mp4</td>\n",
              "    </tr>\n",
              "    <tr>\n",
              "      <th>1</th>\n",
              "      <td>Abuse/Abuse002_x264.mp4</td>\n",
              "    </tr>\n",
              "    <tr>\n",
              "      <th>2</th>\n",
              "      <td>Abuse/Abuse003_x264.mp4</td>\n",
              "    </tr>\n",
              "    <tr>\n",
              "      <th>3</th>\n",
              "      <td>Abuse/Abuse004_x264.mp4</td>\n",
              "    </tr>\n",
              "    <tr>\n",
              "      <th>4</th>\n",
              "      <td>Abuse/Abuse005_x264.mp4</td>\n",
              "    </tr>\n",
              "  </tbody>\n",
              "</table>\n",
              "</div>\n",
              "      <button class=\"colab-df-convert\" onclick=\"convertToInteractive('df-82f2acfa-c0b0-422e-bff9-4e60a90e3629')\"\n",
              "              title=\"Convert this dataframe to an interactive table.\"\n",
              "              style=\"display:none;\">\n",
              "        \n",
              "  <svg xmlns=\"http://www.w3.org/2000/svg\" height=\"24px\"viewBox=\"0 0 24 24\"\n",
              "       width=\"24px\">\n",
              "    <path d=\"M0 0h24v24H0V0z\" fill=\"none\"/>\n",
              "    <path d=\"M18.56 5.44l.94 2.06.94-2.06 2.06-.94-2.06-.94-.94-2.06-.94 2.06-2.06.94zm-11 1L8.5 8.5l.94-2.06 2.06-.94-2.06-.94L8.5 2.5l-.94 2.06-2.06.94zm10 10l.94 2.06.94-2.06 2.06-.94-2.06-.94-.94-2.06-.94 2.06-2.06.94z\"/><path d=\"M17.41 7.96l-1.37-1.37c-.4-.4-.92-.59-1.43-.59-.52 0-1.04.2-1.43.59L10.3 9.45l-7.72 7.72c-.78.78-.78 2.05 0 2.83L4 21.41c.39.39.9.59 1.41.59.51 0 1.02-.2 1.41-.59l7.78-7.78 2.81-2.81c.8-.78.8-2.07 0-2.86zM5.41 20L4 18.59l7.72-7.72 1.47 1.35L5.41 20z\"/>\n",
              "  </svg>\n",
              "      </button>\n",
              "      \n",
              "  <style>\n",
              "    .colab-df-container {\n",
              "      display:flex;\n",
              "      flex-wrap:wrap;\n",
              "      gap: 12px;\n",
              "    }\n",
              "\n",
              "    .colab-df-convert {\n",
              "      background-color: #E8F0FE;\n",
              "      border: none;\n",
              "      border-radius: 50%;\n",
              "      cursor: pointer;\n",
              "      display: none;\n",
              "      fill: #1967D2;\n",
              "      height: 32px;\n",
              "      padding: 0 0 0 0;\n",
              "      width: 32px;\n",
              "    }\n",
              "\n",
              "    .colab-df-convert:hover {\n",
              "      background-color: #E2EBFA;\n",
              "      box-shadow: 0px 1px 2px rgba(60, 64, 67, 0.3), 0px 1px 3px 1px rgba(60, 64, 67, 0.15);\n",
              "      fill: #174EA6;\n",
              "    }\n",
              "\n",
              "    [theme=dark] .colab-df-convert {\n",
              "      background-color: #3B4455;\n",
              "      fill: #D2E3FC;\n",
              "    }\n",
              "\n",
              "    [theme=dark] .colab-df-convert:hover {\n",
              "      background-color: #434B5C;\n",
              "      box-shadow: 0px 1px 3px 1px rgba(0, 0, 0, 0.15);\n",
              "      filter: drop-shadow(0px 1px 2px rgba(0, 0, 0, 0.3));\n",
              "      fill: #FFFFFF;\n",
              "    }\n",
              "  </style>\n",
              "\n",
              "      <script>\n",
              "        const buttonEl =\n",
              "          document.querySelector('#df-82f2acfa-c0b0-422e-bff9-4e60a90e3629 button.colab-df-convert');\n",
              "        buttonEl.style.display =\n",
              "          google.colab.kernel.accessAllowed ? 'block' : 'none';\n",
              "\n",
              "        async function convertToInteractive(key) {\n",
              "          const element = document.querySelector('#df-82f2acfa-c0b0-422e-bff9-4e60a90e3629');\n",
              "          const dataTable =\n",
              "            await google.colab.kernel.invokeFunction('convertToInteractive',\n",
              "                                                     [key], {});\n",
              "          if (!dataTable) return;\n",
              "\n",
              "          const docLinkHtml = 'Like what you see? Visit the ' +\n",
              "            '<a target=\"_blank\" href=https://colab.research.google.com/notebooks/data_table.ipynb>data table notebook</a>'\n",
              "            + ' to learn more about interactive tables.';\n",
              "          element.innerHTML = '';\n",
              "          dataTable['output_type'] = 'display_data';\n",
              "          await google.colab.output.renderOutput(dataTable, element);\n",
              "          const docLink = document.createElement('div');\n",
              "          docLink.innerHTML = docLinkHtml;\n",
              "          element.appendChild(docLink);\n",
              "        }\n",
              "      </script>\n",
              "    </div>\n",
              "  </div>\n",
              "  "
            ]
          },
          "metadata": {},
          "execution_count": 7
        }
      ]
    },
    {
      "cell_type": "markdown",
      "source": [
        "1. Anomaly Detection Experiment\n",
        "\n",
        "- A) Videos:\n",
        "* Anomaly-Videos-Part-1-- Part-4 (4 zip files)\n",
        "* Training-Normal-Videos-Part-1.zip and \n",
        "* Training-Normal-Videos-Part-2.zip (normal videos for training)\n",
        "* Testing_Normal_Videos.zip (normal videos for testing)\n",
        "\n",
        "* UCF_Crimes-Train-Test-Split.zip contains the traing and testing split in our experiments\n",
        "(folder: Anomaly_Detection_splits)\n",
        "\n",
        "\n",
        "- B) Temporal Annotations for Testing Videos (anomaly videos)\n",
        "\n",
        "#### Temporal_Anomaly_Annotation_for_Testing_Videos.txt\n",
        "\n",
        " Each row of 'Temporal_Anomaly_Annotation.txt' is the annotation for a video, for example:\n",
        "Abuse028_x264.mp4  Abuse  165  240  -1 -1  \n",
        "-\tThe first column is the name of the video\n",
        "-\tThe second column is the name of the anomalous event\n",
        "-\tThe third column is the starting frame of the event (you will have to convert each video to image frames first) \n",
        "-\tThe fourth column is the ending frame of the event.\n",
        "-\tFor videos in which second  instance of event occurs, fifth and sixth contains starting and ending frames of second instance.  \n",
        "- Negative number means no anomalous event instance. In this example, abuse (instance) only occurs once.\n",
        "\n",
        "Note: Ours videos have 30 frames per second."
      ],
      "metadata": {
        "id": "J47cBK1bc9tn"
      }
    },
    {
      "cell_type": "code",
      "source": [
        "annot_df = pd.read_csv(\"/content/drive/MyDrive/UTC_Anamoly_dataset/Temporal_Anomaly_Annotation_for_Testing_Videos.txt\",\n",
        "                       delim_whitespace=True,\n",
        "                       names=['FileName','Event','Start_Frame1','End_Frame1','Start_Frame2','End_Frame2'])"
      ],
      "metadata": {
        "id": "AsQZcnmTa4Bh"
      },
      "execution_count": 24,
      "outputs": []
    },
    {
      "cell_type": "code",
      "source": [
        "annot_df.shape"
      ],
      "metadata": {
        "colab": {
          "base_uri": "https://localhost:8080/"
        },
        "id": "GBGYIOXQdw5Q",
        "outputId": "3252b2c8-6176-4273-db6c-a1917b668f41"
      },
      "execution_count": 25,
      "outputs": [
        {
          "output_type": "execute_result",
          "data": {
            "text/plain": [
              "(290, 6)"
            ]
          },
          "metadata": {},
          "execution_count": 25
        }
      ]
    },
    {
      "cell_type": "code",
      "source": [
        "annot_df.head()"
      ],
      "metadata": {
        "colab": {
          "base_uri": "https://localhost:8080/",
          "height": 206
        },
        "id": "jmn-Rk9QbITK",
        "outputId": "95275dd2-6637-4735-f25b-71cff4dad0b1"
      },
      "execution_count": 26,
      "outputs": [
        {
          "output_type": "execute_result",
          "data": {
            "text/plain": [
              "             FileName   Event  Start_Frame1  End_Frame1  Start_Frame2  \\\n",
              "0   Abuse028_x264.mp4   Abuse           165         240            -1   \n",
              "1   Abuse030_x264.mp4   Abuse          1275        1360            -1   \n",
              "2  Arrest001_x264.mp4  Arrest          1185        1485            -1   \n",
              "3  Arrest007_x264.mp4  Arrest          1530        2160            -1   \n",
              "4  Arrest024_x264.mp4  Arrest          1005        3105            -1   \n",
              "\n",
              "   End_Frame2  \n",
              "0          -1  \n",
              "1          -1  \n",
              "2          -1  \n",
              "3          -1  \n",
              "4          -1  "
            ],
            "text/html": [
              "\n",
              "  <div id=\"df-4d4aa39e-2372-41a1-b57f-d27fc53acf79\">\n",
              "    <div class=\"colab-df-container\">\n",
              "      <div>\n",
              "<style scoped>\n",
              "    .dataframe tbody tr th:only-of-type {\n",
              "        vertical-align: middle;\n",
              "    }\n",
              "\n",
              "    .dataframe tbody tr th {\n",
              "        vertical-align: top;\n",
              "    }\n",
              "\n",
              "    .dataframe thead th {\n",
              "        text-align: right;\n",
              "    }\n",
              "</style>\n",
              "<table border=\"1\" class=\"dataframe\">\n",
              "  <thead>\n",
              "    <tr style=\"text-align: right;\">\n",
              "      <th></th>\n",
              "      <th>FileName</th>\n",
              "      <th>Event</th>\n",
              "      <th>Start_Frame1</th>\n",
              "      <th>End_Frame1</th>\n",
              "      <th>Start_Frame2</th>\n",
              "      <th>End_Frame2</th>\n",
              "    </tr>\n",
              "  </thead>\n",
              "  <tbody>\n",
              "    <tr>\n",
              "      <th>0</th>\n",
              "      <td>Abuse028_x264.mp4</td>\n",
              "      <td>Abuse</td>\n",
              "      <td>165</td>\n",
              "      <td>240</td>\n",
              "      <td>-1</td>\n",
              "      <td>-1</td>\n",
              "    </tr>\n",
              "    <tr>\n",
              "      <th>1</th>\n",
              "      <td>Abuse030_x264.mp4</td>\n",
              "      <td>Abuse</td>\n",
              "      <td>1275</td>\n",
              "      <td>1360</td>\n",
              "      <td>-1</td>\n",
              "      <td>-1</td>\n",
              "    </tr>\n",
              "    <tr>\n",
              "      <th>2</th>\n",
              "      <td>Arrest001_x264.mp4</td>\n",
              "      <td>Arrest</td>\n",
              "      <td>1185</td>\n",
              "      <td>1485</td>\n",
              "      <td>-1</td>\n",
              "      <td>-1</td>\n",
              "    </tr>\n",
              "    <tr>\n",
              "      <th>3</th>\n",
              "      <td>Arrest007_x264.mp4</td>\n",
              "      <td>Arrest</td>\n",
              "      <td>1530</td>\n",
              "      <td>2160</td>\n",
              "      <td>-1</td>\n",
              "      <td>-1</td>\n",
              "    </tr>\n",
              "    <tr>\n",
              "      <th>4</th>\n",
              "      <td>Arrest024_x264.mp4</td>\n",
              "      <td>Arrest</td>\n",
              "      <td>1005</td>\n",
              "      <td>3105</td>\n",
              "      <td>-1</td>\n",
              "      <td>-1</td>\n",
              "    </tr>\n",
              "  </tbody>\n",
              "</table>\n",
              "</div>\n",
              "      <button class=\"colab-df-convert\" onclick=\"convertToInteractive('df-4d4aa39e-2372-41a1-b57f-d27fc53acf79')\"\n",
              "              title=\"Convert this dataframe to an interactive table.\"\n",
              "              style=\"display:none;\">\n",
              "        \n",
              "  <svg xmlns=\"http://www.w3.org/2000/svg\" height=\"24px\"viewBox=\"0 0 24 24\"\n",
              "       width=\"24px\">\n",
              "    <path d=\"M0 0h24v24H0V0z\" fill=\"none\"/>\n",
              "    <path d=\"M18.56 5.44l.94 2.06.94-2.06 2.06-.94-2.06-.94-.94-2.06-.94 2.06-2.06.94zm-11 1L8.5 8.5l.94-2.06 2.06-.94-2.06-.94L8.5 2.5l-.94 2.06-2.06.94zm10 10l.94 2.06.94-2.06 2.06-.94-2.06-.94-.94-2.06-.94 2.06-2.06.94z\"/><path d=\"M17.41 7.96l-1.37-1.37c-.4-.4-.92-.59-1.43-.59-.52 0-1.04.2-1.43.59L10.3 9.45l-7.72 7.72c-.78.78-.78 2.05 0 2.83L4 21.41c.39.39.9.59 1.41.59.51 0 1.02-.2 1.41-.59l7.78-7.78 2.81-2.81c.8-.78.8-2.07 0-2.86zM5.41 20L4 18.59l7.72-7.72 1.47 1.35L5.41 20z\"/>\n",
              "  </svg>\n",
              "      </button>\n",
              "      \n",
              "  <style>\n",
              "    .colab-df-container {\n",
              "      display:flex;\n",
              "      flex-wrap:wrap;\n",
              "      gap: 12px;\n",
              "    }\n",
              "\n",
              "    .colab-df-convert {\n",
              "      background-color: #E8F0FE;\n",
              "      border: none;\n",
              "      border-radius: 50%;\n",
              "      cursor: pointer;\n",
              "      display: none;\n",
              "      fill: #1967D2;\n",
              "      height: 32px;\n",
              "      padding: 0 0 0 0;\n",
              "      width: 32px;\n",
              "    }\n",
              "\n",
              "    .colab-df-convert:hover {\n",
              "      background-color: #E2EBFA;\n",
              "      box-shadow: 0px 1px 2px rgba(60, 64, 67, 0.3), 0px 1px 3px 1px rgba(60, 64, 67, 0.15);\n",
              "      fill: #174EA6;\n",
              "    }\n",
              "\n",
              "    [theme=dark] .colab-df-convert {\n",
              "      background-color: #3B4455;\n",
              "      fill: #D2E3FC;\n",
              "    }\n",
              "\n",
              "    [theme=dark] .colab-df-convert:hover {\n",
              "      background-color: #434B5C;\n",
              "      box-shadow: 0px 1px 3px 1px rgba(0, 0, 0, 0.15);\n",
              "      filter: drop-shadow(0px 1px 2px rgba(0, 0, 0, 0.3));\n",
              "      fill: #FFFFFF;\n",
              "    }\n",
              "  </style>\n",
              "\n",
              "      <script>\n",
              "        const buttonEl =\n",
              "          document.querySelector('#df-4d4aa39e-2372-41a1-b57f-d27fc53acf79 button.colab-df-convert');\n",
              "        buttonEl.style.display =\n",
              "          google.colab.kernel.accessAllowed ? 'block' : 'none';\n",
              "\n",
              "        async function convertToInteractive(key) {\n",
              "          const element = document.querySelector('#df-4d4aa39e-2372-41a1-b57f-d27fc53acf79');\n",
              "          const dataTable =\n",
              "            await google.colab.kernel.invokeFunction('convertToInteractive',\n",
              "                                                     [key], {});\n",
              "          if (!dataTable) return;\n",
              "\n",
              "          const docLinkHtml = 'Like what you see? Visit the ' +\n",
              "            '<a target=\"_blank\" href=https://colab.research.google.com/notebooks/data_table.ipynb>data table notebook</a>'\n",
              "            + ' to learn more about interactive tables.';\n",
              "          element.innerHTML = '';\n",
              "          dataTable['output_type'] = 'display_data';\n",
              "          await google.colab.output.renderOutput(dataTable, element);\n",
              "          const docLink = document.createElement('div');\n",
              "          docLink.innerHTML = docLinkHtml;\n",
              "          element.appendChild(docLink);\n",
              "        }\n",
              "      </script>\n",
              "    </div>\n",
              "  </div>\n",
              "  "
            ]
          },
          "metadata": {},
          "execution_count": 26
        }
      ]
    },
    {
      "cell_type": "code",
      "source": [
        "annot_df.tail()"
      ],
      "metadata": {
        "colab": {
          "base_uri": "https://localhost:8080/",
          "height": 206
        },
        "id": "mRggukT6cskJ",
        "outputId": "d2987c69-a315-4f26-9f2b-6d9d33d821d8"
      },
      "execution_count": 27,
      "outputs": [
        {
          "output_type": "execute_result",
          "data": {
            "text/plain": [
              "                  FileName      Event  Start_Frame1  End_Frame1  Start_Frame2  \\\n",
              "285  Vandalism007_x264.mp4  Vandalism           240         750            -1   \n",
              "286  Vandalism015_x264.mp4  Vandalism          2010        2700            -1   \n",
              "287  Vandalism017_x264.mp4  Vandalism           270         330           780   \n",
              "288  Vandalism028_x264.mp4  Vandalism          1830        1980          2400   \n",
              "289  Vandalism036_x264.mp4  Vandalism           540         780           990   \n",
              "\n",
              "     End_Frame2  \n",
              "285          -1  \n",
              "286          -1  \n",
              "287         840  \n",
              "288        2670  \n",
              "289        1080  "
            ],
            "text/html": [
              "\n",
              "  <div id=\"df-2812d7c9-796a-49fd-83de-a721439ff93f\">\n",
              "    <div class=\"colab-df-container\">\n",
              "      <div>\n",
              "<style scoped>\n",
              "    .dataframe tbody tr th:only-of-type {\n",
              "        vertical-align: middle;\n",
              "    }\n",
              "\n",
              "    .dataframe tbody tr th {\n",
              "        vertical-align: top;\n",
              "    }\n",
              "\n",
              "    .dataframe thead th {\n",
              "        text-align: right;\n",
              "    }\n",
              "</style>\n",
              "<table border=\"1\" class=\"dataframe\">\n",
              "  <thead>\n",
              "    <tr style=\"text-align: right;\">\n",
              "      <th></th>\n",
              "      <th>FileName</th>\n",
              "      <th>Event</th>\n",
              "      <th>Start_Frame1</th>\n",
              "      <th>End_Frame1</th>\n",
              "      <th>Start_Frame2</th>\n",
              "      <th>End_Frame2</th>\n",
              "    </tr>\n",
              "  </thead>\n",
              "  <tbody>\n",
              "    <tr>\n",
              "      <th>285</th>\n",
              "      <td>Vandalism007_x264.mp4</td>\n",
              "      <td>Vandalism</td>\n",
              "      <td>240</td>\n",
              "      <td>750</td>\n",
              "      <td>-1</td>\n",
              "      <td>-1</td>\n",
              "    </tr>\n",
              "    <tr>\n",
              "      <th>286</th>\n",
              "      <td>Vandalism015_x264.mp4</td>\n",
              "      <td>Vandalism</td>\n",
              "      <td>2010</td>\n",
              "      <td>2700</td>\n",
              "      <td>-1</td>\n",
              "      <td>-1</td>\n",
              "    </tr>\n",
              "    <tr>\n",
              "      <th>287</th>\n",
              "      <td>Vandalism017_x264.mp4</td>\n",
              "      <td>Vandalism</td>\n",
              "      <td>270</td>\n",
              "      <td>330</td>\n",
              "      <td>780</td>\n",
              "      <td>840</td>\n",
              "    </tr>\n",
              "    <tr>\n",
              "      <th>288</th>\n",
              "      <td>Vandalism028_x264.mp4</td>\n",
              "      <td>Vandalism</td>\n",
              "      <td>1830</td>\n",
              "      <td>1980</td>\n",
              "      <td>2400</td>\n",
              "      <td>2670</td>\n",
              "    </tr>\n",
              "    <tr>\n",
              "      <th>289</th>\n",
              "      <td>Vandalism036_x264.mp4</td>\n",
              "      <td>Vandalism</td>\n",
              "      <td>540</td>\n",
              "      <td>780</td>\n",
              "      <td>990</td>\n",
              "      <td>1080</td>\n",
              "    </tr>\n",
              "  </tbody>\n",
              "</table>\n",
              "</div>\n",
              "      <button class=\"colab-df-convert\" onclick=\"convertToInteractive('df-2812d7c9-796a-49fd-83de-a721439ff93f')\"\n",
              "              title=\"Convert this dataframe to an interactive table.\"\n",
              "              style=\"display:none;\">\n",
              "        \n",
              "  <svg xmlns=\"http://www.w3.org/2000/svg\" height=\"24px\"viewBox=\"0 0 24 24\"\n",
              "       width=\"24px\">\n",
              "    <path d=\"M0 0h24v24H0V0z\" fill=\"none\"/>\n",
              "    <path d=\"M18.56 5.44l.94 2.06.94-2.06 2.06-.94-2.06-.94-.94-2.06-.94 2.06-2.06.94zm-11 1L8.5 8.5l.94-2.06 2.06-.94-2.06-.94L8.5 2.5l-.94 2.06-2.06.94zm10 10l.94 2.06.94-2.06 2.06-.94-2.06-.94-.94-2.06-.94 2.06-2.06.94z\"/><path d=\"M17.41 7.96l-1.37-1.37c-.4-.4-.92-.59-1.43-.59-.52 0-1.04.2-1.43.59L10.3 9.45l-7.72 7.72c-.78.78-.78 2.05 0 2.83L4 21.41c.39.39.9.59 1.41.59.51 0 1.02-.2 1.41-.59l7.78-7.78 2.81-2.81c.8-.78.8-2.07 0-2.86zM5.41 20L4 18.59l7.72-7.72 1.47 1.35L5.41 20z\"/>\n",
              "  </svg>\n",
              "      </button>\n",
              "      \n",
              "  <style>\n",
              "    .colab-df-container {\n",
              "      display:flex;\n",
              "      flex-wrap:wrap;\n",
              "      gap: 12px;\n",
              "    }\n",
              "\n",
              "    .colab-df-convert {\n",
              "      background-color: #E8F0FE;\n",
              "      border: none;\n",
              "      border-radius: 50%;\n",
              "      cursor: pointer;\n",
              "      display: none;\n",
              "      fill: #1967D2;\n",
              "      height: 32px;\n",
              "      padding: 0 0 0 0;\n",
              "      width: 32px;\n",
              "    }\n",
              "\n",
              "    .colab-df-convert:hover {\n",
              "      background-color: #E2EBFA;\n",
              "      box-shadow: 0px 1px 2px rgba(60, 64, 67, 0.3), 0px 1px 3px 1px rgba(60, 64, 67, 0.15);\n",
              "      fill: #174EA6;\n",
              "    }\n",
              "\n",
              "    [theme=dark] .colab-df-convert {\n",
              "      background-color: #3B4455;\n",
              "      fill: #D2E3FC;\n",
              "    }\n",
              "\n",
              "    [theme=dark] .colab-df-convert:hover {\n",
              "      background-color: #434B5C;\n",
              "      box-shadow: 0px 1px 3px 1px rgba(0, 0, 0, 0.15);\n",
              "      filter: drop-shadow(0px 1px 2px rgba(0, 0, 0, 0.3));\n",
              "      fill: #FFFFFF;\n",
              "    }\n",
              "  </style>\n",
              "\n",
              "      <script>\n",
              "        const buttonEl =\n",
              "          document.querySelector('#df-2812d7c9-796a-49fd-83de-a721439ff93f button.colab-df-convert');\n",
              "        buttonEl.style.display =\n",
              "          google.colab.kernel.accessAllowed ? 'block' : 'none';\n",
              "\n",
              "        async function convertToInteractive(key) {\n",
              "          const element = document.querySelector('#df-2812d7c9-796a-49fd-83de-a721439ff93f');\n",
              "          const dataTable =\n",
              "            await google.colab.kernel.invokeFunction('convertToInteractive',\n",
              "                                                     [key], {});\n",
              "          if (!dataTable) return;\n",
              "\n",
              "          const docLinkHtml = 'Like what you see? Visit the ' +\n",
              "            '<a target=\"_blank\" href=https://colab.research.google.com/notebooks/data_table.ipynb>data table notebook</a>'\n",
              "            + ' to learn more about interactive tables.';\n",
              "          element.innerHTML = '';\n",
              "          dataTable['output_type'] = 'display_data';\n",
              "          await google.colab.output.renderOutput(dataTable, element);\n",
              "          const docLink = document.createElement('div');\n",
              "          docLink.innerHTML = docLinkHtml;\n",
              "          element.appendChild(docLink);\n",
              "        }\n",
              "      </script>\n",
              "    </div>\n",
              "  </div>\n",
              "  "
            ]
          },
          "metadata": {},
          "execution_count": 27
        }
      ]
    },
    {
      "cell_type": "code",
      "source": [
        "annot_df.to_csv(\"/content/drive/MyDrive/UTC_Anamoly_dataset/Annotation.csv\",index=False)"
      ],
      "metadata": {
        "id": "93R7eSbEeeO_"
      },
      "execution_count": 28,
      "outputs": []
    },
    {
      "cell_type": "code",
      "source": [
        "annot_df[annot_df['FileName'] == \"Normal_Videos_929_x264.mp4\"]"
      ],
      "metadata": {
        "colab": {
          "base_uri": "https://localhost:8080/",
          "height": 81
        },
        "id": "TT3ZSalBnjjz",
        "outputId": "d20d9591-7409-4f28-d141-c90a90861317"
      },
      "execution_count": 37,
      "outputs": [
        {
          "output_type": "execute_result",
          "data": {
            "text/plain": [
              "                       FileName   Event  Start_Frame1  End_Frame1  \\\n",
              "193  Normal_Videos_929_x264.mp4  Normal            -1          -1   \n",
              "\n",
              "     Start_Frame2  End_Frame2  \n",
              "193            -1          -1  "
            ],
            "text/html": [
              "\n",
              "  <div id=\"df-a1d91c01-578a-4d66-a7eb-505089ece8f2\">\n",
              "    <div class=\"colab-df-container\">\n",
              "      <div>\n",
              "<style scoped>\n",
              "    .dataframe tbody tr th:only-of-type {\n",
              "        vertical-align: middle;\n",
              "    }\n",
              "\n",
              "    .dataframe tbody tr th {\n",
              "        vertical-align: top;\n",
              "    }\n",
              "\n",
              "    .dataframe thead th {\n",
              "        text-align: right;\n",
              "    }\n",
              "</style>\n",
              "<table border=\"1\" class=\"dataframe\">\n",
              "  <thead>\n",
              "    <tr style=\"text-align: right;\">\n",
              "      <th></th>\n",
              "      <th>FileName</th>\n",
              "      <th>Event</th>\n",
              "      <th>Start_Frame1</th>\n",
              "      <th>End_Frame1</th>\n",
              "      <th>Start_Frame2</th>\n",
              "      <th>End_Frame2</th>\n",
              "    </tr>\n",
              "  </thead>\n",
              "  <tbody>\n",
              "    <tr>\n",
              "      <th>193</th>\n",
              "      <td>Normal_Videos_929_x264.mp4</td>\n",
              "      <td>Normal</td>\n",
              "      <td>-1</td>\n",
              "      <td>-1</td>\n",
              "      <td>-1</td>\n",
              "      <td>-1</td>\n",
              "    </tr>\n",
              "  </tbody>\n",
              "</table>\n",
              "</div>\n",
              "      <button class=\"colab-df-convert\" onclick=\"convertToInteractive('df-a1d91c01-578a-4d66-a7eb-505089ece8f2')\"\n",
              "              title=\"Convert this dataframe to an interactive table.\"\n",
              "              style=\"display:none;\">\n",
              "        \n",
              "  <svg xmlns=\"http://www.w3.org/2000/svg\" height=\"24px\"viewBox=\"0 0 24 24\"\n",
              "       width=\"24px\">\n",
              "    <path d=\"M0 0h24v24H0V0z\" fill=\"none\"/>\n",
              "    <path d=\"M18.56 5.44l.94 2.06.94-2.06 2.06-.94-2.06-.94-.94-2.06-.94 2.06-2.06.94zm-11 1L8.5 8.5l.94-2.06 2.06-.94-2.06-.94L8.5 2.5l-.94 2.06-2.06.94zm10 10l.94 2.06.94-2.06 2.06-.94-2.06-.94-.94-2.06-.94 2.06-2.06.94z\"/><path d=\"M17.41 7.96l-1.37-1.37c-.4-.4-.92-.59-1.43-.59-.52 0-1.04.2-1.43.59L10.3 9.45l-7.72 7.72c-.78.78-.78 2.05 0 2.83L4 21.41c.39.39.9.59 1.41.59.51 0 1.02-.2 1.41-.59l7.78-7.78 2.81-2.81c.8-.78.8-2.07 0-2.86zM5.41 20L4 18.59l7.72-7.72 1.47 1.35L5.41 20z\"/>\n",
              "  </svg>\n",
              "      </button>\n",
              "      \n",
              "  <style>\n",
              "    .colab-df-container {\n",
              "      display:flex;\n",
              "      flex-wrap:wrap;\n",
              "      gap: 12px;\n",
              "    }\n",
              "\n",
              "    .colab-df-convert {\n",
              "      background-color: #E8F0FE;\n",
              "      border: none;\n",
              "      border-radius: 50%;\n",
              "      cursor: pointer;\n",
              "      display: none;\n",
              "      fill: #1967D2;\n",
              "      height: 32px;\n",
              "      padding: 0 0 0 0;\n",
              "      width: 32px;\n",
              "    }\n",
              "\n",
              "    .colab-df-convert:hover {\n",
              "      background-color: #E2EBFA;\n",
              "      box-shadow: 0px 1px 2px rgba(60, 64, 67, 0.3), 0px 1px 3px 1px rgba(60, 64, 67, 0.15);\n",
              "      fill: #174EA6;\n",
              "    }\n",
              "\n",
              "    [theme=dark] .colab-df-convert {\n",
              "      background-color: #3B4455;\n",
              "      fill: #D2E3FC;\n",
              "    }\n",
              "\n",
              "    [theme=dark] .colab-df-convert:hover {\n",
              "      background-color: #434B5C;\n",
              "      box-shadow: 0px 1px 3px 1px rgba(0, 0, 0, 0.15);\n",
              "      filter: drop-shadow(0px 1px 2px rgba(0, 0, 0, 0.3));\n",
              "      fill: #FFFFFF;\n",
              "    }\n",
              "  </style>\n",
              "\n",
              "      <script>\n",
              "        const buttonEl =\n",
              "          document.querySelector('#df-a1d91c01-578a-4d66-a7eb-505089ece8f2 button.colab-df-convert');\n",
              "        buttonEl.style.display =\n",
              "          google.colab.kernel.accessAllowed ? 'block' : 'none';\n",
              "\n",
              "        async function convertToInteractive(key) {\n",
              "          const element = document.querySelector('#df-a1d91c01-578a-4d66-a7eb-505089ece8f2');\n",
              "          const dataTable =\n",
              "            await google.colab.kernel.invokeFunction('convertToInteractive',\n",
              "                                                     [key], {});\n",
              "          if (!dataTable) return;\n",
              "\n",
              "          const docLinkHtml = 'Like what you see? Visit the ' +\n",
              "            '<a target=\"_blank\" href=https://colab.research.google.com/notebooks/data_table.ipynb>data table notebook</a>'\n",
              "            + ' to learn more about interactive tables.';\n",
              "          element.innerHTML = '';\n",
              "          dataTable['output_type'] = 'display_data';\n",
              "          await google.colab.output.renderOutput(dataTable, element);\n",
              "          const docLink = document.createElement('div');\n",
              "          docLink.innerHTML = docLinkHtml;\n",
              "          element.appendChild(docLink);\n",
              "        }\n",
              "      </script>\n",
              "    </div>\n",
              "  </div>\n",
              "  "
            ]
          },
          "metadata": {},
          "execution_count": 37
        }
      ]
    },
    {
      "cell_type": "markdown",
      "source": [
        "## Unzip videos"
      ],
      "metadata": {
        "id": "D8UePuHGZ6wr"
      }
    },
    {
      "cell_type": "code",
      "source": [
        "! unzip \"/content/drive/MyDrive/UTC_Anamoly_dataset/Normal/Normal_Videos_for_Event_Recognition (1).zip\" -d \"/content/drive/MyDrive/UTC_Anamoly_dataset/Normal\""
      ],
      "metadata": {
        "colab": {
          "base_uri": "https://localhost:8080/"
        },
        "id": "EuBC3rXreriJ",
        "outputId": "9c020985-0f5d-4b8d-800c-c6725d9de921"
      },
      "execution_count": 36,
      "outputs": [
        {
          "output_type": "stream",
          "name": "stdout",
          "text": [
            "Archive:  /content/drive/MyDrive/UTC_Anamoly_dataset/Normal/Normal_Videos_for_Event_Recognition (1).zip\n",
            "  inflating: /content/drive/MyDrive/UTC_Anamoly_dataset/Normal/Normal_Videos_for_Event_Recognition/Normal_Videos_015_x264.mp4  \n",
            "  inflating: /content/drive/MyDrive/UTC_Anamoly_dataset/Normal/Normal_Videos_for_Event_Recognition/Normal_Videos_050_x264.mp4  \n",
            "  inflating: /content/drive/MyDrive/UTC_Anamoly_dataset/Normal/Normal_Videos_for_Event_Recognition/Normal_Videos_100_x264.mp4  \n",
            "  inflating: /content/drive/MyDrive/UTC_Anamoly_dataset/Normal/Normal_Videos_for_Event_Recognition/Normal_Videos_129_x264.mp4  \n",
            "  inflating: /content/drive/MyDrive/UTC_Anamoly_dataset/Normal/Normal_Videos_for_Event_Recognition/Normal_Videos_150_x264.mp4  \n",
            "  inflating: /content/drive/MyDrive/UTC_Anamoly_dataset/Normal/Normal_Videos_for_Event_Recognition/Normal_Videos_246_x264.mp4  \n",
            "  inflating: /content/drive/MyDrive/UTC_Anamoly_dataset/Normal/Normal_Videos_for_Event_Recognition/Normal_Videos_247_x264.mp4  \n",
            "  inflating: /content/drive/MyDrive/UTC_Anamoly_dataset/Normal/Normal_Videos_for_Event_Recognition/Normal_Videos_248_x264.mp4  \n",
            "  inflating: /content/drive/MyDrive/UTC_Anamoly_dataset/Normal/Normal_Videos_for_Event_Recognition/Normal_Videos_251_x264.mp4  \n",
            "  inflating: /content/drive/MyDrive/UTC_Anamoly_dataset/Normal/Normal_Videos_for_Event_Recognition/Normal_Videos_289_x264.mp4  \n",
            "  inflating: /content/drive/MyDrive/UTC_Anamoly_dataset/Normal/Normal_Videos_for_Event_Recognition/Normal_Videos_310_x264.mp4  \n",
            "  inflating: /content/drive/MyDrive/UTC_Anamoly_dataset/Normal/Normal_Videos_for_Event_Recognition/Normal_Videos_312_x264.mp4  \n",
            "  inflating: /content/drive/MyDrive/UTC_Anamoly_dataset/Normal/Normal_Videos_for_Event_Recognition/Normal_Videos_317_x264.mp4  \n",
            "  inflating: /content/drive/MyDrive/UTC_Anamoly_dataset/Normal/Normal_Videos_for_Event_Recognition/Normal_Videos_345_x264.mp4  \n",
            "  inflating: /content/drive/MyDrive/UTC_Anamoly_dataset/Normal/Normal_Videos_for_Event_Recognition/Normal_Videos_352_x264.mp4  \n",
            "  inflating: /content/drive/MyDrive/UTC_Anamoly_dataset/Normal/Normal_Videos_for_Event_Recognition/Normal_Videos_360_x264.mp4  \n",
            "  inflating: /content/drive/MyDrive/UTC_Anamoly_dataset/Normal/Normal_Videos_for_Event_Recognition/Normal_Videos_365_x264.mp4  \n",
            "  inflating: /content/drive/MyDrive/UTC_Anamoly_dataset/Normal/Normal_Videos_for_Event_Recognition/Normal_Videos_401_x264.mp4  \n",
            "  inflating: /content/drive/MyDrive/UTC_Anamoly_dataset/Normal/Normal_Videos_for_Event_Recognition/Normal_Videos_417_x264.mp4  \n",
            "  inflating: /content/drive/MyDrive/UTC_Anamoly_dataset/Normal/Normal_Videos_for_Event_Recognition/Normal_Videos_439_x264.mp4  \n",
            "  inflating: /content/drive/MyDrive/UTC_Anamoly_dataset/Normal/Normal_Videos_for_Event_Recognition/Normal_Videos_452_x264.mp4  \n",
            "  inflating: /content/drive/MyDrive/UTC_Anamoly_dataset/Normal/Normal_Videos_for_Event_Recognition/Normal_Videos_453_x264.mp4  \n",
            "  inflating: /content/drive/MyDrive/UTC_Anamoly_dataset/Normal/Normal_Videos_for_Event_Recognition/Normal_Videos_478_x264.mp4  \n",
            "  inflating: /content/drive/MyDrive/UTC_Anamoly_dataset/Normal/Normal_Videos_for_Event_Recognition/Normal_Videos_576_x264.mp4  \n",
            "  inflating: /content/drive/MyDrive/UTC_Anamoly_dataset/Normal/Normal_Videos_for_Event_Recognition/Normal_Videos_597_x264.mp4  \n",
            "  inflating: /content/drive/MyDrive/UTC_Anamoly_dataset/Normal/Normal_Videos_for_Event_Recognition/Normal_Videos_603_x264.mp4  \n",
            "  inflating: /content/drive/MyDrive/UTC_Anamoly_dataset/Normal/Normal_Videos_for_Event_Recognition/Normal_Videos_606_x264.mp4  \n",
            "  inflating: /content/drive/MyDrive/UTC_Anamoly_dataset/Normal/Normal_Videos_for_Event_Recognition/Normal_Videos_621_x264.mp4  \n",
            "  inflating: /content/drive/MyDrive/UTC_Anamoly_dataset/Normal/Normal_Videos_for_Event_Recognition/Normal_Videos_634_x264.mp4  \n",
            "  inflating: /content/drive/MyDrive/UTC_Anamoly_dataset/Normal/Normal_Videos_for_Event_Recognition/Normal_Videos_641_x264.mp4  \n",
            "  inflating: /content/drive/MyDrive/UTC_Anamoly_dataset/Normal/Normal_Videos_for_Event_Recognition/Normal_Videos_656_x264.mp4  \n",
            "  inflating: /content/drive/MyDrive/UTC_Anamoly_dataset/Normal/Normal_Videos_for_Event_Recognition/Normal_Videos_696_x264.mp4  \n",
            "  inflating: /content/drive/MyDrive/UTC_Anamoly_dataset/Normal/Normal_Videos_for_Event_Recognition/Normal_Videos_704_x264.mp4  \n",
            "  inflating: /content/drive/MyDrive/UTC_Anamoly_dataset/Normal/Normal_Videos_for_Event_Recognition/Normal_Videos_722_x264.mp4  \n",
            "  inflating: /content/drive/MyDrive/UTC_Anamoly_dataset/Normal/Normal_Videos_for_Event_Recognition/Normal_Videos_745_x264.mp4  \n",
            "  inflating: /content/drive/MyDrive/UTC_Anamoly_dataset/Normal/Normal_Videos_for_Event_Recognition/Normal_Videos_758_x264.mp4  \n",
            "  inflating: /content/drive/MyDrive/UTC_Anamoly_dataset/Normal/Normal_Videos_for_Event_Recognition/Normal_Videos_781_x264.mp4  \n",
            "  inflating: /content/drive/MyDrive/UTC_Anamoly_dataset/Normal/Normal_Videos_for_Event_Recognition/Normal_Videos_798_x264.mp4  \n",
            "  inflating: /content/drive/MyDrive/UTC_Anamoly_dataset/Normal/Normal_Videos_for_Event_Recognition/Normal_Videos_801_x264.mp4  \n",
            "  inflating: /content/drive/MyDrive/UTC_Anamoly_dataset/Normal/Normal_Videos_for_Event_Recognition/Normal_Videos_828_x264.mp4  \n",
            "  inflating: /content/drive/MyDrive/UTC_Anamoly_dataset/Normal/Normal_Videos_for_Event_Recognition/Normal_Videos_831_x264.mp4  \n",
            "  inflating: /content/drive/MyDrive/UTC_Anamoly_dataset/Normal/Normal_Videos_for_Event_Recognition/Normal_Videos_877_x264.mp4  \n",
            "  inflating: /content/drive/MyDrive/UTC_Anamoly_dataset/Normal/Normal_Videos_for_Event_Recognition/Normal_Videos_881_x264.mp4  \n",
            "  inflating: /content/drive/MyDrive/UTC_Anamoly_dataset/Normal/Normal_Videos_for_Event_Recognition/Normal_Videos_885_x264.mp4  \n",
            "  inflating: /content/drive/MyDrive/UTC_Anamoly_dataset/Normal/Normal_Videos_for_Event_Recognition/Normal_Videos_892_x264.mp4  \n",
            "  inflating: /content/drive/MyDrive/UTC_Anamoly_dataset/Normal/Normal_Videos_for_Event_Recognition/Normal_Videos_905_x264.mp4  \n",
            "  inflating: /content/drive/MyDrive/UTC_Anamoly_dataset/Normal/Normal_Videos_for_Event_Recognition/Normal_Videos_912_x264.mp4  \n",
            "  inflating: /content/drive/MyDrive/UTC_Anamoly_dataset/Normal/Normal_Videos_for_Event_Recognition/Normal_Videos_913_x264.mp4  \n",
            "  inflating: /content/drive/MyDrive/UTC_Anamoly_dataset/Normal/Normal_Videos_for_Event_Recognition/Normal_Videos_914_x264.mp4  \n",
            "  inflating: /content/drive/MyDrive/UTC_Anamoly_dataset/Normal/Normal_Videos_for_Event_Recognition/Normal_Videos_929_x264.mp4  \n"
          ]
        }
      ]
    },
    {
      "cell_type": "code",
      "execution_count": 40,
      "metadata": {
        "id": "N_r4bbk29n4D",
        "outputId": "3639ad8d-96e5-47ee-8e5e-aaa266a94cb1",
        "colab": {
          "base_uri": "https://localhost:8080/"
        }
      },
      "outputs": [
        {
          "output_type": "stream",
          "name": "stdout",
          "text": [
            "Anomaly-Videos-Part-1\n",
            "Abuse\n",
            "Assault\n",
            "Arrest\n",
            "Arson\n",
            "Anomaly-Videos-Part-2\n",
            "Burglary\n",
            "Fighting\n",
            "Explosion\n",
            "Anomaly-Videos-Part-3\n",
            "Robbery\n",
            "RoadAccidents\n",
            "Shooting\n",
            "Anomaly-Videos-Part-4\n",
            "Vandalism\n",
            "Stealing\n",
            "Shoplifting\n"
          ]
        }
      ],
      "source": [
        "for folder in os.listdir(\"/content/drive/MyDrive/UTC_Anamoly_dataset/Anomaly\"):\n",
        "  print(folder)\n",
        "  for sub in os.listdir(os.path.join(\"/content/drive/MyDrive/UTC_Anamoly_dataset/Anomaly\",folder)):\n",
        "    print(sub)"
      ]
    },
    {
      "cell_type": "code",
      "execution_count": null,
      "metadata": {
        "id": "tMJjK-tV9n4E",
        "outputId": "018254d0-10dc-4921-ddb3-667dce73fdee"
      },
      "outputs": [
        {
          "name": "stdout",
          "output_type": "stream",
          "text": [
            "Originals\\ants\n",
            "Originals\\bees\n"
          ]
        }
      ],
      "source": [
        "df_prep = pd.DataFrame({'filename':[],'label':[]})\n",
        "path = 'Originals/'\n",
        "save_path = 'Preprocessed/'\n",
        "path_len = len(path)\n",
        "count = 0\n",
        "for file in glob.glob(path + '*'):\n",
        "    print(file)\n",
        "    file_len = len(file)                                                                         # Calculating the length of the entire file path\n",
        "    for file2 in glob.glob(path + file[path_len:] + '/' + '*.*'):                                # Extracting all the files with all type of extensions (only image files are supposed to be at this location)\n",
        "#           print(file2)\n",
        "        img = cv2.imread(file2)                                                                  # Reading the each image file using OpenCV\n",
        "        count += 1\n",
        "        if '.jpg' in file2:\n",
        "          filename = 'Image_' + str(count) + '.jpg'                                            # Structuring the filenames\n",
        "        elif '.jpeg' in file2:\n",
        "          filename = 'Image_' + str(count) + '.jpeg'\n",
        "        elif '.png' in file2:\n",
        "          filename = 'Image_' + str(count) + '.png'\n",
        "        elif '.gif' in file2:\n",
        "          continue\n",
        "        cv2.imwrite(save_path + filename,                                                    # Saving the image, specifying the new saving path\n",
        "                    img)  \n",
        "        df_prep = df_prep.append({'filename':filename,                                       # Appending the data to the preparation dataframe\n",
        "                                  'label':file[10:]}, \n",
        "                                  ignore_index=True)\n",
        "\n"
      ]
    },
    {
      "cell_type": "code",
      "execution_count": null,
      "metadata": {
        "id": "NoRvhojL9n4F",
        "outputId": "8e8249f7-c4ce-43ae-d18a-08c47b1c3470"
      },
      "outputs": [
        {
          "data": {
            "text/html": [
              "<div>\n",
              "<style scoped>\n",
              "    .dataframe tbody tr th:only-of-type {\n",
              "        vertical-align: middle;\n",
              "    }\n",
              "\n",
              "    .dataframe tbody tr th {\n",
              "        vertical-align: top;\n",
              "    }\n",
              "\n",
              "    .dataframe thead th {\n",
              "        text-align: right;\n",
              "    }\n",
              "</style>\n",
              "<table border=\"1\" class=\"dataframe\">\n",
              "  <thead>\n",
              "    <tr style=\"text-align: right;\">\n",
              "      <th></th>\n",
              "      <th>filename</th>\n",
              "      <th>label</th>\n",
              "    </tr>\n",
              "  </thead>\n",
              "  <tbody>\n",
              "    <tr>\n",
              "      <th>0</th>\n",
              "      <td>Image_1.jpg</td>\n",
              "      <td>ants</td>\n",
              "    </tr>\n",
              "    <tr>\n",
              "      <th>1</th>\n",
              "      <td>Image_2.jpg</td>\n",
              "      <td>ants</td>\n",
              "    </tr>\n",
              "    <tr>\n",
              "      <th>2</th>\n",
              "      <td>Image_3.jpg</td>\n",
              "      <td>ants</td>\n",
              "    </tr>\n",
              "    <tr>\n",
              "      <th>3</th>\n",
              "      <td>Image_4.jpg</td>\n",
              "      <td>ants</td>\n",
              "    </tr>\n",
              "    <tr>\n",
              "      <th>4</th>\n",
              "      <td>Image_5.jpg</td>\n",
              "      <td>ants</td>\n",
              "    </tr>\n",
              "    <tr>\n",
              "      <th>...</th>\n",
              "      <td>...</td>\n",
              "      <td>...</td>\n",
              "    </tr>\n",
              "    <tr>\n",
              "      <th>392</th>\n",
              "      <td>Image_394.jpg</td>\n",
              "      <td>bees</td>\n",
              "    </tr>\n",
              "    <tr>\n",
              "      <th>393</th>\n",
              "      <td>Image_395.jpg</td>\n",
              "      <td>bees</td>\n",
              "    </tr>\n",
              "    <tr>\n",
              "      <th>394</th>\n",
              "      <td>Image_396.jpg</td>\n",
              "      <td>bees</td>\n",
              "    </tr>\n",
              "    <tr>\n",
              "      <th>395</th>\n",
              "      <td>Image_397.jpg</td>\n",
              "      <td>bees</td>\n",
              "    </tr>\n",
              "    <tr>\n",
              "      <th>396</th>\n",
              "      <td>Image_398.jpg</td>\n",
              "      <td>bees</td>\n",
              "    </tr>\n",
              "  </tbody>\n",
              "</table>\n",
              "<p>397 rows × 2 columns</p>\n",
              "</div>"
            ],
            "text/plain": [
              "          filename label\n",
              "0      Image_1.jpg  ants\n",
              "1      Image_2.jpg  ants\n",
              "2      Image_3.jpg  ants\n",
              "3      Image_4.jpg  ants\n",
              "4      Image_5.jpg  ants\n",
              "..             ...   ...\n",
              "392  Image_394.jpg  bees\n",
              "393  Image_395.jpg  bees\n",
              "394  Image_396.jpg  bees\n",
              "395  Image_397.jpg  bees\n",
              "396  Image_398.jpg  bees\n",
              "\n",
              "[397 rows x 2 columns]"
            ]
          },
          "execution_count": 4,
          "metadata": {},
          "output_type": "execute_result"
        }
      ],
      "source": [
        "df_prep"
      ]
    },
    {
      "cell_type": "code",
      "execution_count": null,
      "metadata": {
        "id": "W2XJ-17p9n4G"
      },
      "outputs": [],
      "source": [
        "from sklearn.model_selection import StratifiedShuffleSplit\n",
        "\n",
        "X = df_prep.drop('label', axis=1)\n",
        "y = df_prep['label']\n",
        "split = StratifiedShuffleSplit(n_splits = 10, test_size=0.3, random_state=42)\n",
        "for train_index, test_index in split.split(X, y):\n",
        "    X_train_str, X_test_str = X.iloc[train_index], X.iloc[test_index]\n",
        "    y_train_str, y_test_str = y.iloc[train_index], y.iloc[test_index]"
      ]
    },
    {
      "cell_type": "code",
      "execution_count": null,
      "metadata": {
        "id": "RM49Aqrz9n4G"
      },
      "outputs": [],
      "source": [
        "train_data = pd.concat([X_train_str, y_train_str], axis = 1)"
      ]
    },
    {
      "cell_type": "code",
      "execution_count": null,
      "metadata": {
        "id": "ZqWJXM8f9n4G",
        "outputId": "be565abd-e3a5-407a-9763-dbc1b3ae4dff"
      },
      "outputs": [
        {
          "data": {
            "text/plain": [
              "bees    142\n",
              "ants    135\n",
              "Name: label, dtype: int64"
            ]
          },
          "execution_count": 7,
          "metadata": {},
          "output_type": "execute_result"
        }
      ],
      "source": [
        "train_data.label.value_counts()"
      ]
    },
    {
      "cell_type": "raw",
      "metadata": {
        "id": "siqYiHKQ9n4H"
      },
      "source": []
    },
    {
      "cell_type": "code",
      "execution_count": null,
      "metadata": {
        "id": "bEEXC0xE9n4H",
        "outputId": "4a4e8042-bdf6-47af-c75a-eec0aad99a8d"
      },
      "outputs": [
        {
          "data": {
            "text/html": [
              "<div>\n",
              "<style scoped>\n",
              "    .dataframe tbody tr th:only-of-type {\n",
              "        vertical-align: middle;\n",
              "    }\n",
              "\n",
              "    .dataframe tbody tr th {\n",
              "        vertical-align: top;\n",
              "    }\n",
              "\n",
              "    .dataframe thead th {\n",
              "        text-align: right;\n",
              "    }\n",
              "</style>\n",
              "<table border=\"1\" class=\"dataframe\">\n",
              "  <thead>\n",
              "    <tr style=\"text-align: right;\">\n",
              "      <th></th>\n",
              "      <th>filename</th>\n",
              "      <th>label</th>\n",
              "    </tr>\n",
              "  </thead>\n",
              "  <tbody>\n",
              "    <tr>\n",
              "      <th>172</th>\n",
              "      <td>Image_173.jpg</td>\n",
              "      <td>ants</td>\n",
              "    </tr>\n",
              "    <tr>\n",
              "      <th>323</th>\n",
              "      <td>Image_325.jpg</td>\n",
              "      <td>bees</td>\n",
              "    </tr>\n",
              "    <tr>\n",
              "      <th>284</th>\n",
              "      <td>Image_286.jpg</td>\n",
              "      <td>bees</td>\n",
              "    </tr>\n",
              "    <tr>\n",
              "      <th>362</th>\n",
              "      <td>Image_364.jpg</td>\n",
              "      <td>bees</td>\n",
              "    </tr>\n",
              "    <tr>\n",
              "      <th>171</th>\n",
              "      <td>Image_172.jpg</td>\n",
              "      <td>ants</td>\n",
              "    </tr>\n",
              "    <tr>\n",
              "      <th>...</th>\n",
              "      <td>...</td>\n",
              "      <td>...</td>\n",
              "    </tr>\n",
              "    <tr>\n",
              "      <th>187</th>\n",
              "      <td>Image_189.jpg</td>\n",
              "      <td>ants</td>\n",
              "    </tr>\n",
              "    <tr>\n",
              "      <th>17</th>\n",
              "      <td>Image_18.jpg</td>\n",
              "      <td>ants</td>\n",
              "    </tr>\n",
              "    <tr>\n",
              "      <th>83</th>\n",
              "      <td>Image_84.jpg</td>\n",
              "      <td>ants</td>\n",
              "    </tr>\n",
              "    <tr>\n",
              "      <th>82</th>\n",
              "      <td>Image_83.jpg</td>\n",
              "      <td>ants</td>\n",
              "    </tr>\n",
              "    <tr>\n",
              "      <th>314</th>\n",
              "      <td>Image_316.jpg</td>\n",
              "      <td>bees</td>\n",
              "    </tr>\n",
              "  </tbody>\n",
              "</table>\n",
              "<p>277 rows × 2 columns</p>\n",
              "</div>"
            ],
            "text/plain": [
              "          filename label\n",
              "172  Image_173.jpg  ants\n",
              "323  Image_325.jpg  bees\n",
              "284  Image_286.jpg  bees\n",
              "362  Image_364.jpg  bees\n",
              "171  Image_172.jpg  ants\n",
              "..             ...   ...\n",
              "187  Image_189.jpg  ants\n",
              "17    Image_18.jpg  ants\n",
              "83    Image_84.jpg  ants\n",
              "82    Image_83.jpg  ants\n",
              "314  Image_316.jpg  bees\n",
              "\n",
              "[277 rows x 2 columns]"
            ]
          },
          "execution_count": 8,
          "metadata": {},
          "output_type": "execute_result"
        }
      ],
      "source": [
        "train_data"
      ]
    },
    {
      "cell_type": "code",
      "execution_count": null,
      "metadata": {
        "id": "zPJyElVg9n4I"
      },
      "outputs": [],
      "source": [
        "test_data = pd.concat([X_test_str, y_test_str], axis = 1)"
      ]
    },
    {
      "cell_type": "code",
      "execution_count": null,
      "metadata": {
        "id": "PuCkfUgf9n4I",
        "outputId": "71f8d560-2128-4a1a-b90c-4122ac0ab668"
      },
      "outputs": [
        {
          "data": {
            "text/html": [
              "<div>\n",
              "<style scoped>\n",
              "    .dataframe tbody tr th:only-of-type {\n",
              "        vertical-align: middle;\n",
              "    }\n",
              "\n",
              "    .dataframe tbody tr th {\n",
              "        vertical-align: top;\n",
              "    }\n",
              "\n",
              "    .dataframe thead th {\n",
              "        text-align: right;\n",
              "    }\n",
              "</style>\n",
              "<table border=\"1\" class=\"dataframe\">\n",
              "  <thead>\n",
              "    <tr style=\"text-align: right;\">\n",
              "      <th></th>\n",
              "      <th>filename</th>\n",
              "      <th>label</th>\n",
              "    </tr>\n",
              "  </thead>\n",
              "  <tbody>\n",
              "    <tr>\n",
              "      <th>196</th>\n",
              "      <td>Image_198.jpg</td>\n",
              "      <td>bees</td>\n",
              "    </tr>\n",
              "    <tr>\n",
              "      <th>282</th>\n",
              "      <td>Image_284.jpg</td>\n",
              "      <td>bees</td>\n",
              "    </tr>\n",
              "    <tr>\n",
              "      <th>261</th>\n",
              "      <td>Image_263.jpg</td>\n",
              "      <td>bees</td>\n",
              "    </tr>\n",
              "    <tr>\n",
              "      <th>50</th>\n",
              "      <td>Image_51.jpg</td>\n",
              "      <td>ants</td>\n",
              "    </tr>\n",
              "    <tr>\n",
              "      <th>245</th>\n",
              "      <td>Image_247.jpg</td>\n",
              "      <td>bees</td>\n",
              "    </tr>\n",
              "    <tr>\n",
              "      <th>...</th>\n",
              "      <td>...</td>\n",
              "      <td>...</td>\n",
              "    </tr>\n",
              "    <tr>\n",
              "      <th>43</th>\n",
              "      <td>Image_44.jpg</td>\n",
              "      <td>ants</td>\n",
              "    </tr>\n",
              "    <tr>\n",
              "      <th>18</th>\n",
              "      <td>Image_19.jpg</td>\n",
              "      <td>ants</td>\n",
              "    </tr>\n",
              "    <tr>\n",
              "      <th>19</th>\n",
              "      <td>Image_20.jpg</td>\n",
              "      <td>ants</td>\n",
              "    </tr>\n",
              "    <tr>\n",
              "      <th>5</th>\n",
              "      <td>Image_6.jpg</td>\n",
              "      <td>ants</td>\n",
              "    </tr>\n",
              "    <tr>\n",
              "      <th>275</th>\n",
              "      <td>Image_277.jpg</td>\n",
              "      <td>bees</td>\n",
              "    </tr>\n",
              "  </tbody>\n",
              "</table>\n",
              "<p>120 rows × 2 columns</p>\n",
              "</div>"
            ],
            "text/plain": [
              "          filename label\n",
              "196  Image_198.jpg  bees\n",
              "282  Image_284.jpg  bees\n",
              "261  Image_263.jpg  bees\n",
              "50    Image_51.jpg  ants\n",
              "245  Image_247.jpg  bees\n",
              "..             ...   ...\n",
              "43    Image_44.jpg  ants\n",
              "18    Image_19.jpg  ants\n",
              "19    Image_20.jpg  ants\n",
              "5      Image_6.jpg  ants\n",
              "275  Image_277.jpg  bees\n",
              "\n",
              "[120 rows x 2 columns]"
            ]
          },
          "execution_count": 10,
          "metadata": {},
          "output_type": "execute_result"
        }
      ],
      "source": [
        "test_data"
      ]
    },
    {
      "cell_type": "code",
      "execution_count": null,
      "metadata": {
        "id": "Ms-5RSnb9n4J",
        "outputId": "a5711d41-7391-4f9b-cff8-020a5db20e5b"
      },
      "outputs": [
        {
          "data": {
            "text/plain": [
              "bees    62\n",
              "ants    58\n",
              "Name: label, dtype: int64"
            ]
          },
          "execution_count": 11,
          "metadata": {},
          "output_type": "execute_result"
        }
      ],
      "source": [
        "test_data.label.value_counts()"
      ]
    },
    {
      "cell_type": "code",
      "execution_count": null,
      "metadata": {
        "id": "8rGGdCnb9n4J"
      },
      "outputs": [],
      "source": [
        "df_training = train_data.sample(frac=1).reset_index(drop=True)\n",
        "df_training['filename_new'] = 'Image_' + (df_training.index + 1).astype(str)+ '.jpg'"
      ]
    },
    {
      "cell_type": "code",
      "execution_count": null,
      "metadata": {
        "id": "PTecvQ1F9n4J"
      },
      "outputs": [],
      "source": [
        "        "
      ]
    },
    {
      "cell_type": "code",
      "execution_count": null,
      "metadata": {
        "id": "8bLdqjOH9n4K"
      },
      "outputs": [],
      "source": [
        "df_testing = test_data.sample(frac=1).reset_index(drop=True)\n",
        "df_testing['filename_new'] = 'Image_' + (df_testing.index + 1).astype(str)+ '.jpg'"
      ]
    },
    {
      "cell_type": "code",
      "execution_count": null,
      "metadata": {
        "id": "SRrT1pn19n4K",
        "outputId": "40f506a5-bc47-4649-ae88-98bb4b1547ce"
      },
      "outputs": [
        {
          "data": {
            "text/html": [
              "<div>\n",
              "<style scoped>\n",
              "    .dataframe tbody tr th:only-of-type {\n",
              "        vertical-align: middle;\n",
              "    }\n",
              "\n",
              "    .dataframe tbody tr th {\n",
              "        vertical-align: top;\n",
              "    }\n",
              "\n",
              "    .dataframe thead th {\n",
              "        text-align: right;\n",
              "    }\n",
              "</style>\n",
              "<table border=\"1\" class=\"dataframe\">\n",
              "  <thead>\n",
              "    <tr style=\"text-align: right;\">\n",
              "      <th></th>\n",
              "      <th>filename</th>\n",
              "      <th>label</th>\n",
              "      <th>filename_new</th>\n",
              "    </tr>\n",
              "  </thead>\n",
              "  <tbody>\n",
              "    <tr>\n",
              "      <th>0</th>\n",
              "      <td>Image_262.jpg</td>\n",
              "      <td>bees</td>\n",
              "      <td>Image_1.jpg</td>\n",
              "    </tr>\n",
              "    <tr>\n",
              "      <th>1</th>\n",
              "      <td>Image_271.jpg</td>\n",
              "      <td>bees</td>\n",
              "      <td>Image_2.jpg</td>\n",
              "    </tr>\n",
              "    <tr>\n",
              "      <th>2</th>\n",
              "      <td>Image_125.jpg</td>\n",
              "      <td>ants</td>\n",
              "      <td>Image_3.jpg</td>\n",
              "    </tr>\n",
              "    <tr>\n",
              "      <th>3</th>\n",
              "      <td>Image_274.jpg</td>\n",
              "      <td>bees</td>\n",
              "      <td>Image_4.jpg</td>\n",
              "    </tr>\n",
              "    <tr>\n",
              "      <th>4</th>\n",
              "      <td>Image_206.jpg</td>\n",
              "      <td>bees</td>\n",
              "      <td>Image_5.jpg</td>\n",
              "    </tr>\n",
              "    <tr>\n",
              "      <th>...</th>\n",
              "      <td>...</td>\n",
              "      <td>...</td>\n",
              "      <td>...</td>\n",
              "    </tr>\n",
              "    <tr>\n",
              "      <th>115</th>\n",
              "      <td>Image_297.jpg</td>\n",
              "      <td>bees</td>\n",
              "      <td>Image_116.jpg</td>\n",
              "    </tr>\n",
              "    <tr>\n",
              "      <th>116</th>\n",
              "      <td>Image_284.jpg</td>\n",
              "      <td>bees</td>\n",
              "      <td>Image_117.jpg</td>\n",
              "    </tr>\n",
              "    <tr>\n",
              "      <th>117</th>\n",
              "      <td>Image_306.jpg</td>\n",
              "      <td>bees</td>\n",
              "      <td>Image_118.jpg</td>\n",
              "    </tr>\n",
              "    <tr>\n",
              "      <th>118</th>\n",
              "      <td>Image_198.jpg</td>\n",
              "      <td>bees</td>\n",
              "      <td>Image_119.jpg</td>\n",
              "    </tr>\n",
              "    <tr>\n",
              "      <th>119</th>\n",
              "      <td>Image_269.jpg</td>\n",
              "      <td>bees</td>\n",
              "      <td>Image_120.jpg</td>\n",
              "    </tr>\n",
              "  </tbody>\n",
              "</table>\n",
              "<p>120 rows × 3 columns</p>\n",
              "</div>"
            ],
            "text/plain": [
              "          filename label   filename_new\n",
              "0    Image_262.jpg  bees    Image_1.jpg\n",
              "1    Image_271.jpg  bees    Image_2.jpg\n",
              "2    Image_125.jpg  ants    Image_3.jpg\n",
              "3    Image_274.jpg  bees    Image_4.jpg\n",
              "4    Image_206.jpg  bees    Image_5.jpg\n",
              "..             ...   ...            ...\n",
              "115  Image_297.jpg  bees  Image_116.jpg\n",
              "116  Image_284.jpg  bees  Image_117.jpg\n",
              "117  Image_306.jpg  bees  Image_118.jpg\n",
              "118  Image_198.jpg  bees  Image_119.jpg\n",
              "119  Image_269.jpg  bees  Image_120.jpg\n",
              "\n",
              "[120 rows x 3 columns]"
            ]
          },
          "execution_count": 14,
          "metadata": {},
          "output_type": "execute_result"
        }
      ],
      "source": [
        "df_testing"
      ]
    },
    {
      "cell_type": "code",
      "execution_count": null,
      "metadata": {
        "id": "j-HjYpSC9n4K",
        "outputId": "361a9dc3-4f6b-45a8-96ff-cbd03273815a"
      },
      "outputs": [
        {
          "name": "stdout",
          "output_type": "stream",
          "text": [
            "Done\n"
          ]
        }
      ],
      "source": [
        "def copy_image(orig_path, final_path):\n",
        "    img = cv2.imread(orig_path)\n",
        "    cv2.imwrite(final_path, img)\n",
        "    \n",
        "\n",
        "testing_path = 'test/'\n",
        "if not os.path.exists(testing_path):\n",
        "    os.mkdir(testing_path)\n",
        "    \n",
        "training_path = 'train/'\n",
        "if not os.path.exists(training_path):\n",
        "    os.mkdir(training_path)\n",
        "    \n",
        "df_training.apply(lambda row: copy_image(save_path + row['filename'], training_path + row['filename_new']), axis=1)\n",
        "df_testing.apply(lambda row: copy_image(save_path + row['filename'], testing_path + row['filename_new']), axis=1)\n",
        "\n",
        "df_training.drop(columns=['filename']). \\\n",
        "    rename(columns={'filename_new':'filename','label':'label'})[['filename','label']]. \\\n",
        "    set_index('filename').to_csv('Training_set.csv')\n",
        "df_testing.drop(columns=['filename']). \\\n",
        "    rename(columns={'filename_new':'filename','label':'label'})[['filename','label']]. \\\n",
        "    set_index('filename').to_csv('Testing_set_ans.csv')\n",
        "df_testing.drop(columns=['filename']). \\\n",
        "    rename(columns={'filename_new':'filename','label':'label'})['filename']. \\\n",
        "    to_csv('Testing_set.csv', index=False)\n",
        "\n",
        "print('Done')"
      ]
    },
    {
      "cell_type": "code",
      "execution_count": null,
      "metadata": {
        "id": "xXGlBQu69n4L"
      },
      "outputs": [],
      "source": []
    },
    {
      "cell_type": "code",
      "execution_count": null,
      "metadata": {
        "id": "Yw01WEQM9n4L"
      },
      "outputs": [],
      "source": []
    }
  ],
  "metadata": {
    "kernelspec": {
      "display_name": "Python 3",
      "language": "python",
      "name": "python3"
    },
    "language_info": {
      "codemirror_mode": {
        "name": "ipython",
        "version": 3
      },
      "file_extension": ".py",
      "mimetype": "text/x-python",
      "name": "python",
      "nbconvert_exporter": "python",
      "pygments_lexer": "ipython3",
      "version": "3.8.5"
    },
    "colab": {
      "provenance": [],
      "include_colab_link": true
    }
  },
  "nbformat": 4,
  "nbformat_minor": 0
}