{
  "nbformat": 4,
  "nbformat_minor": 0,
  "metadata": {
    "colab": {
      "provenance": [],
      "authorship_tag": "ABX9TyOOZ3JvbhxlDJG4SW4f0CUe",
      "include_colab_link": true
    },
    "kernelspec": {
      "name": "python3",
      "display_name": "Python 3"
    },
    "language_info": {
      "name": "python"
    },
    "widgets": {
      "application/vnd.jupyter.widget-state+json": {
        "59e7c25e3e06418ea066ec40278c9ae9": {
          "model_module": "qslwidgets",
          "model_name": "MediaLabelerModel",
          "model_module_version": "0.2.10",
          "state": {
            "_dom_classes": [],
            "_model_module": "qslwidgets",
            "_model_module_version": "0.2.10",
            "_model_name": "MediaLabelerModel",
            "_view_count": null,
            "_view_module": "qslwidgets",
            "_view_module_version": "0.2.10",
            "_view_name": "MediaLabelerView",
            "action": "",
            "base": {
              "serverRoot": "",
              "url": "https://localhost:8080/"
            },
            "buttons": {
              "prev": true,
              "next": true,
              "save": true,
              "config": true,
              "delete": false,
              "ignore": true,
              "unignore": false
            },
            "config": {
              "image": [
                {
                  "name": "25-30",
                  "displayName": "",
                  "multiple": false,
                  "freeform": true,
                  "required": false
                },
                {
                  "name": "40-45",
                  "displayName": "",
                  "multiple": false,
                  "freeform": true,
                  "required": false
                },
                {
                  "name": "13-19",
                  "displayName": "",
                  "multiple": false,
                  "freeform": true,
                  "required": false
                },
                {
                  "name": "0-2",
                  "displayName": "",
                  "multiple": false,
                  "freeform": true,
                  "required": false
                },
                {
                  "name": "25-40",
                  "displayName": "",
                  "multiple": false,
                  "freeform": true,
                  "required": false
                }
              ],
              "regions": []
            },
            "idx": 2,
            "indexState": {
              "rows": [
                {
                  "qslId": 0,
                  "target": "/content/drive/MyDrive/Qualcom/eye_gender_data/train/Image_1.jpg",
                  "labeled": "No",
                  "ignored": "No"
                },
                {
                  "qslId": 1,
                  "target": "/content/drive/MyDrive/Qualcom/eye_gender_data/train/Image_10.jpg",
                  "labeled": "No",
                  "ignored": "No"
                },
                {
                  "qslId": 2,
                  "target": "/content/drive/MyDrive/Qualcom/eye_gender_data/train/Image_100.jpg",
                  "labeled": "No",
                  "ignored": "No"
                },
                {
                  "qslId": 3,
                  "target": "/content/drive/MyDrive/Qualcom/eye_gender_data/train/Image_1000.jpg",
                  "labeled": "No",
                  "ignored": "No"
                },
                {
                  "qslId": 4,
                  "target": "/content/drive/MyDrive/Qualcom/eye_gender_data/train/Image_1001.jpg",
                  "labeled": "No",
                  "ignored": "No"
                },
                {
                  "qslId": 5,
                  "target": "/content/drive/MyDrive/Qualcom/eye_gender_data/train/Image_1002.jpg",
                  "labeled": "No",
                  "ignored": "No"
                },
                {
                  "qslId": 6,
                  "target": "/content/drive/MyDrive/Qualcom/eye_gender_data/train/Image_1003.jpg",
                  "labeled": "No",
                  "ignored": "No"
                }
              ],
              "columns": [
                {
                  "field": "target",
                  "type": "string",
                  "flex": 1,
                  "headerName": "Target"
                },
                {
                  "field": "labeled",
                  "type": "string",
                  "headerName": "Labeled"
                },
                {
                  "field": "ignored",
                  "type": "string",
                  "headerName": "Ignored"
                }
              ],
              "rowCount": 9220,
              "page": 0,
              "rowsPerPage": 7,
              "sortModel": [],
              "filterModel": []
            },
            "labels": {},
            "layout": "IPY_MODEL_b1dd5f43cdf24336b35e6694b24cd718",
            "maxCanvasSize": 512,
            "maxViewHeight": 512,
            "message": "",
            "mode": "light",
            "preload": [],
            "progress": 0,
            "states": [
              {
                "idx": 2,
                "target": null,
                "type": "image",
                "metadata": {},
                "selected": true,
                "ignored": false,
                "labeled": false,
                "labels": {},
                "visible": true
              }
            ],
            "type": "image",
            "urls": [
              "data:image/jpeg;charset=utf-8;base64,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"
            ],
            "viewState": "labeling"
          }
        },
        "b1dd5f43cdf24336b35e6694b24cd718": {
          "model_module": "@jupyter-widgets/base",
          "model_name": "LayoutModel",
          "model_module_version": "1.2.0",
          "state": {
            "_model_module": "@jupyter-widgets/base",
            "_model_module_version": "1.2.0",
            "_model_name": "LayoutModel",
            "_view_count": null,
            "_view_module": "@jupyter-widgets/base",
            "_view_module_version": "1.2.0",
            "_view_name": "LayoutView",
            "align_content": null,
            "align_items": null,
            "align_self": null,
            "border": null,
            "bottom": null,
            "display": null,
            "flex": null,
            "flex_flow": null,
            "grid_area": null,
            "grid_auto_columns": null,
            "grid_auto_flow": null,
            "grid_auto_rows": null,
            "grid_column": null,
            "grid_gap": null,
            "grid_row": null,
            "grid_template_areas": null,
            "grid_template_columns": null,
            "grid_template_rows": null,
            "height": null,
            "justify_content": null,
            "justify_items": null,
            "left": null,
            "margin": null,
            "max_height": null,
            "max_width": null,
            "min_height": null,
            "min_width": null,
            "object_fit": null,
            "object_position": null,
            "order": null,
            "overflow": null,
            "overflow_x": null,
            "overflow_y": null,
            "padding": null,
            "right": null,
            "top": null,
            "visibility": null,
            "width": null
          }
        }
      }
    }
  },
  "cells": [
    {
      "cell_type": "markdown",
      "metadata": {
        "id": "view-in-github",
        "colab_type": "text"
      },
      "source": [
        "<a href=\"https://colab.research.google.com/github/plaban1981/Deep-Learning-KERAS/blob/master/Labeling_Imgages.ipynb\" target=\"_parent\"><img src=\"https://colab.research.google.com/assets/colab-badge.svg\" alt=\"Open In Colab\"/></a>"
      ]
    },
    {
      "cell_type": "code",
      "execution_count": 2,
      "metadata": {
        "colab": {
          "base_uri": "https://localhost:8080/"
        },
        "id": "uy7k_zpvVxvd",
        "outputId": "ef6dc5b4-eae8-489b-e21f-1ec061e4261e"
      },
      "outputs": [
        {
          "output_type": "stream",
          "name": "stdout",
          "text": [
            "Mounted at /content/drive\n"
          ]
        }
      ],
      "source": [
        "from google.colab import drive\n",
        "drive.mount(\"/content/drive\")"
      ]
    },
    {
      "cell_type": "code",
      "source": [
        "pip install qsl"
      ],
      "metadata": {
        "colab": {
          "base_uri": "https://localhost:8080/"
        },
        "id": "nyQtvF0GWiik",
        "outputId": "65c35437-9ee4-46ae-b800-e2cb54c78152"
      },
      "execution_count": 3,
      "outputs": [
        {
          "output_type": "stream",
          "name": "stdout",
          "text": [
            "Looking in indexes: https://pypi.org/simple, https://us-python.pkg.dev/colab-wheels/public/simple/\n",
            "Collecting qsl\n",
            "  Downloading qsl-0.2.10-py2.py3-none-any.whl (1.6 MB)\n",
            "\u001b[K     |████████████████████████████████| 1.6 MB 34.5 MB/s \n",
            "\u001b[?25hCollecting filetype\n",
            "  Downloading filetype-1.1.0-py2.py3-none-any.whl (17 kB)\n",
            "Requirement already satisfied: typing-extensions in /usr/local/lib/python3.7/dist-packages (from qsl) (4.1.1)\n",
            "Requirement already satisfied: ipywidgets>=7.0.0 in /usr/local/lib/python3.7/dist-packages (from qsl) (7.7.1)\n",
            "Requirement already satisfied: jupyterlab-widgets>=1.0.0 in /usr/local/lib/python3.7/dist-packages (from ipywidgets>=7.0.0->qsl) (3.0.3)\n",
            "Requirement already satisfied: widgetsnbextension~=3.6.0 in /usr/local/lib/python3.7/dist-packages (from ipywidgets>=7.0.0->qsl) (3.6.1)\n",
            "Requirement already satisfied: ipython-genutils~=0.2.0 in /usr/local/lib/python3.7/dist-packages (from ipywidgets>=7.0.0->qsl) (0.2.0)\n",
            "Requirement already satisfied: ipython>=4.0.0 in /usr/local/lib/python3.7/dist-packages (from ipywidgets>=7.0.0->qsl) (7.9.0)\n",
            "Requirement already satisfied: ipykernel>=4.5.1 in /usr/local/lib/python3.7/dist-packages (from ipywidgets>=7.0.0->qsl) (5.3.4)\n",
            "Requirement already satisfied: traitlets>=4.3.1 in /usr/local/lib/python3.7/dist-packages (from ipywidgets>=7.0.0->qsl) (5.1.1)\n",
            "Requirement already satisfied: jupyter-client in /usr/local/lib/python3.7/dist-packages (from ipykernel>=4.5.1->ipywidgets>=7.0.0->qsl) (6.1.12)\n",
            "Requirement already satisfied: tornado>=4.2 in /usr/local/lib/python3.7/dist-packages (from ipykernel>=4.5.1->ipywidgets>=7.0.0->qsl) (5.1.1)\n",
            "Requirement already satisfied: pygments in /usr/local/lib/python3.7/dist-packages (from ipython>=4.0.0->ipywidgets>=7.0.0->qsl) (2.6.1)\n",
            "Requirement already satisfied: decorator in /usr/local/lib/python3.7/dist-packages (from ipython>=4.0.0->ipywidgets>=7.0.0->qsl) (4.4.2)\n",
            "Collecting jedi>=0.10\n",
            "  Downloading jedi-0.18.1-py2.py3-none-any.whl (1.6 MB)\n",
            "\u001b[K     |████████████████████████████████| 1.6 MB 64.5 MB/s \n",
            "\u001b[?25hRequirement already satisfied: pexpect in /usr/local/lib/python3.7/dist-packages (from ipython>=4.0.0->ipywidgets>=7.0.0->qsl) (4.8.0)\n",
            "Requirement already satisfied: pickleshare in /usr/local/lib/python3.7/dist-packages (from ipython>=4.0.0->ipywidgets>=7.0.0->qsl) (0.7.5)\n",
            "Requirement already satisfied: backcall in /usr/local/lib/python3.7/dist-packages (from ipython>=4.0.0->ipywidgets>=7.0.0->qsl) (0.2.0)\n",
            "Requirement already satisfied: setuptools>=18.5 in /usr/local/lib/python3.7/dist-packages (from ipython>=4.0.0->ipywidgets>=7.0.0->qsl) (57.4.0)\n",
            "Requirement already satisfied: prompt-toolkit<2.1.0,>=2.0.0 in /usr/local/lib/python3.7/dist-packages (from ipython>=4.0.0->ipywidgets>=7.0.0->qsl) (2.0.10)\n",
            "Requirement already satisfied: parso<0.9.0,>=0.8.0 in /usr/local/lib/python3.7/dist-packages (from jedi>=0.10->ipython>=4.0.0->ipywidgets>=7.0.0->qsl) (0.8.3)\n",
            "Requirement already satisfied: wcwidth in /usr/local/lib/python3.7/dist-packages (from prompt-toolkit<2.1.0,>=2.0.0->ipython>=4.0.0->ipywidgets>=7.0.0->qsl) (0.2.5)\n",
            "Requirement already satisfied: six>=1.9.0 in /usr/local/lib/python3.7/dist-packages (from prompt-toolkit<2.1.0,>=2.0.0->ipython>=4.0.0->ipywidgets>=7.0.0->qsl) (1.15.0)\n",
            "Requirement already satisfied: notebook>=4.4.1 in /usr/local/lib/python3.7/dist-packages (from widgetsnbextension~=3.6.0->ipywidgets>=7.0.0->qsl) (5.3.1)\n",
            "Requirement already satisfied: terminado>=0.8.1 in /usr/local/lib/python3.7/dist-packages (from notebook>=4.4.1->widgetsnbextension~=3.6.0->ipywidgets>=7.0.0->qsl) (0.13.3)\n",
            "Requirement already satisfied: Send2Trash in /usr/local/lib/python3.7/dist-packages (from notebook>=4.4.1->widgetsnbextension~=3.6.0->ipywidgets>=7.0.0->qsl) (1.8.0)\n",
            "Requirement already satisfied: nbformat in /usr/local/lib/python3.7/dist-packages (from notebook>=4.4.1->widgetsnbextension~=3.6.0->ipywidgets>=7.0.0->qsl) (5.4.0)\n",
            "Requirement already satisfied: jinja2 in /usr/local/lib/python3.7/dist-packages (from notebook>=4.4.1->widgetsnbextension~=3.6.0->ipywidgets>=7.0.0->qsl) (2.11.3)\n",
            "Requirement already satisfied: nbconvert in /usr/local/lib/python3.7/dist-packages (from notebook>=4.4.1->widgetsnbextension~=3.6.0->ipywidgets>=7.0.0->qsl) (5.6.1)\n",
            "Requirement already satisfied: jupyter-core>=4.4.0 in /usr/local/lib/python3.7/dist-packages (from notebook>=4.4.1->widgetsnbextension~=3.6.0->ipywidgets>=7.0.0->qsl) (4.11.1)\n",
            "Requirement already satisfied: pyzmq>=13 in /usr/local/lib/python3.7/dist-packages (from jupyter-client->ipykernel>=4.5.1->ipywidgets>=7.0.0->qsl) (23.2.1)\n",
            "Requirement already satisfied: python-dateutil>=2.1 in /usr/local/lib/python3.7/dist-packages (from jupyter-client->ipykernel>=4.5.1->ipywidgets>=7.0.0->qsl) (2.8.2)\n",
            "Requirement already satisfied: ptyprocess in /usr/local/lib/python3.7/dist-packages (from terminado>=0.8.1->notebook>=4.4.1->widgetsnbextension~=3.6.0->ipywidgets>=7.0.0->qsl) (0.7.0)\n",
            "Requirement already satisfied: MarkupSafe>=0.23 in /usr/local/lib/python3.7/dist-packages (from jinja2->notebook>=4.4.1->widgetsnbextension~=3.6.0->ipywidgets>=7.0.0->qsl) (2.0.1)\n",
            "Requirement already satisfied: entrypoints>=0.2.2 in /usr/local/lib/python3.7/dist-packages (from nbconvert->notebook>=4.4.1->widgetsnbextension~=3.6.0->ipywidgets>=7.0.0->qsl) (0.4)\n",
            "Requirement already satisfied: testpath in /usr/local/lib/python3.7/dist-packages (from nbconvert->notebook>=4.4.1->widgetsnbextension~=3.6.0->ipywidgets>=7.0.0->qsl) (0.6.0)\n",
            "Requirement already satisfied: defusedxml in /usr/local/lib/python3.7/dist-packages (from nbconvert->notebook>=4.4.1->widgetsnbextension~=3.6.0->ipywidgets>=7.0.0->qsl) (0.7.1)\n",
            "Requirement already satisfied: mistune<2,>=0.8.1 in /usr/local/lib/python3.7/dist-packages (from nbconvert->notebook>=4.4.1->widgetsnbextension~=3.6.0->ipywidgets>=7.0.0->qsl) (0.8.4)\n",
            "Requirement already satisfied: pandocfilters>=1.4.1 in /usr/local/lib/python3.7/dist-packages (from nbconvert->notebook>=4.4.1->widgetsnbextension~=3.6.0->ipywidgets>=7.0.0->qsl) (1.5.0)\n",
            "Requirement already satisfied: bleach in /usr/local/lib/python3.7/dist-packages (from nbconvert->notebook>=4.4.1->widgetsnbextension~=3.6.0->ipywidgets>=7.0.0->qsl) (5.0.1)\n",
            "Requirement already satisfied: fastjsonschema in /usr/local/lib/python3.7/dist-packages (from nbformat->notebook>=4.4.1->widgetsnbextension~=3.6.0->ipywidgets>=7.0.0->qsl) (2.16.1)\n",
            "Requirement already satisfied: jsonschema>=2.6 in /usr/local/lib/python3.7/dist-packages (from nbformat->notebook>=4.4.1->widgetsnbextension~=3.6.0->ipywidgets>=7.0.0->qsl) (4.3.3)\n",
            "Requirement already satisfied: importlib-resources>=1.4.0 in /usr/local/lib/python3.7/dist-packages (from jsonschema>=2.6->nbformat->notebook>=4.4.1->widgetsnbextension~=3.6.0->ipywidgets>=7.0.0->qsl) (5.9.0)\n",
            "Requirement already satisfied: pyrsistent!=0.17.0,!=0.17.1,!=0.17.2,>=0.14.0 in /usr/local/lib/python3.7/dist-packages (from jsonschema>=2.6->nbformat->notebook>=4.4.1->widgetsnbextension~=3.6.0->ipywidgets>=7.0.0->qsl) (0.18.1)\n",
            "Requirement already satisfied: attrs>=17.4.0 in /usr/local/lib/python3.7/dist-packages (from jsonschema>=2.6->nbformat->notebook>=4.4.1->widgetsnbextension~=3.6.0->ipywidgets>=7.0.0->qsl) (22.1.0)\n",
            "Requirement already satisfied: importlib-metadata in /usr/local/lib/python3.7/dist-packages (from jsonschema>=2.6->nbformat->notebook>=4.4.1->widgetsnbextension~=3.6.0->ipywidgets>=7.0.0->qsl) (4.12.0)\n",
            "Requirement already satisfied: zipp>=3.1.0 in /usr/local/lib/python3.7/dist-packages (from importlib-resources>=1.4.0->jsonschema>=2.6->nbformat->notebook>=4.4.1->widgetsnbextension~=3.6.0->ipywidgets>=7.0.0->qsl) (3.8.1)\n",
            "Requirement already satisfied: webencodings in /usr/local/lib/python3.7/dist-packages (from bleach->nbconvert->notebook>=4.4.1->widgetsnbextension~=3.6.0->ipywidgets>=7.0.0->qsl) (0.5.1)\n",
            "Installing collected packages: jedi, filetype, qsl\n",
            "Successfully installed filetype-1.1.0 jedi-0.18.1 qsl-0.2.10\n"
          ]
        }
      ]
    },
    {
      "cell_type": "code",
      "source": [
        "from google.colab import output\n",
        "output.enable_custom_widget_manager()"
      ],
      "metadata": {
        "id": "6JmxkGItXoh9"
      },
      "execution_count": 6,
      "outputs": []
    },
    {
      "cell_type": "code",
      "source": [
        "import glob\n",
        "from IPython.display import display\n",
        "import qsl\n",
        "\n",
        "widget = qsl.MediaLabeler(\n",
        "    items=[{\"target\": f} for f in glob.glob(\"/content/drive/MyDrive/Qualcom/eye_gender_data/train/*\")],\n",
        "    jsonpath=\"labels.json\"\n",
        ")\n",
        "display(widget)"
      ],
      "metadata": {
        "colab": {
          "base_uri": "https://localhost:8080/",
          "height": 844,
          "referenced_widgets": [
            "59e7c25e3e06418ea066ec40278c9ae9",
            "b1dd5f43cdf24336b35e6694b24cd718"
          ]
        },
        "id": "gBGkl68AXl--",
        "outputId": "369eca48-e291-411d-9c2c-219293624ae3"
      },
      "execution_count": 8,
      "outputs": [
        {
          "output_type": "display_data",
          "data": {
            "text/plain": [
              "MediaLabeler(buttons={'prev': False, 'next': True, 'save': True, 'config': True, 'delete': False, 'ignore': Tr…"
            ],
            "application/vnd.jupyter.widget-view+json": {
              "version_major": 2,
              "version_minor": 0,
              "model_id": "59e7c25e3e06418ea066ec40278c9ae9"
            }
          },
          "metadata": {
            "application/vnd.jupyter.widget-view+json": {
              "colab": {
                "custom_widget_manager": {
                  "url": "https://ssl.gstatic.com/colaboratory-static/widgets/colab-cdn-widget-manager/d2e234f7cc04bf79/manager.min.js"
                }
              }
            }
          }
        }
      ]
    },
    {
      "cell_type": "code",
      "source": [],
      "metadata": {
        "id": "dns_SaeSW8sI"
      },
      "execution_count": null,
      "outputs": []
    }
  ]
}