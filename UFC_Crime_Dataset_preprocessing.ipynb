{
  "nbformat": 4,
  "nbformat_minor": 0,
  "metadata": {
    "colab": {
      "provenance": [],
      "collapsed_sections": [],
      "authorship_tag": "ABX9TyPrRcNMrsfWeFsSP6DHiG9r",
      "include_colab_link": true
    },
    "kernelspec": {
      "name": "python3",
      "display_name": "Python 3"
    },
    "language_info": {
      "name": "python"
    }
  },
  "cells": [
    {
      "cell_type": "markdown",
      "metadata": {
        "id": "view-in-github",
        "colab_type": "text"
      },
      "source": [
        "<a href=\"https://colab.research.google.com/github/plaban1981/Deep-Learning-KERAS/blob/master/UFC_Crime_Dataset_preprocessing.ipynb\" target=\"_parent\"><img src=\"https://colab.research.google.com/assets/colab-badge.svg\" alt=\"Open In Colab\"/></a>"
      ]
    },
    {
      "cell_type": "code",
      "execution_count": 1,
      "metadata": {
        "colab": {
          "base_uri": "https://localhost:8080/"
        },
        "id": "6s1bAZYofEi8",
        "outputId": "09b210ec-763b-43ae-b8a3-35dab2b81c27"
      },
      "outputs": [
        {
          "output_type": "stream",
          "name": "stdout",
          "text": [
            "Mounted at /content/drive\n"
          ]
        }
      ],
      "source": [
        "from google.colab import drive\n",
        "drive.mount(\"/content/drive\")"
      ]
    },
    {
      "cell_type": "markdown",
      "source": [
        "Original Name\tCategory Name\t\n",
        "\n",
        "- Abuse\t         attack\t\n",
        "- Assault\t       attack\t\n",
        "- Fighting\t     attack\t\n",
        "- Burglary\t     Theft\t\n",
        "- Stealing\t     Theft\t\n",
        "- Shoplifting\t   Theft\t\n",
        "- Robbery\t       Theft\t\n",
        "- Explosion\t      Blast\t\n",
        "- Road Accidents\tRoad Accidents\t\n",
        "- Shooting\t      Firing\t\n",
        "- Normal Videos\t  Normal Videos\t\n",
        "- Arrest\t        Arrest\t\n",
        "- Vandalism\t     deliberate damage\t\n",
        "- Arson\t         deliberate damage\t"
      ],
      "metadata": {
        "id": "I2Rsri2G3V-v"
      }
    },
    {
      "cell_type": "markdown",
      "source": [
        "* The total image count for the train subset is 1,266,345.\n",
        "* The total image count for the test subset is 111,308."
      ],
      "metadata": {
        "id": "BazJZ9HH4C17"
      }
    },
    {
      "cell_type": "markdown",
      "source": [
        "## Seletive folder unzip"
      ],
      "metadata": {
        "id": "ivJt6bUPy-R0"
      }
    },
    {
      "cell_type": "code",
      "source": [
        "import zipfile\n",
        "archive = zipfile.ZipFile('/content/drive/MyDrive/UFC_Crime_Dataset/Train.zip')\n",
        "names_foo = [i for i in archive.namelist() if i.startswith('Shooting') ]"
      ],
      "metadata": {
        "id": "0EdVgYOQwcXg"
      },
      "execution_count": 23,
      "outputs": []
    },
    {
      "cell_type": "code",
      "source": [
        "for file in names_foo:\n",
        "    archive.extract(file,\"/content/drive/MyDrive/Training_ufc\")"
      ],
      "metadata": {
        "id": "i1kyZ8q3wh0B"
      },
      "execution_count": 28,
      "outputs": []
    },
    {
      "cell_type": "code",
      "source": [
        "len(names_foo)"
      ],
      "metadata": {
        "id": "P2YwvWmhyf_U",
        "outputId": "48c2307a-b248-4beb-e19b-68e538a02f4d",
        "colab": {
          "base_uri": "https://localhost:8080/"
        }
      },
      "execution_count": 27,
      "outputs": [
        {
          "output_type": "execute_result",
          "data": {
            "text/plain": [
              "13626"
            ]
          },
          "metadata": {},
          "execution_count": 27
        }
      ]
    },
    {
      "cell_type": "code",
      "source": [
        "from glob import glob\n",
        "len(glob(\"/content/drive/MyDrive/UTC_Anamoly_dataset/Train/Blast/*\"))"
      ],
      "metadata": {
        "id": "VMM1LXrAyjp9",
        "outputId": "62cb2107-3e14-47a2-dc83-fc619c59f415",
        "colab": {
          "base_uri": "https://localhost:8080/"
        }
      },
      "execution_count": 30,
      "outputs": [
        {
          "output_type": "execute_result",
          "data": {
            "text/plain": [
              "18753"
            ]
          },
          "metadata": {},
          "execution_count": 30
        }
      ]
    },
    {
      "cell_type": "code",
      "source": [
        "import zipfile\n",
        "\n",
        "archive = zipfile.ZipFile('/content/drive/MyDrive/UFC_Crime_Dataset/Train.zip')\n",
        "\n",
        "for file in archive.namelist():\n",
        "    if file.startswith('Road Accidents/'):\n",
        "        archive.extract(file, '/content/drive/MyDrive/Training_ufc')"
      ],
      "metadata": {
        "id": "MY537hK5tCfF"
      },
      "execution_count": 4,
      "outputs": []
    },
    {
      "cell_type": "code",
      "source": [
        "import shutil\n",
        "import os\n",
        "import glob\n",
        "from tqdm import tqdm\n",
        "main_path = '/content/drive/MyDrive/UFC_Crime_Dataset'\n",
        "for folder in ['Abuse','Assault','Fighting']:\n",
        "  print(os.path.join(main_path,folder,'*.png'))\n",
        "  for files in tqdm(glob.glob(os.path.join(main_path,folder,'*.png'))):\n",
        "    shutil.copy(files,\"/content/drive/MyDrive/UTC_Anamoly_dataset/Train/Attack\")"
      ],
      "metadata": {
        "id": "3yho5ekurkAu",
        "colab": {
          "base_uri": "https://localhost:8080/"
        },
        "outputId": "79080b2d-f1d9-4703-e118-46b56319121a"
      },
      "execution_count": null,
      "outputs": [
        {
          "metadata": {
            "tags": null
          },
          "name": "stdout",
          "output_type": "stream",
          "text": [
            "/content/drive/MyDrive/UFC_Crime_Dataset/Abuse/*.png\n"
          ]
        },
        {
          "metadata": {
            "tags": null
          },
          "name": "stderr",
          "output_type": "stream",
          "text": [
            "100%|██████████| 19076/19076 [02:24<00:00, 131.97it/s]\n"
          ]
        },
        {
          "metadata": {
            "tags": null
          },
          "name": "stdout",
          "output_type": "stream",
          "text": [
            "/content/drive/MyDrive/UFC_Crime_Dataset/Assault/*.png\n"
          ]
        },
        {
          "metadata": {
            "tags": null
          },
          "name": "stderr",
          "output_type": "stream",
          "text": [
            "100%|██████████| 10360/10360 [01:19<00:00, 131.08it/s]\n"
          ]
        },
        {
          "metadata": {
            "tags": null
          },
          "name": "stdout",
          "output_type": "stream",
          "text": [
            "/content/drive/MyDrive/UFC_Crime_Dataset/Fighting/*.png\n"
          ]
        },
        {
          "output_type": "stream",
          "name": "stderr",
          "text": [
            "100%|██████████| 24684/24684 [03:09<00:00, 130.57it/s]\n"
          ]
        }
      ]
    },
    {
      "cell_type": "code",
      "source": [
        "main_path = '/content/drive/MyDrive/UFC_Crime_Dataset'\n",
        "for folder in ['Burglary','Stealing','Shoplifting','Robbery']:\n",
        "  #print(os.path.join(main_path,folder,'*.png'))\n",
        "  for files in tqdm(glob.glob(os.path.join(main_path,folder,'*.png'))):\n",
        "    shutil.copy(files,\"/content/drive/MyDrive/UTC_Anamoly_dataset/Train/Theft\")"
      ],
      "metadata": {
        "colab": {
          "base_uri": "https://localhost:8080/"
        },
        "id": "R1VmIhcA0Xw9",
        "outputId": "5d72a3f7-676c-4caa-de5a-b3f8b44c131b"
      },
      "execution_count": null,
      "outputs": [
        {
          "output_type": "stream",
          "name": "stderr",
          "text": [
            "100%|██████████| 39504/39504 [13:14<00:00, 49.71it/s]\n",
            "100%|██████████| 44802/44802 [36:10<00:00, 20.64it/s]\n",
            "100%|██████████| 24835/24835 [29:38<00:00, 13.96it/s]\n",
            "100%|██████████| 41493/41493 [1:10:10<00:00,  9.85it/s]\n"
          ]
        }
      ]
    },
    {
      "cell_type": "code",
      "source": [
        "!mkdir /content/drive/MyDrive/UTC_Anamoly_dataset/Train/Attack/"
      ],
      "metadata": {
        "id": "h2mftZAH3W0y"
      },
      "execution_count": null,
      "outputs": []
    },
    {
      "cell_type": "code",
      "source": [
        "main_path = '/content/drive/MyDrive/Training_ufc\n",
        "'\n",
        "for folder in ['Vandalism','Arson']:\n",
        "  #print(os.path.join(main_path,folder,'*.png'))\n",
        "  for files in tqdm(glob.glob(os.path.join(main_path,folder,'*.png'))):\n",
        "    shutil.copy(files,\"/content/drive/MyDrive/UTC_Anamoly_dataset/Train/DeliberateDamage\")"
      ],
      "metadata": {
        "colab": {
          "base_uri": "https://localhost:8080/"
        },
        "id": "JCh3ftNT67lz",
        "outputId": "32476f0d-0fe6-484c-b0a4-2216e2c74202"
      },
      "execution_count": null,
      "outputs": [
        {
          "output_type": "stream",
          "name": "stderr",
          "text": [
            "100%|██████████| 13626/13626 [02:38<00:00, 85.98it/s]\n",
            "100%|██████████| 24421/24421 [09:32<00:00, 42.69it/s]\n"
          ]
        }
      ]
    },
    {
      "cell_type": "code",
      "source": [
        "for files in tqdm(glob.glob(os.path.join(main_path,'Explosion','*.png'))):\n",
        "    shutil.copy(files,\"/content/drive/MyDrive/UTC_Anamoly_dataset/Train/Blast\")"
      ],
      "metadata": {
        "colab": {
          "base_uri": "https://localhost:8080/"
        },
        "id": "hZktVZZpodHV",
        "outputId": "179b938e-591d-479b-f7a9-6988a1b6bb35"
      },
      "execution_count": null,
      "outputs": [
        {
          "output_type": "stream",
          "name": "stderr",
          "text": [
            "100%|██████████| 18753/18753 [3:29:47<00:00,  1.49it/s]\n"
          ]
        }
      ]
    },
    {
      "cell_type": "code",
      "source": [
        "for files in tqdm(glob.glob(os.path.join(main_path,'Shooting','*.png'))):\n",
        "    shutil.copy(files,\"/content/drive/MyDrive/UTC_Anamoly_dataset/Train/Firing\")"
      ],
      "metadata": {
        "colab": {
          "base_uri": "https://localhost:8080/"
        },
        "id": "PiBhLJy-tsNE",
        "outputId": "047f77ec-c919-4800-d7ad-e6e33c4a51cc"
      },
      "execution_count": null,
      "outputs": [
        {
          "output_type": "stream",
          "name": "stderr",
          "text": [
            "100%|██████████| 7140/7140 [01:14<00:00, 95.79it/s]\n"
          ]
        }
      ]
    },
    {
      "cell_type": "markdown",
      "source": [
        "* Vandalism - 100%|██████████| 13626/13626 [02:38<00:00, 85.98it/s]\n",
        "\n",
        "* Arson 100%|██████████| 24421/24421 [09:32<00:00, 42.69it/s]\n",
        "\n",
        "* Burglary - 100%|██████████| 39504/39504 [13:14<00:00, 49.71it/s]\n",
        "* Stealing - 100%|██████████| 44802/44802 [36:10<00:00, 20.64it/s]\n",
        "* Shoplifting - 100%|██████████| 24835/24835 [29:38<00:00, 13.96it/s]\n",
        "* Robbery - 100%|██████████| 41493/41493 [1:10:10<00:00,  9.85it/s]\n",
        "* Abuse - 100%|██████████| 19076/19076 [02:24<00:00, 131.97it/s]\n",
        "* Assault -100%|██████████| 10360/10360 [01:19<00:00, 131.08it/s]\n",
        "* Fighting - 100%|██████████| 24684/24684 [03:09<00:00, 130.57it/s]\n",
        "* Blast -100%|██████████| 18753/18753 [3:29:47<00:00,  1.49it/s]\n",
        "* Firing - 100%|██████████| 7140/7140 [01:14<00:00, 95.79it/s]"
      ],
      "metadata": {
        "id": "diWYUGRAlaP4"
      }
    },
    {
      "cell_type": "markdown",
      "source": [
        "## Prepare Test_label_File"
      ],
      "metadata": {
        "id": "Zl23xzXjZjmX"
      }
    },
    {
      "cell_type": "code",
      "source": [
        "file_name = []\n",
        "label = []\n",
        "test_path = \"/content/drive/MyDrive/UTC_Anamoly_dataset/Test\"\n",
        "cnt = 0\n",
        "for folder in os.listdir(test_path):\n",
        "  file_path = os.path.join(test_path,folder,\"*.png\")\n",
        "  print(file_path)\n",
        "  for files in tqdm(glob.glob(file_path)):\n",
        "    cnt +=1\n",
        "    #print(files)\n",
        "    r = files.split(\"/\")[-1]\n",
        "    renamed_file = str(cnt)+ \"_\"+r.split(\"_\")[-1]\n",
        "    #print(os.path.join(test_path,folder,renamed_file))\n",
        "    os.rename(files,os.path.join(test_path,folder,renamed_file))\n",
        "    file_name.append(os.path.join(test_path,folder,renamed_file))\n",
        "    label.append(folder)"
      ],
      "metadata": {
        "colab": {
          "base_uri": "https://localhost:8080/"
        },
        "id": "qxA0ADq2Zqjc",
        "outputId": "27c161d4-56c3-4c92-858e-146ce2165b13"
      },
      "execution_count": null,
      "outputs": [
        {
          "output_type": "stream",
          "name": "stdout",
          "text": [
            "/content/drive/MyDrive/UTC_Anamoly_dataset/Test/Abuse/*.png\n"
          ]
        },
        {
          "output_type": "stream",
          "name": "stderr",
          "text": [
            "100%|██████████| 297/297 [00:00<00:00, 446.46it/s]\n"
          ]
        },
        {
          "output_type": "stream",
          "name": "stdout",
          "text": [
            "/content/drive/MyDrive/UTC_Anamoly_dataset/Test/Arrest/*.png\n"
          ]
        },
        {
          "output_type": "stream",
          "name": "stderr",
          "text": [
            "100%|██████████| 3365/3365 [00:08<00:00, 395.94it/s]\n"
          ]
        },
        {
          "output_type": "stream",
          "name": "stdout",
          "text": [
            "/content/drive/MyDrive/UTC_Anamoly_dataset/Test/Arson/*.png\n"
          ]
        },
        {
          "output_type": "stream",
          "name": "stderr",
          "text": [
            "100%|██████████| 2793/2793 [00:06<00:00, 409.04it/s]\n"
          ]
        },
        {
          "output_type": "stream",
          "name": "stdout",
          "text": [
            "/content/drive/MyDrive/UTC_Anamoly_dataset/Test/Assault/*.png\n"
          ]
        },
        {
          "output_type": "stream",
          "name": "stderr",
          "text": [
            "100%|██████████| 2657/2657 [00:06<00:00, 396.86it/s]\n"
          ]
        },
        {
          "output_type": "stream",
          "name": "stdout",
          "text": [
            "/content/drive/MyDrive/UTC_Anamoly_dataset/Test/Burglary/*.png\n"
          ]
        },
        {
          "output_type": "stream",
          "name": "stderr",
          "text": [
            "100%|██████████| 7657/7657 [00:18<00:00, 421.19it/s]\n"
          ]
        },
        {
          "output_type": "stream",
          "name": "stdout",
          "text": [
            "/content/drive/MyDrive/UTC_Anamoly_dataset/Test/Explosion/*.png\n"
          ]
        },
        {
          "output_type": "stream",
          "name": "stderr",
          "text": [
            "100%|██████████| 6510/6510 [00:15<00:00, 423.44it/s]\n"
          ]
        },
        {
          "output_type": "stream",
          "name": "stdout",
          "text": [
            "/content/drive/MyDrive/UTC_Anamoly_dataset/Test/Fighting/*.png\n"
          ]
        },
        {
          "output_type": "stream",
          "name": "stderr",
          "text": [
            "100%|██████████| 1231/1231 [00:03<00:00, 397.40it/s]\n"
          ]
        },
        {
          "output_type": "stream",
          "name": "stdout",
          "text": [
            "/content/drive/MyDrive/UTC_Anamoly_dataset/Test/NormalVideos/*.png\n"
          ]
        },
        {
          "output_type": "stream",
          "name": "stderr",
          "text": [
            "100%|██████████| 64952/64952 [02:48<00:00, 385.25it/s]\n"
          ]
        },
        {
          "output_type": "stream",
          "name": "stdout",
          "text": [
            "/content/drive/MyDrive/UTC_Anamoly_dataset/Test/RoadAccidents/*.png\n"
          ]
        },
        {
          "output_type": "stream",
          "name": "stderr",
          "text": [
            "100%|██████████| 2663/2663 [00:06<00:00, 412.67it/s]\n"
          ]
        },
        {
          "output_type": "stream",
          "name": "stdout",
          "text": [
            "/content/drive/MyDrive/UTC_Anamoly_dataset/Test/Robbery/*.png\n"
          ]
        },
        {
          "output_type": "stream",
          "name": "stderr",
          "text": [
            "100%|██████████| 835/835 [00:02<00:00, 353.81it/s]\n"
          ]
        },
        {
          "output_type": "stream",
          "name": "stdout",
          "text": [
            "/content/drive/MyDrive/UTC_Anamoly_dataset/Test/Shooting/*.png\n"
          ]
        },
        {
          "output_type": "stream",
          "name": "stderr",
          "text": [
            "100%|██████████| 7630/7630 [00:18<00:00, 406.13it/s]\n"
          ]
        },
        {
          "output_type": "stream",
          "name": "stdout",
          "text": [
            "/content/drive/MyDrive/UTC_Anamoly_dataset/Test/Shoplifting/*.png\n"
          ]
        },
        {
          "output_type": "stream",
          "name": "stderr",
          "text": [
            "100%|██████████| 7623/7623 [00:18<00:00, 414.81it/s]\n"
          ]
        },
        {
          "output_type": "stream",
          "name": "stdout",
          "text": [
            "/content/drive/MyDrive/UTC_Anamoly_dataset/Test/Stealing/*.png\n"
          ]
        },
        {
          "output_type": "stream",
          "name": "stderr",
          "text": [
            "100%|██████████| 1984/1984 [00:05<00:00, 396.77it/s]\n"
          ]
        },
        {
          "output_type": "stream",
          "name": "stdout",
          "text": [
            "/content/drive/MyDrive/UTC_Anamoly_dataset/Test/Vandalism/*.png\n"
          ]
        },
        {
          "output_type": "stream",
          "name": "stderr",
          "text": [
            "100%|██████████| 1111/1111 [00:02<00:00, 397.64it/s]\n"
          ]
        }
      ]
    },
    {
      "cell_type": "code",
      "source": [
        "shutil.rmtree(os.path.join(\"/content/drive/MyDrive/UTC_Anamoly_dataset/Test\",\"Vandalism\")) "
      ],
      "metadata": {
        "id": "NPXjRLWjh5xK"
      },
      "execution_count": null,
      "outputs": []
    },
    {
      "cell_type": "markdown",
      "source": [
        "* /content/drive/MyDrive/UTC_Anamoly_dataset/Test/Abuse/*.png - 100%|██████████| 297/297 [00:00<00:00, 446.46it/s]\n",
        "* /content/drive/MyDrive/UTC_Anamoly_dataset/Test/Arrest/*.png - 100%|██████████| 3365/3365 [00:08<00:00, 395.94it/s]\n",
        "* /content/drive/MyDrive/UTC_Anamoly_dataset/Test/Arson/*.png- 100%|██████████| 2793/2793 [00:06<00:00, 409.04it/s]\n",
        "* /content/drive/MyDrive/UTC_Anamoly_dataset/Test/Assault/*.png - 100%|██████████| 2657/2657 [00:06<00:00, 396.86it/s]\n",
        "* /content/drive/MyDrive/UTC_Anamoly_dataset/Test/Burglary/*.png - 100%|██████████| 7657/7657 [00:18<00:00, 421.19it/s]\n",
        "* /content/drive/MyDrive/UTC_Anamoly_dataset/Test/Explosion/*.png- 100%|██████████| 6510/6510 [00:15<00:00, 423.44it/s]\n",
        "* /content/drive/MyDrive/UTC_Anamoly_dataset/Test/Fighting/*.png - 100%|██████████| 1231/1231 [00:03<00:00, 397.40it/s]\n",
        "* /content/drive/MyDrive/UTC_Anamoly_dataset/Test/NormalVideos/*.png - 100%|██████████| 64952/64952 [02:48<00:00, 385.25it/s]\n",
        "* /content/drive/MyDrive/UTC_Anamoly_dataset/Test/RoadAccidents/*.png - 100%|██████████| 2663/2663 [00:06<00:00, 412.67it/s]\n",
        "* /content/drive/MyDrive/UTC_Anamoly_dataset/Test/Robbery/*.png - 100%|██████████| 835/835 [00:02<00:00, 353.81it/s]\n",
        "* /content/drive/MyDrive/UTC_Anamoly_dataset/Test/Shooting/*.png - 100%|██████████| 7630/7630 [00:18<00:00, 406.13it/s]\n",
        "* /content/drive/MyDrive/UTC_Anamoly_dataset/Test/Shoplifting/*.png - 100%|██████████| 7623/7623 [00:18<00:00, 414.81it/s]\n",
        "* /content/drive/MyDrive/UTC_Anamoly_dataset/Test/Stealing/*.png - 100%|██████████| 1984/1984 [00:05<00:00, 396.77it/s]\n",
        "* /content/drive/MyDrive/UTC_Anamoly_dataset/Test/Vandalism/*.png - 100%|██████████| 1111/1111 [00:02<00:00, 397.64it/s]"
      ],
      "metadata": {
        "id": "FbfK_L3LdcFB"
      }
    },
    {
      "cell_type": "code",
      "source": [
        "import pandas as pd\n",
        "test_files = pd.DataFrame({'FileName':file_name,'Label':label})"
      ],
      "metadata": {
        "id": "tL-Egtnod_0E"
      },
      "execution_count": null,
      "outputs": []
    },
    {
      "cell_type": "code",
      "source": [
        "test_files.shape"
      ],
      "metadata": {
        "colab": {
          "base_uri": "https://localhost:8080/"
        },
        "id": "clM0X8tPeS41",
        "outputId": "c212d3c2-804e-4536-9284-a5f37f4c50df"
      },
      "execution_count": null,
      "outputs": [
        {
          "output_type": "execute_result",
          "data": {
            "text/plain": [
              "(111308, 2)"
            ]
          },
          "metadata": {},
          "execution_count": 42
        }
      ]
    },
    {
      "cell_type": "code",
      "source": [
        "test_files.to_csv('Test_File.csv',index=False)"
      ],
      "metadata": {
        "id": "GU2ZD5J8eV6W"
      },
      "execution_count": null,
      "outputs": []
    },
    {
      "cell_type": "code",
      "source": [
        "for folder in os.listdir(test_path):\n",
        "  file_path = os.path.join(test_path,folder,\"*.png\")\n",
        "  for files in tqdm(glob.glob(file_path)):\n",
        "    shutil.move(files,test_path)"
      ],
      "metadata": {
        "colab": {
          "base_uri": "https://localhost:8080/"
        },
        "id": "V8_f7yObeu11",
        "outputId": "f272a0d3-f7e9-4125-a5b8-ca25347a5424"
      },
      "execution_count": null,
      "outputs": [
        {
          "output_type": "stream",
          "name": "stderr",
          "text": [
            "100%|██████████| 297/297 [00:01<00:00, 257.54it/s]\n",
            "100%|██████████| 3365/3365 [00:12<00:00, 270.73it/s]\n",
            "100%|██████████| 2793/2793 [00:10<00:00, 275.95it/s]\n",
            "100%|██████████| 2657/2657 [00:09<00:00, 272.10it/s]\n",
            "100%|██████████| 7657/7657 [00:37<00:00, 205.33it/s]\n",
            "100%|██████████| 6510/6510 [00:29<00:00, 219.06it/s]\n",
            "100%|██████████| 1231/1231 [00:04<00:00, 253.13it/s]\n",
            "100%|██████████| 64952/64952 [05:59<00:00, 180.49it/s]\n",
            "100%|██████████| 2663/2663 [00:12<00:00, 214.71it/s]\n",
            "100%|██████████| 835/835 [00:02<00:00, 297.99it/s]\n",
            "100%|██████████| 7630/7630 [00:26<00:00, 285.70it/s]\n",
            "100%|██████████| 7623/7623 [00:27<00:00, 279.13it/s]\n",
            "100%|██████████| 1984/1984 [00:06<00:00, 293.62it/s]\n",
            "100%|██████████| 1111/1111 [00:03<00:00, 304.24it/s]\n"
          ]
        }
      ]
    },
    {
      "cell_type": "code",
      "source": [
        "len(glob.glob(\"/content/drive/MyDrive/UTC_Anamoly_dataset/Train/Attack/*\"))"
      ],
      "metadata": {
        "colab": {
          "base_uri": "https://localhost:8080/"
        },
        "id": "v-m7kUmzwUA8",
        "outputId": "5cf9ab77-d270-4537-d521-e2d4cb4277c2"
      },
      "execution_count": null,
      "outputs": [
        {
          "output_type": "execute_result",
          "data": {
            "text/plain": [
              "19076"
            ]
          },
          "metadata": {},
          "execution_count": 19
        }
      ]
    },
    {
      "cell_type": "code",
      "source": [
        "len(glob.glob(\"/content/drive/MyDrive/UTC_Anamoly_dataset/Train/Abuse/*\"))"
      ],
      "metadata": {
        "colab": {
          "base_uri": "https://localhost:8080/"
        },
        "id": "Sb7domm3wPMC",
        "outputId": "151a09e8-b0e7-4992-86d6-ce8d0db140f0"
      },
      "execution_count": null,
      "outputs": [
        {
          "output_type": "execute_result",
          "data": {
            "text/plain": [
              "0"
            ]
          },
          "metadata": {},
          "execution_count": 23
        }
      ]
    },
    {
      "cell_type": "code",
      "source": [
        "import shutil\n",
        "for folder in ['Arson','Assault','Fighting','Burglary']:\n",
        "  shutil.rmtree(os.path.join(\"/content/drive/MyDrive/UTC_Anamoly_dataset/Train\",folder)) "
      ],
      "metadata": {
        "id": "NY5ekKUAxEhE"
      },
      "execution_count": null,
      "outputs": []
    },
    {
      "cell_type": "code",
      "source": [
        "shutil.move(\"/content/drive/MyDrive/UFC_Crime_Dataset/RoadAccidents\",\"/content/drive/MyDrive/UTC_Anamoly_dataset/Train\")"
      ],
      "metadata": {
        "colab": {
          "base_uri": "https://localhost:8080/",
          "height": 36
        },
        "id": "lC1S5220nxmv",
        "outputId": "3d948674-a825-4508-fde2-5f23ee0aee8b"
      },
      "execution_count": null,
      "outputs": [
        {
          "output_type": "execute_result",
          "data": {
            "text/plain": [
              "'/content/drive/MyDrive/UTC_Anamoly_dataset/Train/RoadAccidents'"
            ],
            "application/vnd.google.colaboratory.intrinsic+json": {
              "type": "string"
            }
          },
          "metadata": {},
          "execution_count": 31
        }
      ]
    },
    {
      "cell_type": "markdown",
      "source": [
        "https://www.kaggle.com/code/pushkalpandey3/ufc-crime-dataset/data"
      ],
      "metadata": {
        "id": "KuM4dat7tqhF"
      }
    },
    {
      "cell_type": "code",
      "source": [
        "import os\n",
        "import glob\n",
        "from tqdm import tqdm\n",
        "total_files = 0\n",
        "for folder in tqdm(os.listdir(\"/content/drive/MyDrive/UTC_Anamoly_dataset/Train\")):\n",
        "  total_files += len(glob.glob(os.path.join(\"/content/drive/MyDrive/UTC_Anamoly_dataset/Train\",folder,\"*\")))\n",
        "print(total_files)"
      ],
      "metadata": {
        "colab": {
          "base_uri": "https://localhost:8080/"
        },
        "id": "X5GY0hl-MvBE",
        "outputId": "4fbf5f36-c2a4-4581-96f5-7fc890bab08d"
      },
      "execution_count": null,
      "outputs": [
        {
          "output_type": "stream",
          "name": "stderr",
          "text": [
            "100%|██████████| 14/14 [02:25<00:00, 10.41s/it]"
          ]
        },
        {
          "output_type": "stream",
          "name": "stdout",
          "text": [
            "1266345\n"
          ]
        },
        {
          "output_type": "stream",
          "name": "stderr",
          "text": [
            "\n"
          ]
        }
      ]
    },
    {
      "cell_type": "code",
      "source": [
        "import os\n",
        "import glob\n",
        "from tqdm import tqdm\n",
        "total_files = 0\n",
        "for folder in tqdm(os.listdir(\"/content/drive/MyDrive/UTC_Anamoly_dataset/Test\")):\n",
        "  total_files += len(glob.glob(os.path.join(\"/content/drive/MyDrive/UTC_Anamoly_dataset/Test\",folder,\"*\")))\n",
        "print(total_files)"
      ],
      "metadata": {
        "colab": {
          "base_uri": "https://localhost:8080/"
        },
        "id": "yXbjbi5Ul7zI",
        "outputId": "7f43f95c-99dc-4d46-e91c-f0ed2294d916"
      },
      "execution_count": null,
      "outputs": [
        {
          "output_type": "stream",
          "name": "stderr",
          "text": [
            "100%|██████████| 14/14 [03:16<00:00, 14.02s/it]"
          ]
        },
        {
          "output_type": "stream",
          "name": "stdout",
          "text": [
            "111308\n"
          ]
        },
        {
          "output_type": "stream",
          "name": "stderr",
          "text": [
            "\n"
          ]
        }
      ]
    },
    {
      "cell_type": "markdown",
      "source": [
        "* Test.zip ==> 869.4 MB - 1hour to unzip files\n",
        "* Train.zip ==> 10.1 GB - 4 hour to unzip files"
      ],
      "metadata": {
        "id": "UcFHVxbKOoji"
      }
    },
    {
      "cell_type": "markdown",
      "source": [
        "* 15,19,614 files in the train.zip"
      ],
      "metadata": {
        "id": "JfyIzmU9YcBG"
      }
    },
    {
      "cell_type": "code",
      "source": [
        "#!unzip \"/content/drive/MyDrive/UFC_Crime_Dataset/Train.zip\" -d \"/content/drive/MyDrive/UTC_Anamoly_dataset/Train\""
      ],
      "metadata": {
        "id": "B6s4HufqzicV"
      },
      "execution_count": null,
      "outputs": []
    },
    {
      "cell_type": "markdown",
      "source": [
        "* 111308 files in the test.zip"
      ],
      "metadata": {
        "id": "AeTusUvHYXg_"
      }
    },
    {
      "cell_type": "code",
      "source": [
        "#!unzip \"/content/drive/MyDrive/UFC_Crime_Dataset/Test.zip\" -d \"/content/drive/MyDrive/UTC_Anamoly_dataset/Test\""
      ],
      "metadata": {
        "id": "LND8xD0coXKv"
      },
      "execution_count": null,
      "outputs": []
    }
  ]
}