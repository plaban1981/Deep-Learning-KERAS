{
  "nbformat": 4,
  "nbformat_minor": 0,
  "metadata": {
    "colab": {
      "name": "Keras_deep_learning_Chapter_2.ipynb",
      "provenance": [],
      "authorship_tag": "ABX9TyNmLL5ENZ2YuxDv71gw974B",
      "include_colab_link": true
    },
    "kernelspec": {
      "name": "python3",
      "display_name": "Python 3"
    }
  },
  "cells": [
    {
      "cell_type": "markdown",
      "metadata": {
        "id": "view-in-github",
        "colab_type": "text"
      },
      "source": [
        "<a href=\"https://colab.research.google.com/github/plaban1981/Deep-Learning-KERAS/blob/master/Keras_deep_learning_Chapter_2.ipynb\" target=\"_parent\"><img src=\"https://colab.research.google.com/assets/colab-badge.svg\" alt=\"Open In Colab\"/></a>"
      ]
    },
    {
      "cell_type": "markdown",
      "metadata": {
        "id": "EoCXcCiHh7hq",
        "colab_type": "text"
      },
      "source": [
        "## MNIST DATA Classification - ANN using Keras"
      ]
    },
    {
      "cell_type": "markdown",
      "metadata": {
        "id": "u1Ozr-A_j6g1",
        "colab_type": "text"
      },
      "source": [
        "https://github.com/PacktPublishing/Keras-Deep-Learning-Cookbook/blob/master/Chapter02/functional_apis_with_mnist.py"
      ]
    },
    {
      "cell_type": "code",
      "metadata": {
        "id": "7VOPuvOzhFyK",
        "colab_type": "code",
        "outputId": "33f3efcc-225b-41dc-f69a-5b8219ccc076",
        "colab": {
          "base_uri": "https://localhost:8080/",
          "height": 136
        }
      },
      "source": [
        "from keras.datasets import mnist\n",
        "\n",
        "\n",
        "(X_train, y_train), (X_test, y_test) = mnist.load_data()\n",
        "\n",
        "print(\"X_train shape: \" + str(X_train.shape))\n",
        "print(\"y_train shape: \" + str(y_train.shape))\n",
        "print(\"X_test shape: \" + str(X_test.shape))\n",
        "print(\"y_test shape: \" +  str(y_test.shape))"
      ],
      "execution_count": 0,
      "outputs": [
        {
          "output_type": "stream",
          "text": [
            "Using TensorFlow backend.\n"
          ],
          "name": "stderr"
        },
        {
          "output_type": "stream",
          "text": [
            "Downloading data from https://s3.amazonaws.com/img-datasets/mnist.npz\n",
            "11493376/11490434 [==============================] - 0s 0us/step\n",
            "X_train shape: (60000, 28, 28)\n",
            "y_train shape: (60000,)\n",
            "X_test shape: (10000, 28, 28)\n",
            "y_test shape: (10000,)\n"
          ],
          "name": "stdout"
        }
      ]
    },
    {
      "cell_type": "markdown",
      "metadata": {
        "id": "zifn74pHiGhF",
        "colab_type": "text"
      },
      "source": [
        "# Keras Functional API"
      ]
    },
    {
      "cell_type": "code",
      "metadata": {
        "id": "GlGUSG82iI50",
        "colab_type": "code",
        "colab": {}
      },
      "source": [
        "import keras\n",
        "from keras.utils import plot_model\n",
        "from keras.models import Model,Sequential\n",
        "from keras.layers import Input,Dense,Reshape,Flatten\n",
        "from keras.layers.convolutional import Conv2D\n",
        "from keras.layers.pooling import MaxPooling2D\n",
        "from keras import optimizers"
      ],
      "execution_count": 0,
      "outputs": []
    },
    {
      "cell_type": "markdown",
      "metadata": {
        "id": "0MVwaAzhjrHY",
        "colab_type": "text"
      },
      "source": [
        "# Hyperparmeters"
      ]
    },
    {
      "cell_type": "code",
      "metadata": {
        "id": "3XaYldwsjuXu",
        "colab_type": "code",
        "colab": {}
      },
      "source": [
        "num_classes = 10\n",
        "batch_size = 32\n",
        "epochs = 10\n",
        "batch_size = 128\n",
        "num_classes = 10 # since it contains digits 0 to 9\n",
        "epochs = 12"
      ],
      "execution_count": 0,
      "outputs": []
    },
    {
      "cell_type": "code",
      "metadata": {
        "id": "1cogQTRwWd1o",
        "colab_type": "code",
        "colab": {}
      },
      "source": [
        "cols =  ['Number of times pregnant',\n",
        "'Plasma glucose concentration', \n",
        "'Diastolic blood pressure',\n",
        "'Triceps skin fold thickness',\n",
        "'2-Hour serum insulin',\n",
        "'Body mass index',\n",
        "'Diabetes pedigree function',\n",
        "'Age',\n",
        "'Class variable (0 or 1)']"
      ],
      "execution_count": 0,
      "outputs": []
    },
    {
      "cell_type": "code",
      "metadata": {
        "id": "Q-_ZRxV5b2wl",
        "colab_type": "code",
        "colab": {}
      },
      "source": [
        "import pandas as pd\n",
        "from sklearn.model_selection import train_test_split"
      ],
      "execution_count": 0,
      "outputs": []
    },
    {
      "cell_type": "code",
      "metadata": {
        "id": "GaWtm28kVmh7",
        "colab_type": "code",
        "colab": {}
      },
      "source": [
        "\n",
        "dataset = pd.read_csv(\"https://raw.githubusercontent.com/jbrownlee/Datasets/master/pima-indians-diabetes.data.csv\", delimiter=\",\",names=cols,header=None)"
      ],
      "execution_count": 0,
      "outputs": []
    },
    {
      "cell_type": "code",
      "metadata": {
        "id": "MmMEkdQvVsDp",
        "colab_type": "code",
        "outputId": "3f699127-2bc4-4eb8-cfb2-07917ce1670e",
        "colab": {
          "base_uri": "https://localhost:8080/",
          "height": 34
        }
      },
      "source": [
        "dataset.isnull().sum()[dataset.isnull().sum() > 0]"
      ],
      "execution_count": 9,
      "outputs": [
        {
          "output_type": "execute_result",
          "data": {
            "text/plain": [
              "Series([], dtype: int64)"
            ]
          },
          "metadata": {
            "tags": []
          },
          "execution_count": 9
        }
      ]
    },
    {
      "cell_type": "code",
      "metadata": {
        "id": "qRdMV7NmVz_q",
        "colab_type": "code",
        "outputId": "a75590cf-43a7-48ff-b19d-40d6845221a3",
        "colab": {
          "base_uri": "https://localhost:8080/",
          "height": 221
        }
      },
      "source": [
        "dataset.head()"
      ],
      "execution_count": 10,
      "outputs": [
        {
          "output_type": "execute_result",
          "data": {
            "text/html": [
              "<div>\n",
              "<style scoped>\n",
              "    .dataframe tbody tr th:only-of-type {\n",
              "        vertical-align: middle;\n",
              "    }\n",
              "\n",
              "    .dataframe tbody tr th {\n",
              "        vertical-align: top;\n",
              "    }\n",
              "\n",
              "    .dataframe thead th {\n",
              "        text-align: right;\n",
              "    }\n",
              "</style>\n",
              "<table border=\"1\" class=\"dataframe\">\n",
              "  <thead>\n",
              "    <tr style=\"text-align: right;\">\n",
              "      <th></th>\n",
              "      <th>Number of times pregnant</th>\n",
              "      <th>Plasma glucose concentration</th>\n",
              "      <th>Diastolic blood pressure</th>\n",
              "      <th>Triceps skin fold thickness</th>\n",
              "      <th>2-Hour serum insulin</th>\n",
              "      <th>Body mass index</th>\n",
              "      <th>Diabetes pedigree function</th>\n",
              "      <th>Age</th>\n",
              "      <th>Class variable (0 or 1)</th>\n",
              "    </tr>\n",
              "  </thead>\n",
              "  <tbody>\n",
              "    <tr>\n",
              "      <th>0</th>\n",
              "      <td>6</td>\n",
              "      <td>148</td>\n",
              "      <td>72</td>\n",
              "      <td>35</td>\n",
              "      <td>0</td>\n",
              "      <td>33.6</td>\n",
              "      <td>0.627</td>\n",
              "      <td>50</td>\n",
              "      <td>1</td>\n",
              "    </tr>\n",
              "    <tr>\n",
              "      <th>1</th>\n",
              "      <td>1</td>\n",
              "      <td>85</td>\n",
              "      <td>66</td>\n",
              "      <td>29</td>\n",
              "      <td>0</td>\n",
              "      <td>26.6</td>\n",
              "      <td>0.351</td>\n",
              "      <td>31</td>\n",
              "      <td>0</td>\n",
              "    </tr>\n",
              "    <tr>\n",
              "      <th>2</th>\n",
              "      <td>8</td>\n",
              "      <td>183</td>\n",
              "      <td>64</td>\n",
              "      <td>0</td>\n",
              "      <td>0</td>\n",
              "      <td>23.3</td>\n",
              "      <td>0.672</td>\n",
              "      <td>32</td>\n",
              "      <td>1</td>\n",
              "    </tr>\n",
              "    <tr>\n",
              "      <th>3</th>\n",
              "      <td>1</td>\n",
              "      <td>89</td>\n",
              "      <td>66</td>\n",
              "      <td>23</td>\n",
              "      <td>94</td>\n",
              "      <td>28.1</td>\n",
              "      <td>0.167</td>\n",
              "      <td>21</td>\n",
              "      <td>0</td>\n",
              "    </tr>\n",
              "    <tr>\n",
              "      <th>4</th>\n",
              "      <td>0</td>\n",
              "      <td>137</td>\n",
              "      <td>40</td>\n",
              "      <td>35</td>\n",
              "      <td>168</td>\n",
              "      <td>43.1</td>\n",
              "      <td>2.288</td>\n",
              "      <td>33</td>\n",
              "      <td>1</td>\n",
              "    </tr>\n",
              "  </tbody>\n",
              "</table>\n",
              "</div>"
            ],
            "text/plain": [
              "   Number of times pregnant  ...  Class variable (0 or 1)\n",
              "0                         6  ...                        1\n",
              "1                         1  ...                        0\n",
              "2                         8  ...                        1\n",
              "3                         1  ...                        0\n",
              "4                         0  ...                        1\n",
              "\n",
              "[5 rows x 9 columns]"
            ]
          },
          "metadata": {
            "tags": []
          },
          "execution_count": 10
        }
      ]
    },
    {
      "cell_type": "code",
      "metadata": {
        "id": "ngO8YSN_W_6_",
        "colab_type": "code",
        "colab": {}
      },
      "source": [
        "X = dataset.drop('Class variable (0 or 1)',axis=1)\n",
        "Y = dataset['Class variable (0 or 1)']"
      ],
      "execution_count": 0,
      "outputs": []
    },
    {
      "cell_type": "code",
      "metadata": {
        "id": "lo6rEpmfc7Ib",
        "colab_type": "code",
        "colab": {}
      },
      "source": [
        "import numpy as np"
      ],
      "execution_count": 0,
      "outputs": []
    },
    {
      "cell_type": "code",
      "metadata": {
        "id": "JrYPfX3scFF6",
        "colab_type": "code",
        "colab": {}
      },
      "source": [
        "X_train,X_test,y_train,y_test = train_test_split(X,Y,test_size=0.20,random_state=1)"
      ],
      "execution_count": 0,
      "outputs": []
    },
    {
      "cell_type": "markdown",
      "metadata": {
        "id": "HkNvUKO_dKtR",
        "colab_type": "text"
      },
      "source": [
        "# Build Model"
      ]
    },
    {
      "cell_type": "code",
      "metadata": {
        "id": "YUng3CMIdMXD",
        "colab_type": "code",
        "colab": {}
      },
      "source": [
        "model = Sequential()"
      ],
      "execution_count": 0,
      "outputs": []
    },
    {
      "cell_type": "code",
      "metadata": {
        "id": "tHZ97sZvczd2",
        "colab_type": "code",
        "colab": {}
      },
      "source": [
        "model.add(Dense(128,input_dim=8,activation='relu'))\n",
        "model.add(Dense(8,activation='relu'))\n",
        "model.add(Dense(1,activation='sigmoid'))"
      ],
      "execution_count": 0,
      "outputs": []
    },
    {
      "cell_type": "markdown",
      "metadata": {
        "id": "2xB6VOzFd9Ml",
        "colab_type": "text"
      },
      "source": [
        "# Compile model"
      ]
    },
    {
      "cell_type": "code",
      "metadata": {
        "id": "XJo-LbBQd_sY",
        "colab_type": "code",
        "colab": {
          "base_uri": "https://localhost:8080/",
          "height": 255
        },
        "outputId": "b5acacec-794a-4c4e-c1df-0800a3083a14"
      },
      "source": [
        "model.compile(optimizer='adam',loss='binary_crossentropy',metrics=['accuracy'])\n",
        "model.summary()"
      ],
      "execution_count": 23,
      "outputs": [
        {
          "output_type": "stream",
          "text": [
            "Model: \"sequential_1\"\n",
            "_________________________________________________________________\n",
            "Layer (type)                 Output Shape              Param #   \n",
            "=================================================================\n",
            "dense_1 (Dense)              (None, 128)               1152      \n",
            "_________________________________________________________________\n",
            "dense_2 (Dense)              (None, 8)                 1032      \n",
            "_________________________________________________________________\n",
            "dense_3 (Dense)              (None, 1)                 9         \n",
            "=================================================================\n",
            "Total params: 2,193\n",
            "Trainable params: 2,193\n",
            "Non-trainable params: 0\n",
            "_________________________________________________________________\n"
          ],
          "name": "stdout"
        }
      ]
    },
    {
      "cell_type": "markdown",
      "metadata": {
        "id": "-asdm2z4erbC",
        "colab_type": "text"
      },
      "source": [
        "# Class label visualization"
      ]
    },
    {
      "cell_type": "code",
      "metadata": {
        "id": "YiacB8rRevhh",
        "colab_type": "code",
        "colab": {
          "base_uri": "https://localhost:8080/",
          "height": 350
        },
        "outputId": "26bf7e3f-64ac-4b8d-b738-04b117c0ac03"
      },
      "source": [
        "import seaborn as sns\n",
        "sns.countplot(x='Class variable (0 or 1)',data=dataset)"
      ],
      "execution_count": 24,
      "outputs": [
        {
          "output_type": "stream",
          "text": [
            "/usr/local/lib/python3.6/dist-packages/statsmodels/tools/_testing.py:19: FutureWarning: pandas.util.testing is deprecated. Use the functions in the public API at pandas.testing instead.\n",
            "  import pandas.util.testing as tm\n"
          ],
          "name": "stderr"
        },
        {
          "output_type": "execute_result",
          "data": {
            "text/plain": [
              "<matplotlib.axes._subplots.AxesSubplot at 0x7fa759a74160>"
            ]
          },
          "metadata": {
            "tags": []
          },
          "execution_count": 24
        },
        {
          "output_type": "display_data",
          "data": {
            "image/png": "[encoded data removed]",
            "text/plain": [
              "<Figure size 432x288 with 1 Axes>"
            ]
          },
          "metadata": {
            "tags": [],
            "needs_background": "light"
          }
        }
      ]
    },
    {
      "cell_type": "markdown",
      "metadata": {
        "id": "uehhYe5VeW6C",
        "colab_type": "text"
      },
      "source": [
        "# Fit the model"
      ]
    },
    {
      "cell_type": "code",
      "metadata": {
        "id": "KAxiwl2ueY4Z",
        "colab_type": "code",
        "colab": {
          "base_uri": "https://localhost:8080/",
          "height": 1000
        },
        "outputId": "e112a2bc-1b00-4c9f-e889-462fe534c5f5"
      },
      "source": [
        "history = model.fit(X_train,y_train,epochs=150,validation_data=(X_test,y_test),verbose=2,shuffle=True)"
      ],
      "execution_count": 25,
      "outputs": [
        {
          "output_type": "stream",
          "text": [
            "Train on 614 samples, validate on 154 samples\n",
            "Epoch 1/150\n",
            " - 0s - loss: 2.4700 - accuracy: 0.4300 - val_loss: 0.8699 - val_accuracy: 0.4740\n",
            "Epoch 2/150\n",
            " - 0s - loss: 0.7332 - accuracy: 0.6466 - val_loss: 0.7506 - val_accuracy: 0.5779\n",
            "Epoch 3/150\n",
            " - 0s - loss: 0.6932 - accuracy: 0.6433 - val_loss: 0.7577 - val_accuracy: 0.6299\n",
            "Epoch 4/150\n",
            " - 0s - loss: 0.6852 - accuracy: 0.6515 - val_loss: 0.7626 - val_accuracy: 0.6299\n",
            "Epoch 5/150\n",
            " - 0s - loss: 0.6814 - accuracy: 0.6531 - val_loss: 0.7715 - val_accuracy: 0.6429\n",
            "Epoch 6/150\n",
            " - 0s - loss: 0.6799 - accuracy: 0.6531 - val_loss: 0.7683 - val_accuracy: 0.6429\n",
            "Epoch 7/150\n",
            " - 0s - loss: 0.6778 - accuracy: 0.6547 - val_loss: 0.7823 - val_accuracy: 0.6494\n",
            "Epoch 8/150\n",
            " - 0s - loss: 0.6726 - accuracy: 0.6580 - val_loss: 0.7783 - val_accuracy: 0.6429\n",
            "Epoch 9/150\n",
            " - 0s - loss: 0.6753 - accuracy: 0.6564 - val_loss: 0.7613 - val_accuracy: 0.6429\n",
            "Epoch 10/150\n",
            " - 0s - loss: 0.6738 - accuracy: 0.6531 - val_loss: 0.7574 - val_accuracy: 0.6429\n",
            "Epoch 11/150\n",
            " - 0s - loss: 0.6722 - accuracy: 0.6515 - val_loss: 0.7574 - val_accuracy: 0.6494\n",
            "Epoch 12/150\n",
            " - 0s - loss: 0.6706 - accuracy: 0.6547 - val_loss: 0.7577 - val_accuracy: 0.6429\n",
            "Epoch 13/150\n",
            " - 0s - loss: 0.6690 - accuracy: 0.6580 - val_loss: 0.7586 - val_accuracy: 0.6364\n",
            "Epoch 14/150\n",
            " - 0s - loss: 0.6678 - accuracy: 0.6580 - val_loss: 0.7630 - val_accuracy: 0.6494\n",
            "Epoch 15/150\n",
            " - 0s - loss: 0.6667 - accuracy: 0.6564 - val_loss: 0.7647 - val_accuracy: 0.6429\n",
            "Epoch 16/150\n",
            " - 0s - loss: 0.6651 - accuracy: 0.6580 - val_loss: 0.7648 - val_accuracy: 0.6494\n",
            "Epoch 17/150\n",
            " - 0s - loss: 0.6638 - accuracy: 0.6564 - val_loss: 0.7649 - val_accuracy: 0.6429\n",
            "Epoch 18/150\n",
            " - 0s - loss: 0.6626 - accuracy: 0.6580 - val_loss: 0.7656 - val_accuracy: 0.6494\n",
            "Epoch 19/150\n",
            " - 0s - loss: 0.6613 - accuracy: 0.6564 - val_loss: 0.7661 - val_accuracy: 0.6494\n",
            "Epoch 20/150\n",
            " - 0s - loss: 0.6602 - accuracy: 0.6580 - val_loss: 0.7662 - val_accuracy: 0.6494\n",
            "Epoch 21/150\n",
            " - 0s - loss: 0.6592 - accuracy: 0.6564 - val_loss: 0.7664 - val_accuracy: 0.6429\n",
            "Epoch 22/150\n",
            " - 0s - loss: 0.6582 - accuracy: 0.6580 - val_loss: 0.7663 - val_accuracy: 0.6494\n",
            "Epoch 23/150\n",
            " - 0s - loss: 0.6570 - accuracy: 0.6564 - val_loss: 0.7671 - val_accuracy: 0.6494\n",
            "Epoch 24/150\n",
            " - 0s - loss: 0.6565 - accuracy: 0.6564 - val_loss: 0.7677 - val_accuracy: 0.6494\n",
            "Epoch 25/150\n",
            " - 0s - loss: 0.6557 - accuracy: 0.6564 - val_loss: 0.7684 - val_accuracy: 0.6494\n",
            "Epoch 26/150\n",
            " - 0s - loss: 0.6548 - accuracy: 0.6564 - val_loss: 0.7686 - val_accuracy: 0.6494\n",
            "Epoch 27/150\n",
            " - 0s - loss: 0.6539 - accuracy: 0.6547 - val_loss: 0.7700 - val_accuracy: 0.6429\n",
            "Epoch 28/150\n",
            " - 0s - loss: 0.6540 - accuracy: 0.6531 - val_loss: 0.7705 - val_accuracy: 0.6429\n",
            "Epoch 29/150\n",
            " - 0s - loss: 0.6532 - accuracy: 0.6531 - val_loss: 0.7708 - val_accuracy: 0.6429\n",
            "Epoch 30/150\n",
            " - 0s - loss: 0.6523 - accuracy: 0.6531 - val_loss: 0.7707 - val_accuracy: 0.6429\n",
            "Epoch 31/150\n",
            " - 0s - loss: 0.6513 - accuracy: 0.6531 - val_loss: 0.7706 - val_accuracy: 0.6429\n",
            "Epoch 32/150\n",
            " - 0s - loss: 0.6509 - accuracy: 0.6564 - val_loss: 0.7704 - val_accuracy: 0.6494\n",
            "Epoch 33/150\n",
            " - 0s - loss: 0.6498 - accuracy: 0.6580 - val_loss: 0.7709 - val_accuracy: 0.6494\n",
            "Epoch 34/150\n",
            " - 0s - loss: 0.6487 - accuracy: 0.6580 - val_loss: 0.7717 - val_accuracy: 0.6494\n",
            "Epoch 35/150\n",
            " - 0s - loss: 0.6483 - accuracy: 0.6547 - val_loss: 0.7739 - val_accuracy: 0.6429\n",
            "Epoch 36/150\n",
            " - 0s - loss: 0.6455 - accuracy: 0.6531 - val_loss: 0.7734 - val_accuracy: 0.6429\n",
            "Epoch 37/150\n",
            " - 0s - loss: 0.6418 - accuracy: 0.6759 - val_loss: 0.7742 - val_accuracy: 0.6429\n",
            "Epoch 38/150\n",
            " - 0s - loss: 0.6386 - accuracy: 0.6710 - val_loss: 0.7727 - val_accuracy: 0.6558\n",
            "Epoch 39/150\n",
            " - 0s - loss: 0.6350 - accuracy: 0.6694 - val_loss: 0.7729 - val_accuracy: 0.6623\n",
            "Epoch 40/150\n",
            " - 0s - loss: 0.6320 - accuracy: 0.6987 - val_loss: 0.7698 - val_accuracy: 0.6494\n",
            "Epoch 41/150\n",
            " - 0s - loss: 0.6291 - accuracy: 0.6873 - val_loss: 0.7677 - val_accuracy: 0.6429\n",
            "Epoch 42/150\n",
            " - 0s - loss: 0.6260 - accuracy: 0.6987 - val_loss: 0.7660 - val_accuracy: 0.6558\n",
            "Epoch 43/150\n",
            " - 0s - loss: 0.6231 - accuracy: 0.7036 - val_loss: 0.7644 - val_accuracy: 0.6623\n",
            "Epoch 44/150\n",
            " - 0s - loss: 0.6216 - accuracy: 0.7052 - val_loss: 0.7642 - val_accuracy: 0.6558\n",
            "Epoch 45/150\n",
            " - 0s - loss: 0.6191 - accuracy: 0.7085 - val_loss: 0.7674 - val_accuracy: 0.6558\n",
            "Epoch 46/150\n",
            " - 0s - loss: 0.6212 - accuracy: 0.6938 - val_loss: 0.7658 - val_accuracy: 0.6623\n",
            "Epoch 47/150\n",
            " - 0s - loss: 0.6149 - accuracy: 0.7068 - val_loss: 0.7596 - val_accuracy: 0.7013\n",
            "Epoch 48/150\n",
            " - 0s - loss: 0.6124 - accuracy: 0.7036 - val_loss: 0.7561 - val_accuracy: 0.6753\n",
            "Epoch 49/150\n",
            " - 0s - loss: 0.6086 - accuracy: 0.7166 - val_loss: 0.7585 - val_accuracy: 0.6623\n",
            "Epoch 50/150\n",
            " - 0s - loss: 0.6074 - accuracy: 0.7117 - val_loss: 0.7551 - val_accuracy: 0.6883\n",
            "Epoch 51/150\n",
            " - 0s - loss: 0.6076 - accuracy: 0.7117 - val_loss: 0.7497 - val_accuracy: 0.6883\n",
            "Epoch 52/150\n",
            " - 0s - loss: 0.6035 - accuracy: 0.7215 - val_loss: 0.7656 - val_accuracy: 0.6429\n",
            "Epoch 53/150\n",
            " - 0s - loss: 0.6069 - accuracy: 0.7068 - val_loss: 0.7519 - val_accuracy: 0.6623\n",
            "Epoch 54/150\n",
            " - 0s - loss: 0.5957 - accuracy: 0.7150 - val_loss: 0.7443 - val_accuracy: 0.7078\n",
            "Epoch 55/150\n",
            " - 0s - loss: 0.5961 - accuracy: 0.7215 - val_loss: 0.7411 - val_accuracy: 0.6948\n",
            "Epoch 56/150\n",
            " - 0s - loss: 0.5925 - accuracy: 0.7166 - val_loss: 0.7331 - val_accuracy: 0.7338\n",
            "Epoch 57/150\n",
            " - 0s - loss: 0.5896 - accuracy: 0.7134 - val_loss: 0.7305 - val_accuracy: 0.7078\n",
            "Epoch 58/150\n",
            " - 0s - loss: 0.5871 - accuracy: 0.7362 - val_loss: 0.7357 - val_accuracy: 0.7078\n",
            "Epoch 59/150\n",
            " - 0s - loss: 0.5948 - accuracy: 0.7134 - val_loss: 0.7216 - val_accuracy: 0.7273\n",
            "Epoch 60/150\n",
            " - 0s - loss: 0.6009 - accuracy: 0.7036 - val_loss: 0.7221 - val_accuracy: 0.7013\n",
            "Epoch 61/150\n",
            " - 0s - loss: 0.5816 - accuracy: 0.7215 - val_loss: 0.7179 - val_accuracy: 0.7403\n",
            "Epoch 62/150\n",
            " - 0s - loss: 0.5777 - accuracy: 0.7150 - val_loss: 0.7264 - val_accuracy: 0.7338\n",
            "Epoch 63/150\n",
            " - 0s - loss: 0.5750 - accuracy: 0.7248 - val_loss: 0.7104 - val_accuracy: 0.7403\n",
            "Epoch 64/150\n",
            " - 0s - loss: 0.5892 - accuracy: 0.7117 - val_loss: 0.7276 - val_accuracy: 0.6883\n",
            "Epoch 65/150\n",
            " - 0s - loss: 0.5784 - accuracy: 0.7199 - val_loss: 0.7264 - val_accuracy: 0.6753\n",
            "Epoch 66/150\n",
            " - 0s - loss: 0.5861 - accuracy: 0.7264 - val_loss: 0.7053 - val_accuracy: 0.7662\n",
            "Epoch 67/150\n",
            " - 0s - loss: 0.5683 - accuracy: 0.7264 - val_loss: 0.7119 - val_accuracy: 0.7273\n",
            "Epoch 68/150\n",
            " - 0s - loss: 0.5682 - accuracy: 0.7199 - val_loss: 0.7046 - val_accuracy: 0.7338\n",
            "Epoch 69/150\n",
            " - 0s - loss: 0.5735 - accuracy: 0.7329 - val_loss: 0.7057 - val_accuracy: 0.7208\n",
            "Epoch 70/150\n",
            " - 0s - loss: 0.5635 - accuracy: 0.7199 - val_loss: 0.7221 - val_accuracy: 0.6753\n",
            "Epoch 71/150\n",
            " - 0s - loss: 0.5702 - accuracy: 0.7248 - val_loss: 0.7077 - val_accuracy: 0.7403\n",
            "Epoch 72/150\n",
            " - 0s - loss: 0.5613 - accuracy: 0.7313 - val_loss: 0.7350 - val_accuracy: 0.7403\n",
            "Epoch 73/150\n",
            " - 0s - loss: 0.5618 - accuracy: 0.7362 - val_loss: 0.6778 - val_accuracy: 0.7532\n",
            "Epoch 74/150\n",
            " - 0s - loss: 0.5645 - accuracy: 0.7362 - val_loss: 0.6748 - val_accuracy: 0.7403\n",
            "Epoch 75/150\n",
            " - 0s - loss: 0.5553 - accuracy: 0.7296 - val_loss: 0.6782 - val_accuracy: 0.7208\n",
            "Epoch 76/150\n",
            " - 0s - loss: 0.5569 - accuracy: 0.7394 - val_loss: 0.6737 - val_accuracy: 0.7403\n",
            "Epoch 77/150\n",
            " - 0s - loss: 0.5585 - accuracy: 0.7329 - val_loss: 0.6848 - val_accuracy: 0.7403\n",
            "Epoch 78/150\n",
            " - 0s - loss: 0.5587 - accuracy: 0.7492 - val_loss: 0.6833 - val_accuracy: 0.7338\n",
            "Epoch 79/150\n",
            " - 0s - loss: 0.5535 - accuracy: 0.7248 - val_loss: 0.6862 - val_accuracy: 0.7013\n",
            "Epoch 80/150\n",
            " - 0s - loss: 0.5511 - accuracy: 0.7345 - val_loss: 0.6774 - val_accuracy: 0.7662\n",
            "Epoch 81/150\n",
            " - 0s - loss: 0.5504 - accuracy: 0.7410 - val_loss: 0.6751 - val_accuracy: 0.7662\n",
            "Epoch 82/150\n",
            " - 0s - loss: 0.5577 - accuracy: 0.7329 - val_loss: 0.6762 - val_accuracy: 0.7727\n",
            "Epoch 83/150\n",
            " - 0s - loss: 0.5456 - accuracy: 0.7410 - val_loss: 0.6779 - val_accuracy: 0.7597\n",
            "Epoch 84/150\n",
            " - 0s - loss: 0.5485 - accuracy: 0.7427 - val_loss: 0.6752 - val_accuracy: 0.7338\n",
            "Epoch 85/150\n",
            " - 0s - loss: 0.5431 - accuracy: 0.7524 - val_loss: 0.6763 - val_accuracy: 0.7078\n",
            "Epoch 86/150\n",
            " - 0s - loss: 0.5420 - accuracy: 0.7476 - val_loss: 0.6686 - val_accuracy: 0.7662\n",
            "Epoch 87/150\n",
            " - 0s - loss: 0.5427 - accuracy: 0.7443 - val_loss: 0.6809 - val_accuracy: 0.7143\n",
            "Epoch 88/150\n",
            " - 0s - loss: 0.5528 - accuracy: 0.7427 - val_loss: 0.6674 - val_accuracy: 0.7727\n",
            "Epoch 89/150\n",
            " - 0s - loss: 0.5392 - accuracy: 0.7704 - val_loss: 0.6747 - val_accuracy: 0.7662\n",
            "Epoch 90/150\n",
            " - 0s - loss: 0.5460 - accuracy: 0.7345 - val_loss: 0.6808 - val_accuracy: 0.7597\n",
            "Epoch 91/150\n",
            " - 0s - loss: 0.5420 - accuracy: 0.7443 - val_loss: 0.6696 - val_accuracy: 0.7403\n",
            "Epoch 92/150\n",
            " - 0s - loss: 0.5348 - accuracy: 0.7492 - val_loss: 0.6862 - val_accuracy: 0.7597\n",
            "Epoch 93/150\n",
            " - 0s - loss: 0.5454 - accuracy: 0.7378 - val_loss: 0.6804 - val_accuracy: 0.7532\n",
            "Epoch 94/150\n",
            " - 0s - loss: 0.5406 - accuracy: 0.7410 - val_loss: 0.6806 - val_accuracy: 0.7532\n",
            "Epoch 95/150\n",
            " - 0s - loss: 0.5345 - accuracy: 0.7476 - val_loss: 0.6727 - val_accuracy: 0.7468\n",
            "Epoch 96/150\n",
            " - 0s - loss: 0.5337 - accuracy: 0.7541 - val_loss: 0.6750 - val_accuracy: 0.7273\n",
            "Epoch 97/150\n",
            " - 0s - loss: 0.5350 - accuracy: 0.7492 - val_loss: 0.6655 - val_accuracy: 0.7273\n",
            "Epoch 98/150\n",
            " - 0s - loss: 0.5401 - accuracy: 0.7492 - val_loss: 0.6709 - val_accuracy: 0.7792\n",
            "Epoch 99/150\n",
            " - 0s - loss: 0.5450 - accuracy: 0.7427 - val_loss: 0.6608 - val_accuracy: 0.7532\n",
            "Epoch 100/150\n",
            " - 0s - loss: 0.5523 - accuracy: 0.7329 - val_loss: 0.6928 - val_accuracy: 0.6948\n",
            "Epoch 101/150\n",
            " - 0s - loss: 0.5407 - accuracy: 0.7329 - val_loss: 0.6772 - val_accuracy: 0.7078\n",
            "Epoch 102/150\n",
            " - 0s - loss: 0.5331 - accuracy: 0.7524 - val_loss: 0.6588 - val_accuracy: 0.7468\n",
            "Epoch 103/150\n",
            " - 0s - loss: 0.5288 - accuracy: 0.7524 - val_loss: 0.6747 - val_accuracy: 0.7273\n",
            "Epoch 104/150\n",
            " - 0s - loss: 0.5361 - accuracy: 0.7508 - val_loss: 0.6679 - val_accuracy: 0.7143\n",
            "Epoch 105/150\n",
            " - 0s - loss: 0.5345 - accuracy: 0.7541 - val_loss: 0.6658 - val_accuracy: 0.7273\n",
            "Epoch 106/150\n",
            " - 0s - loss: 0.5298 - accuracy: 0.7362 - val_loss: 0.6658 - val_accuracy: 0.7468\n",
            "Epoch 107/150\n",
            " - 0s - loss: 0.5336 - accuracy: 0.7492 - val_loss: 0.6635 - val_accuracy: 0.7662\n",
            "Epoch 108/150\n",
            " - 0s - loss: 0.5365 - accuracy: 0.7459 - val_loss: 0.6814 - val_accuracy: 0.7468\n",
            "Epoch 109/150\n",
            " - 0s - loss: 0.5246 - accuracy: 0.7606 - val_loss: 0.6656 - val_accuracy: 0.7468\n",
            "Epoch 110/150\n",
            " - 0s - loss: 0.5229 - accuracy: 0.7476 - val_loss: 0.6710 - val_accuracy: 0.7338\n",
            "Epoch 111/150\n",
            " - 0s - loss: 0.5248 - accuracy: 0.7427 - val_loss: 0.6633 - val_accuracy: 0.7338\n",
            "Epoch 112/150\n",
            " - 0s - loss: 0.5215 - accuracy: 0.7476 - val_loss: 0.6873 - val_accuracy: 0.7208\n",
            "Epoch 113/150\n",
            " - 0s - loss: 0.5221 - accuracy: 0.7557 - val_loss: 0.6608 - val_accuracy: 0.7338\n",
            "Epoch 114/150\n",
            " - 0s - loss: 0.5184 - accuracy: 0.7573 - val_loss: 0.6607 - val_accuracy: 0.7468\n",
            "Epoch 115/150\n",
            " - 0s - loss: 0.5187 - accuracy: 0.7557 - val_loss: 0.6681 - val_accuracy: 0.7597\n",
            "Epoch 116/150\n",
            " - 0s - loss: 0.5223 - accuracy: 0.7443 - val_loss: 0.6762 - val_accuracy: 0.7078\n",
            "Epoch 117/150\n",
            " - 0s - loss: 0.5214 - accuracy: 0.7410 - val_loss: 0.6652 - val_accuracy: 0.7403\n",
            "Epoch 118/150\n",
            " - 0s - loss: 0.5438 - accuracy: 0.7313 - val_loss: 0.6686 - val_accuracy: 0.7662\n",
            "Epoch 119/150\n",
            " - 0s - loss: 0.5223 - accuracy: 0.7655 - val_loss: 0.6690 - val_accuracy: 0.7338\n",
            "Epoch 120/150\n",
            " - 0s - loss: 0.5242 - accuracy: 0.7557 - val_loss: 0.6661 - val_accuracy: 0.7338\n",
            "Epoch 121/150\n",
            " - 0s - loss: 0.5216 - accuracy: 0.7508 - val_loss: 0.6679 - val_accuracy: 0.7208\n",
            "Epoch 122/150\n",
            " - 0s - loss: 0.5332 - accuracy: 0.7476 - val_loss: 0.6697 - val_accuracy: 0.7727\n",
            "Epoch 123/150\n",
            " - 0s - loss: 0.5157 - accuracy: 0.7655 - val_loss: 0.6636 - val_accuracy: 0.7468\n",
            "Epoch 124/150\n",
            " - 0s - loss: 0.5155 - accuracy: 0.7459 - val_loss: 0.6613 - val_accuracy: 0.7403\n",
            "Epoch 125/150\n",
            " - 0s - loss: 0.5147 - accuracy: 0.7541 - val_loss: 0.6657 - val_accuracy: 0.7532\n",
            "Epoch 126/150\n",
            " - 0s - loss: 0.5142 - accuracy: 0.7638 - val_loss: 0.6715 - val_accuracy: 0.7532\n",
            "Epoch 127/150\n",
            " - 0s - loss: 0.5138 - accuracy: 0.7557 - val_loss: 0.6642 - val_accuracy: 0.7338\n",
            "Epoch 128/150\n",
            " - 0s - loss: 0.5081 - accuracy: 0.7508 - val_loss: 0.6655 - val_accuracy: 0.7338\n",
            "Epoch 129/150\n",
            " - 0s - loss: 0.5086 - accuracy: 0.7622 - val_loss: 0.6673 - val_accuracy: 0.7273\n",
            "Epoch 130/150\n",
            " - 0s - loss: 0.5121 - accuracy: 0.7557 - val_loss: 0.6668 - val_accuracy: 0.7468\n",
            "Epoch 131/150\n",
            " - 0s - loss: 0.5189 - accuracy: 0.7508 - val_loss: 0.6788 - val_accuracy: 0.7273\n",
            "Epoch 132/150\n",
            " - 0s - loss: 0.5238 - accuracy: 0.7492 - val_loss: 0.6852 - val_accuracy: 0.7143\n",
            "Epoch 133/150\n",
            " - 0s - loss: 0.5107 - accuracy: 0.7557 - val_loss: 0.6697 - val_accuracy: 0.7597\n",
            "Epoch 134/150\n",
            " - 0s - loss: 0.5079 - accuracy: 0.7508 - val_loss: 0.6649 - val_accuracy: 0.7403\n",
            "Epoch 135/150\n",
            " - 0s - loss: 0.5052 - accuracy: 0.7638 - val_loss: 0.6675 - val_accuracy: 0.7468\n",
            "Epoch 136/150\n",
            " - 0s - loss: 0.5080 - accuracy: 0.7622 - val_loss: 0.6683 - val_accuracy: 0.7468\n",
            "Epoch 137/150\n",
            " - 0s - loss: 0.5152 - accuracy: 0.7427 - val_loss: 0.6749 - val_accuracy: 0.7532\n",
            "Epoch 138/150\n",
            " - 0s - loss: 0.5329 - accuracy: 0.7476 - val_loss: 0.6620 - val_accuracy: 0.7532\n",
            "Epoch 139/150\n",
            " - 0s - loss: 0.5088 - accuracy: 0.7590 - val_loss: 0.6647 - val_accuracy: 0.7532\n",
            "Epoch 140/150\n",
            " - 0s - loss: 0.5125 - accuracy: 0.7492 - val_loss: 0.6784 - val_accuracy: 0.7532\n",
            "Epoch 141/150\n",
            " - 0s - loss: 0.5024 - accuracy: 0.7622 - val_loss: 0.6917 - val_accuracy: 0.7338\n",
            "Epoch 142/150\n",
            " - 0s - loss: 0.5010 - accuracy: 0.7638 - val_loss: 0.7161 - val_accuracy: 0.7273\n",
            "Epoch 143/150\n",
            " - 0s - loss: 0.5044 - accuracy: 0.7573 - val_loss: 0.6836 - val_accuracy: 0.7532\n",
            "Epoch 144/150\n",
            " - 0s - loss: 0.5069 - accuracy: 0.7573 - val_loss: 0.6948 - val_accuracy: 0.7143\n",
            "Epoch 145/150\n",
            " - 0s - loss: 0.5110 - accuracy: 0.7394 - val_loss: 0.6801 - val_accuracy: 0.7273\n",
            "Epoch 146/150\n",
            " - 0s - loss: 0.5053 - accuracy: 0.7524 - val_loss: 0.6758 - val_accuracy: 0.7662\n",
            "Epoch 147/150\n",
            " - 0s - loss: 0.5175 - accuracy: 0.7443 - val_loss: 0.6927 - val_accuracy: 0.7532\n",
            "Epoch 148/150\n",
            " - 0s - loss: 0.5092 - accuracy: 0.7476 - val_loss: 0.6789 - val_accuracy: 0.7468\n",
            "Epoch 149/150\n",
            " - 0s - loss: 0.5117 - accuracy: 0.7508 - val_loss: 0.6740 - val_accuracy: 0.7338\n",
            "Epoch 150/150\n",
            " - 0s - loss: 0.4995 - accuracy: 0.7459 - val_loss: 0.6677 - val_accuracy: 0.7468\n"
          ],
          "name": "stdout"
        }
      ]
    },
    {
      "cell_type": "code",
      "metadata": {
        "id": "KEiPoJbPeSaW",
        "colab_type": "code",
        "colab": {
          "base_uri": "https://localhost:8080/",
          "height": 265
        },
        "outputId": "f9eb1b78-4822-4cdd-cb82-c6e2cdcd8232"
      },
      "source": [
        "import matplotlib.pyplot as plt\n",
        "plt.plot(history.history['accuracy'],label='Training accuracy')\n",
        "plt.plot(history.history['val_accuracy'],label='Test accuracy')\n",
        "plt.legend()\n",
        "plt.show()"
      ],
      "execution_count": 29,
      "outputs": [
        {
          "output_type": "display_data",
          "data": {
            "image/png": "[encoded data removed]",
            "text/plain": [
              "<Figure size 432x288 with 1 Axes>"
            ]
          },
          "metadata": {
            "tags": [],
            "needs_background": "light"
          }
        }
      ]
    },
    {
      "cell_type": "code",
      "metadata": {
        "id": "ViLkYeq9fPoM",
        "colab_type": "code",
        "colab": {
          "base_uri": "https://localhost:8080/",
          "height": 265
        },
        "outputId": "c39cc124-e37c-4ba2-e3ff-fb2c484ef063"
      },
      "source": [
        "plt.plot(history.history['loss'],label='Training loss')\n",
        "plt.plot(history.history['val_loss'],label='Test loss')\n",
        "plt.legend()\n",
        "plt.show()"
      ],
      "execution_count": 30,
      "outputs": [
        {
          "output_type": "display_data",
          "data": {
            "image/png": "[encoded data removed]",
            "text/plain": [
              "<Figure size 432x288 with 1 Axes>"
            ]
          },
          "metadata": {
            "tags": [],
            "needs_background": "light"
          }
        }
      ]
    },
    {
      "cell_type": "markdown",
      "metadata": {
        "id": "8iSgvrknnnaJ",
        "colab_type": "text"
      },
      "source": [
        "# Evaluate Model"
      ]
    },
    {
      "cell_type": "code",
      "metadata": {
        "id": "C5ywGZArnpRo",
        "colab_type": "code",
        "colab": {
          "base_uri": "https://localhost:8080/",
          "height": 34
        },
        "outputId": "558a6e83-ee34-4e53-8a67-e40f4e97d72e"
      },
      "source": [
        "scores = model.evaluate(X_test,y_test)"
      ],
      "execution_count": 31,
      "outputs": [
        {
          "output_type": "stream",
          "text": [
            "154/154 [==============================] - 0s 57us/step\n"
          ],
          "name": "stdout"
        }
      ]
    },
    {
      "cell_type": "code",
      "metadata": {
        "id": "OlU67_9TnzQh",
        "colab_type": "code",
        "colab": {
          "base_uri": "https://localhost:8080/",
          "height": 51
        },
        "outputId": "1f8b08ce-125a-4986-e35e-9b0d0727624d"
      },
      "source": [
        "print(\"\\n%s: %.2f%%\" % (model.metrics_names[1], scores[1]*100))"
      ],
      "execution_count": 32,
      "outputs": [
        {
          "output_type": "stream",
          "text": [
            "\n",
            "accuracy: 74.68%\n"
          ],
          "name": "stdout"
        }
      ]
    }
  ]
}