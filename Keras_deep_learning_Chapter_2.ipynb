{
  "nbformat": 4,
  "nbformat_minor": 0,
  "metadata": {
    "colab": {
      "name": "Keras_deep_learning_Chapter_2.ipynb",
      "provenance": [],
      "authorship_tag": "ABX9TyP+8iNllv8wHhZzlK6Gv/Tx",
      "include_colab_link": true
    },
    "kernelspec": {
      "name": "python3",
      "display_name": "Python 3"
    }
  },
  "cells": [
    {
      "cell_type": "markdown",
      "metadata": {
        "id": "view-in-github",
        "colab_type": "text"
      },
      "source": [
        "<a href=\"https://colab.research.google.com/github/plaban1981/Deep-Learning-KERAS/blob/master/Keras_deep_learning_Chapter_2.ipynb\" target=\"_parent\"><img src=\"https://colab.research.google.com/assets/colab-badge.svg\" alt=\"Open In Colab\"/></a>"
      ]
    },
    {
      "cell_type": "markdown",
      "metadata": {
        "id": "EoCXcCiHh7hq",
        "colab_type": "text"
      },
      "source": [
        "## MNIST DATA Classification - ANN using Keras"
      ]
    },
    {
      "cell_type": "markdown",
      "metadata": {
        "id": "u1Ozr-A_j6g1",
        "colab_type": "text"
      },
      "source": [
        "https://github.com/PacktPublishing/Keras-Deep-Learning-Cookbook/blob/master/Chapter02/functional_apis_with_mnist.py"
      ]
    },
    {
      "cell_type": "code",
      "metadata": {
        "id": "7VOPuvOzhFyK",
        "colab_type": "code",
        "colab": {
          "base_uri": "https://localhost:8080/",
          "height": 136
        },
        "outputId": "33f3efcc-225b-41dc-f69a-5b8219ccc076"
      },
      "source": [
        "from keras.datasets import mnist\n",
        "\n",
        "\n",
        "(X_train, y_train), (X_test, y_test) = mnist.load_data()\n",
        "\n",
        "print(\"X_train shape: \" + str(X_train.shape))\n",
        "print(\"y_train shape: \" + str(y_train.shape))\n",
        "print(\"X_test shape: \" + str(X_test.shape))\n",
        "print(\"y_test shape: \" +  str(y_test.shape))"
      ],
      "execution_count": 1,
      "outputs": [
        {
          "output_type": "stream",
          "text": [
            "Using TensorFlow backend.\n"
          ],
          "name": "stderr"
        },
        {
          "output_type": "stream",
          "text": [
            "Downloading data from https://s3.amazonaws.com/img-datasets/mnist.npz\n",
            "11493376/11490434 [==============================] - 0s 0us/step\n",
            "X_train shape: (60000, 28, 28)\n",
            "y_train shape: (60000,)\n",
            "X_test shape: (10000, 28, 28)\n",
            "y_test shape: (10000,)\n"
          ],
          "name": "stdout"
        }
      ]
    },
    {
      "cell_type": "markdown",
      "metadata": {
        "id": "zifn74pHiGhF",
        "colab_type": "text"
      },
      "source": [
        "# Keras Functional API"
      ]
    },
    {
      "cell_type": "code",
      "metadata": {
        "id": "GlGUSG82iI50",
        "colab_type": "code",
        "colab": {}
      },
      "source": [
        "import keras\n",
        "from keras.utils import plot_model\n",
        "from keras.models import Model\n",
        "from keras.layers import Input,Dense,Reshape,Flatten\n",
        "from keras.layers.convolutional import Conv2D\n",
        "from keras.layers.pooling import MaxPooling2D\n",
        "from keras import optimizers"
      ],
      "execution_count": 0,
      "outputs": []
    },
    {
      "cell_type": "markdown",
      "metadata": {
        "id": "0MVwaAzhjrHY",
        "colab_type": "text"
      },
      "source": [
        "# Hyperparmeters"
      ]
    },
    {
      "cell_type": "code",
      "metadata": {
        "id": "3XaYldwsjuXu",
        "colab_type": "code",
        "colab": {}
      },
      "source": [
        "num_classes = 10\n",
        "batch_size = 32\n",
        "epochs = 10\n",
        "batch_size = 128\n",
        "num_classes = 10 # since it contains digits 0 to 9\n",
        "epochs = 12"
      ],
      "execution_count": 0,
      "outputs": []
    },
    {
      "cell_type": "code",
      "metadata": {
        "id": "lBEViKm-LcnH",
        "colab_type": "code",
        "colab": {
          "base_uri": "https://localhost:8080/",
          "height": 309
        },
        "outputId": "87032aeb-0b4e-4f36-ed10-0e17641defbd"
      },
      "source": [
        "!pip install sklearn-genetic"
      ],
      "execution_count": 2,
      "outputs": [
        {
          "output_type": "stream",
          "text": [
            "Collecting sklearn-genetic\n",
            "  Downloading https://files.pythonhosted.org/packages/25/a7/495e10b18fa87d8865fb768c7dc050bbc183bfbbc212f3e612423f74cd16/sklearn-genetic-0.2.tar.gz\n",
            "Requirement already satisfied: scikit-learn>=0.18 in /usr/local/lib/python3.6/dist-packages (from sklearn-genetic) (0.22.2.post1)\n",
            "Collecting deap>=1.0.2\n",
            "\u001b[?25l  Downloading https://files.pythonhosted.org/packages/0a/eb/2bd0a32e3ce757fb26264765abbaedd6d4d3640d90219a513aeabd08ee2b/deap-1.3.1-cp36-cp36m-manylinux2010_x86_64.whl (157kB)\n",
            "\r\u001b[K     |██                              | 10kB 16.9MB/s eta 0:00:01\r\u001b[K     |████▏                           | 20kB 22.5MB/s eta 0:00:01\r\u001b[K     |██████▎                         | 30kB 9.8MB/s eta 0:00:01\r\u001b[K     |████████▍                       | 40kB 12.0MB/s eta 0:00:01\r\u001b[K     |██████████▍                     | 51kB 11.8MB/s eta 0:00:01\r\u001b[K     |████████████▌                   | 61kB 9.0MB/s eta 0:00:01\r\u001b[K     |██████████████▋                 | 71kB 10.1MB/s eta 0:00:01\r\u001b[K     |████████████████▊               | 81kB 11.1MB/s eta 0:00:01\r\u001b[K     |██████████████████▊             | 92kB 11.1MB/s eta 0:00:01\r\u001b[K     |████████████████████▉           | 102kB 9.6MB/s eta 0:00:01\r\u001b[K     |███████████████████████         | 112kB 9.6MB/s eta 0:00:01\r\u001b[K     |█████████████████████████       | 122kB 9.6MB/s eta 0:00:01\r\u001b[K     |███████████████████████████▏    | 133kB 9.6MB/s eta 0:00:01\r\u001b[K     |█████████████████████████████▏  | 143kB 9.6MB/s eta 0:00:01\r\u001b[K     |███████████████████████████████▎| 153kB 9.6MB/s eta 0:00:01\r\u001b[K     |████████████████████████████████| 163kB 9.6MB/s \n",
            "\u001b[?25hRequirement already satisfied: numpy>=1.11.0 in /usr/local/lib/python3.6/dist-packages (from scikit-learn>=0.18->sklearn-genetic) (1.18.3)\n",
            "Requirement already satisfied: scipy>=0.17.0 in /usr/local/lib/python3.6/dist-packages (from scikit-learn>=0.18->sklearn-genetic) (1.4.1)\n",
            "Requirement already satisfied: joblib>=0.11 in /usr/local/lib/python3.6/dist-packages (from scikit-learn>=0.18->sklearn-genetic) (0.14.1)\n",
            "Building wheels for collected packages: sklearn-genetic\n",
            "  Building wheel for sklearn-genetic (setup.py) ... \u001b[?25l\u001b[?25hdone\n",
            "  Created wheel for sklearn-genetic: filename=sklearn_genetic-0.2-py2.py3-none-any.whl size=6695 sha256=1f3137e1ddcd47a91953736159e76ffbf66215d9530984c0a10e557b01aecad9\n",
            "  Stored in directory: /root/.cache/pip/wheels/e0/0d/a7/698bc5a79bdf76ad619116359c01dcc40298b8b275279fd826\n",
            "Successfully built sklearn-genetic\n",
            "Installing collected packages: deap, sklearn-genetic\n",
            "Successfully installed deap-1.3.1 sklearn-genetic-0.2\n"
          ],
          "name": "stdout"
        }
      ]
    },
    {
      "cell_type": "code",
      "metadata": {
        "id": "7voJw5onHAJU",
        "colab_type": "code",
        "colab": {
          "base_uri": "https://localhost:8080/",
          "height": 272
        },
        "outputId": "b991945a-9f17-436c-9b9f-d9a407b0ae92"
      },
      "source": [
        "from genetic_selection import GeneticSelectionCV\n",
        "\n",
        "import numpy as np\n",
        "import pandas as pd\n",
        "from sklearn import datasets, linear_model\n",
        "\n",
        "from genetic_selection import GeneticSelectionCV\n",
        "\n",
        "\n",
        "iris = datasets.load_iris()\n",
        "\n",
        "# Some noisy data not correlated\n",
        "E = np.random.uniform(0, 0.1, size=(len(iris.data)))\n",
        "print(E.shape)\n",
        "df = pd.DataFrame(iris.data,columns=iris.feature_names)\n",
        "df['Noise'] = E\n",
        "df['Label'] = iris.target\n",
        "\n",
        "X = df.drop('Label',axis=1)\n",
        "y = df['Label']\n",
        "\n",
        "estimator = linear_model.LogisticRegression(solver=\"liblinear\", multi_class=\"ovr\")\n",
        "\n",
        "selector = GeneticSelectionCV(estimator,\n",
        "                                  cv=5,\n",
        "                                  verbose=1,\n",
        "                                  scoring=\"accuracy\",\n",
        "                                  max_features=2,\n",
        "                                  n_population=50,\n",
        "                                  crossover_proba=0.5,\n",
        "                                  mutation_proba=0.2,\n",
        "                                  n_generations=40,\n",
        "                                  crossover_independent_proba=0.5,\n",
        "                                  mutation_independent_proba=0.05,\n",
        "                                  tournament_size=3,\n",
        "                                  n_gen_no_change=10,\n",
        "                                  caching=True,\n",
        "                                  n_jobs=-1)\n",
        "selector = selector.fit(X, y)\n",
        "\n",
        "print(selector.support_)\n"
      ],
      "execution_count": 18,
      "outputs": [
        {
          "output_type": "stream",
          "text": [
            "(150,)\n",
            "Selecting features with genetic algorithm.\n",
            "gen\tnevals\tavg                              \tstd                            \tmin              \tmax        \n",
            "0  \t50    \t[-5.59963827e+03  2.42000000e+00]\t[4.96427755e+03 1.09708705e+00]\t[-10000.      0.]\t[0.94 5.  ]\n",
            "1  \t27    \t[-1199.29146667     1.68      ]  \t[3.24987701e+03 7.33212111e-01]\t[-10000.      0.]\t[0.94 4.  ]\n",
            "2  \t38    \t[-1.9993028e+03  1.8000000e+00]  \t[4.00034860e+03 8.48528137e-01]\t[-10000.      0.]\t[0.94 4.  ]\n",
            "3  \t37    \t[0.89973333 1.9       ]          \t[0.06939689 0.3       ]        \t[0.53333333 1.        ]\t[0.94 2.  ]\n",
            "4  \t26    \t[-1599.24946667     2.        ]  \t[3.66638812e+03 6.32455532e-01]\t[-10000.      0.]      \t[0.94 4.  ]\n",
            "5  \t30    \t[-799.15573333    2.04      ]    \t[2.71318095e+03 3.44093011e-01]\t[-1.e+04  1.e+00]      \t[0.94 3.  ]\n",
            "6  \t30    \t[-1399.24093333     2.        ]  \t[3.47017658e+03 5.29150262e-01]\t[-1.e+04  1.e+00]      \t[0.94 3.  ]\n",
            "7  \t32    \t[-1399.2524     1.92  ]          \t[3.47017195e+03 5.94642750e-01]\t[-1.e+04  1.e+00]      \t[0.94 3.  ]\n",
            "8  \t37    \t[-599.13533333    1.96      ]    \t[2.37508687e+03 3.97994975e-01]\t[-10000.      0.]      \t[0.94 3.  ]\n",
            "9  \t27    \t[-599.12146667    2.04      ]    \t[2.37509038e+03 2.80000000e-01]\t[-1.e+04  1.e+00]      \t[0.94 3.  ]\n",
            "10 \t35    \t[-199.08693333    2.        ]    \t[1.40013044e+03 2.00000000e-01]\t[-1.e+04  1.e+00]      \t[0.94 3.  ]\n",
            "[False  True False  True False]\n"
          ],
          "name": "stdout"
        }
      ]
    },
    {
      "cell_type": "code",
      "metadata": {
        "id": "SudJ3qurUoLd",
        "colab_type": "code",
        "colab": {
          "base_uri": "https://localhost:8080/",
          "height": 85
        },
        "outputId": "1ed2d3ca-c7a2-4d71-c31c-2488d647b879"
      },
      "source": [
        "iris.feature_names"
      ],
      "execution_count": 20,
      "outputs": [
        {
          "output_type": "execute_result",
          "data": {
            "text/plain": [
              "['sepal length (cm)',\n",
              " 'sepal width (cm)',\n",
              " 'petal length (cm)',\n",
              " 'petal width (cm)']"
            ]
          },
          "metadata": {
            "tags": []
          },
          "execution_count": 20
        }
      ]
    },
    {
      "cell_type": "markdown",
      "metadata": {
        "id": "7qvn3suXVE-a",
        "colab_type": "text"
      },
      "source": [
        "## Best 2 features"
      ]
    },
    {
      "cell_type": "code",
      "metadata": {
        "id": "TJ-nh8zqT6qN",
        "colab_type": "code",
        "colab": {
          "base_uri": "https://localhost:8080/",
          "height": 34
        },
        "outputId": "9db82a19-3efe-43fb-ebed-36e398d1ead0"
      },
      "source": [
        "X.columns[selector.support_].tolist()"
      ],
      "execution_count": 26,
      "outputs": [
        {
          "output_type": "execute_result",
          "data": {
            "text/plain": [
              "['sepal width (cm)', 'petal width (cm)']"
            ]
          },
          "metadata": {
            "tags": []
          },
          "execution_count": 26
        }
      ]
    },
    {
      "cell_type": "code",
      "metadata": {
        "id": "1cogQTRwWd1o",
        "colab_type": "code",
        "colab": {}
      },
      "source": [
        "cols =  ['Number of times pregnant',\n",
        "'Plasma glucose concentration', \n",
        "'Diastolic blood pressure',\n",
        "'Triceps skin fold thickness',\n",
        "'2-Hour serum insulin',\n",
        "'Body mass index',\n",
        "'Diabetes pedigree function',\n",
        "'Age',\n",
        "'Class variable (0 or 1)']"
      ],
      "execution_count": 0,
      "outputs": []
    },
    {
      "cell_type": "code",
      "metadata": {
        "id": "GaWtm28kVmh7",
        "colab_type": "code",
        "colab": {}
      },
      "source": [
        "\n",
        "dataset = pd.read_csv(\"https://raw.githubusercontent.com/jbrownlee/Datasets/master/pima-indians-diabetes.data.csv\", delimiter=\",\",names=cols,header=None)"
      ],
      "execution_count": 0,
      "outputs": []
    },
    {
      "cell_type": "code",
      "metadata": {
        "id": "MmMEkdQvVsDp",
        "colab_type": "code",
        "colab": {
          "base_uri": "https://localhost:8080/",
          "height": 34
        },
        "outputId": "77a22992-5d0e-478e-a1d3-15c714dce3b8"
      },
      "source": [
        "dataset.isnull().sum()[dataset.isnull().sum() > 0]"
      ],
      "execution_count": 34,
      "outputs": [
        {
          "output_type": "execute_result",
          "data": {
            "text/plain": [
              "Series([], dtype: int64)"
            ]
          },
          "metadata": {
            "tags": []
          },
          "execution_count": 34
        }
      ]
    },
    {
      "cell_type": "code",
      "metadata": {
        "id": "qRdMV7NmVz_q",
        "colab_type": "code",
        "colab": {
          "base_uri": "https://localhost:8080/",
          "height": 221
        },
        "outputId": "d9ee9bb3-9f89-40ce-d84d-f9ac5eea1394"
      },
      "source": [
        "dataset.head()"
      ],
      "execution_count": 42,
      "outputs": [
        {
          "output_type": "execute_result",
          "data": {
            "text/html": [
              "<div>\n",
              "<style scoped>\n",
              "    .dataframe tbody tr th:only-of-type {\n",
              "        vertical-align: middle;\n",
              "    }\n",
              "\n",
              "    .dataframe tbody tr th {\n",
              "        vertical-align: top;\n",
              "    }\n",
              "\n",
              "    .dataframe thead th {\n",
              "        text-align: right;\n",
              "    }\n",
              "</style>\n",
              "<table border=\"1\" class=\"dataframe\">\n",
              "  <thead>\n",
              "    <tr style=\"text-align: right;\">\n",
              "      <th></th>\n",
              "      <th>Number of times pregnant</th>\n",
              "      <th>Plasma glucose concentration</th>\n",
              "      <th>Diastolic blood pressure</th>\n",
              "      <th>Triceps skin fold thickness</th>\n",
              "      <th>2-Hour serum insulin</th>\n",
              "      <th>Body mass index</th>\n",
              "      <th>Diabetes pedigree function</th>\n",
              "      <th>Age</th>\n",
              "      <th>Class variable (0 or 1)</th>\n",
              "    </tr>\n",
              "  </thead>\n",
              "  <tbody>\n",
              "    <tr>\n",
              "      <th>0</th>\n",
              "      <td>6</td>\n",
              "      <td>148</td>\n",
              "      <td>72</td>\n",
              "      <td>35</td>\n",
              "      <td>0</td>\n",
              "      <td>33.6</td>\n",
              "      <td>0.627</td>\n",
              "      <td>50</td>\n",
              "      <td>1</td>\n",
              "    </tr>\n",
              "    <tr>\n",
              "      <th>1</th>\n",
              "      <td>1</td>\n",
              "      <td>85</td>\n",
              "      <td>66</td>\n",
              "      <td>29</td>\n",
              "      <td>0</td>\n",
              "      <td>26.6</td>\n",
              "      <td>0.351</td>\n",
              "      <td>31</td>\n",
              "      <td>0</td>\n",
              "    </tr>\n",
              "    <tr>\n",
              "      <th>2</th>\n",
              "      <td>8</td>\n",
              "      <td>183</td>\n",
              "      <td>64</td>\n",
              "      <td>0</td>\n",
              "      <td>0</td>\n",
              "      <td>23.3</td>\n",
              "      <td>0.672</td>\n",
              "      <td>32</td>\n",
              "      <td>1</td>\n",
              "    </tr>\n",
              "    <tr>\n",
              "      <th>3</th>\n",
              "      <td>1</td>\n",
              "      <td>89</td>\n",
              "      <td>66</td>\n",
              "      <td>23</td>\n",
              "      <td>94</td>\n",
              "      <td>28.1</td>\n",
              "      <td>0.167</td>\n",
              "      <td>21</td>\n",
              "      <td>0</td>\n",
              "    </tr>\n",
              "    <tr>\n",
              "      <th>4</th>\n",
              "      <td>0</td>\n",
              "      <td>137</td>\n",
              "      <td>40</td>\n",
              "      <td>35</td>\n",
              "      <td>168</td>\n",
              "      <td>43.1</td>\n",
              "      <td>2.288</td>\n",
              "      <td>33</td>\n",
              "      <td>1</td>\n",
              "    </tr>\n",
              "  </tbody>\n",
              "</table>\n",
              "</div>"
            ],
            "text/plain": [
              "   Number of times pregnant  ...  Class variable (0 or 1)\n",
              "0                         6  ...                        1\n",
              "1                         1  ...                        0\n",
              "2                         8  ...                        1\n",
              "3                         1  ...                        0\n",
              "4                         0  ...                        1\n",
              "\n",
              "[5 rows x 9 columns]"
            ]
          },
          "metadata": {
            "tags": []
          },
          "execution_count": 42
        }
      ]
    },
    {
      "cell_type": "code",
      "metadata": {
        "id": "ngO8YSN_W_6_",
        "colab_type": "code",
        "colab": {}
      },
      "source": [
        "X = dataset.drop('Class variable (0 or 1)',axis=1)\n",
        "Y = dataset['Class variable (0 or 1)']"
      ],
      "execution_count": 0,
      "outputs": []
    },
    {
      "cell_type": "code",
      "metadata": {
        "id": "iGnRryicXddJ",
        "colab_type": "code",
        "colab": {
          "base_uri": "https://localhost:8080/",
          "height": 306
        },
        "outputId": "ffe72f21-7c38-4238-bf1b-ba18c755273e"
      },
      "source": [
        "estimator = linear_model.LogisticRegression()\n",
        "\n",
        "selector = GeneticSelectionCV(estimator,\n",
        "                                  cv=5,\n",
        "                                  verbose=1,\n",
        "                                  scoring=\"accuracy\",\n",
        "                                  max_features=5,\n",
        "                                  n_population=50,\n",
        "                                  crossover_proba=0.5,\n",
        "                                  mutation_proba=0.2,\n",
        "                                  n_generations=40,\n",
        "                                  crossover_independent_proba=0.5,\n",
        "                                  mutation_independent_proba=0.05,\n",
        "                                  tournament_size=3,\n",
        "                                  n_gen_no_change=10,\n",
        "                                  caching=True,\n",
        "                                  n_jobs=-1)\n",
        "selector = selector.fit(X, Y)\n",
        "\n",
        "print(selector.support_)"
      ],
      "execution_count": 46,
      "outputs": [
        {
          "output_type": "stream",
          "text": [
            "Selecting features with genetic algorithm.\n",
            "gen\tnevals\tavg                            \tstd                            \tmin              \tmax                    \n",
            "0  \t50    \t[-1199.36562397     4.14      ]\t[3.24984962e+03 1.26506917e+00]\t[-1.e+04  2.e+00]\t[0.77217554 7.        ]\n",
            "1  \t30    \t[-199.27389492    4.34      ]  \t[1.40010373e+03 8.39285410e-01]\t[-1.e+04  2.e+00]\t[0.77217554 6.        ]\n",
            "2  \t29    \t[-599.28631508    4.38      ]  \t[2.37504873e+03 9.77547953e-01]\t[-1.e+04  2.e+00]\t[0.77217554 7.        ]\n",
            "3  \t25    \t[-599.27819133    4.6       ]  \t[2.37505078e+03 6.63324958e-01]\t[-1.e+04  3.e+00]\t[0.77607164 6.        ]\n",
            "4  \t28    \t[-599.28009388    4.66      ]  \t[2.37505030e+03 6.51459899e-01]\t[-1.e+04  3.e+00]\t[0.77607164 6.        ]\n",
            "5  \t26    \t[-999.30504779    4.96      ]  \t[3.00023165e+03 4.88262225e-01]\t[-1.e+04  4.e+00]\t[0.77607164 6.        ]\n",
            "6  \t25    \t[-199.24405585    4.9       ]  \t[1.40010799e+03 5.00000000e-01]\t[-1.e+04  3.e+00]\t[0.77607164 7.        ]\n",
            "7  \t39    \t[-599.27260148    4.94      ]  \t[2.37505219e+03 5.44426304e-01]\t[-1.e+04  3.e+00]\t[0.77607164 7.        ]\n",
            "8  \t27    \t[0.77474595 4.92      ]        \t[0.00485316 0.2712932 ]        \t[0.74616756 4.        ]\t[0.77607164 5.        ]\n",
            "9  \t34    \t[0.77425074 4.92      ]        \t[0.00624694 0.2712932 ]        \t[0.74616756 4.        ]\t[0.77607164 5.        ]\n",
            "10 \t39    \t[-599.27478822    4.96      ]  \t[2.37505164e+03 4.88262225e-01]\t[-1.e+04  3.e+00]      \t[0.77607164 6.        ]\n",
            "11 \t26    \t[-799.28729072    5.08      ]  \t[2.71314216e+03 2.71293199e-01]\t[-1.e+04  5.e+00]      \t[0.77607164 6.        ]\n",
            "12 \t28    \t[0.77560445 4.96      ]        \t[0.00228877 0.19595918]        \t[0.76439182 4.        ]\t[0.77607164 5.        ]\n",
            "13 \t31    \t[-199.23944979    5.02      ]  \t[1.40010865e+03 1.40000000e-01]\t[-1.e+04  5.e+00]      \t[0.77607164 6.        ]\n",
            "[False  True False  True False  True  True  True]\n"
          ],
          "name": "stdout"
        }
      ]
    },
    {
      "cell_type": "code",
      "metadata": {
        "id": "UNHprp22XueU",
        "colab_type": "code",
        "colab": {
          "base_uri": "https://localhost:8080/",
          "height": 102
        },
        "outputId": "0f5414dd-ea68-42af-fbcc-e1882b0535f3"
      },
      "source": [
        "X.columns[selector.support_].tolist()"
      ],
      "execution_count": 47,
      "outputs": [
        {
          "output_type": "execute_result",
          "data": {
            "text/plain": [
              "['Plasma glucose concentration',\n",
              " 'Triceps skin fold thickness',\n",
              " 'Body mass index',\n",
              " 'Diabetes pedigree function',\n",
              " 'Age']"
            ]
          },
          "metadata": {
            "tags": []
          },
          "execution_count": 47
        }
      ]
    },
    {
      "cell_type": "code",
      "metadata": {
        "id": "n73muK7mX0wM",
        "colab_type": "code",
        "colab": {
          "base_uri": "https://localhost:8080/",
          "height": 272
        },
        "outputId": "a6db8324-83b0-4e3d-9319-3c4c346252d4"
      },
      "source": [
        "from sklearn.ensemble import RandomForestClassifier\n",
        "estimator = RandomForestClassifier(n_estimators=100,random_state=1)\n",
        "\n",
        "selector = GeneticSelectionCV(estimator,\n",
        "                                  cv=5,\n",
        "                                  verbose=1,\n",
        "                                  scoring=\"accuracy\",\n",
        "                                  max_features=5,\n",
        "                                  n_population=50,\n",
        "                                  crossover_proba=0.5,\n",
        "                                  mutation_proba=0.2,\n",
        "                                  n_generations=40,\n",
        "                                  crossover_independent_proba=0.5,\n",
        "                                  mutation_independent_proba=0.05,\n",
        "                                  tournament_size=3,\n",
        "                                  n_gen_no_change=10,\n",
        "                                  caching=True,\n",
        "                                  n_jobs=-1)\n",
        "selector = selector.fit(X, Y)\n",
        "\n",
        "print(selector.support_)"
      ],
      "execution_count": 48,
      "outputs": [
        {
          "output_type": "stream",
          "text": [
            "Selecting features with genetic algorithm.\n",
            "gen\tnevals\tavg                            \tstd                            \tmin              \tmax                    \n",
            "0  \t50    \t[-1199.38096494     4.        ]\t[3.24984396e+03 1.46969385e+00]\t[-1.e+04  1.e+00]\t[0.76956965 7.        ]\n",
            "1  \t30    \t[-599.32071878    4.02      ]  \t[2.37504004e+03 1.14000000e+00]\t[-1.e+04  1.e+00]\t[0.77087684 6.        ]\n",
            "2  \t33    \t[-799.3142285    4.4      ]    \t[2.71313422e+03 8.24621125e-01]\t[-1.e+04  2.e+00]\t[0.77087684 6.        ]\n",
            "3  \t26    \t[-999.32174943    4.76      ]  \t[3.00022608e+03 7.08801806e-01]\t[-1.e+04  3.e+00]\t[0.77087684 6.        ]\n",
            "4  \t30    \t[-999.31604719    4.9       ]  \t[3.00022798e+03 5.74456265e-01]\t[-1.e+04  3.e+00]\t[0.76956965 6.        ]\n",
            "5  \t38    \t[-199.24974637    4.98      ]  \t[1.40010718e+03 2.44131112e-01]\t[-1.e+04  4.e+00]\t[0.76956965 6.        ]\n",
            "6  \t33    \t[-599.27941788    5.        ]  \t[2.37505047e+03 3.46410162e-01]\t[-1.e+04  4.e+00]\t[0.76956965 6.        ]\n",
            "7  \t25    \t[0.76956965 5.        ]        \t[1.11022302e-16 0.00000000e+00]\t[0.76956965 5.        ]\t[0.76956965 5.        ]\n",
            "8  \t30    \t[-199.24623801    5.        ]  \t[1.40010768e+03 2.00000000e-01]\t[-1.e+04  4.e+00]      \t[0.76956965 6.        ]\n",
            "9  \t37    \t[0.76847568 4.96      ]        \t[0.00538492 0.19595918]        \t[0.73959766 4.        ]\t[0.76956965 5.        ]\n",
            "10 \t35    \t[-399.26170766    5.02      ]  \t[1.95974250e+03 2.44131112e-01]\t[-1.e+04  4.e+00]      \t[0.76956965 6.        ]\n",
            "11 \t32    \t[-199.24741024    4.96      ]  \t[1.40010751e+03 2.80000000e-01]\t[-1.e+04  4.e+00]      \t[0.76956965 6.        ]\n",
            "[False  True  True False False  True  True  True]\n"
          ],
          "name": "stdout"
        }
      ]
    }
  ]
}